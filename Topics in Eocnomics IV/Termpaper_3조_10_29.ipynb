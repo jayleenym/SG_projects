{
 "cells": [
  {
   "cell_type": "markdown",
   "metadata": {
    "id": "0zg42TrrMMwO"
   },
   "source": [
    "# 글로벌 이벤트에 따른 경제 구조의 변화 여부 및 국가 간 주가 동조화 현상 분석\n",
    "### – 산업군별 비교를 중심으로"
   ]
  },
  {
   "cell_type": "code",
   "execution_count": 1,
   "metadata": {
    "id": "ysavlXfEMMwS"
   },
   "outputs": [],
   "source": [
    "import pandas as pd\n",
    "import numpy as np\n",
    "import os\n",
    "import matplotlib.pyplot as plt\n",
    "%matplotlib inline\n",
    "\n",
    "import yfinance as yf"
   ]
  },
  {
   "cell_type": "markdown",
   "metadata": {
    "id": "2s5F_du4F5vN"
   },
   "source": [
    "#### Investing.com에서 분류한 12가지 Sector의 분류데이터를 사용\n",
    "- 2020년 10월 28일 기준 Sector 데이터"
   ]
  },
  {
   "cell_type": "code",
   "execution_count": 2,
   "metadata": {
    "id": "VkojMUg2MMwo"
   },
   "outputs": [],
   "source": [
    "JPN = pd.read_csv(\"./일본 섹터별 분류 데이터.csv\", encoding = 'utf-8') # 4자리수, .T ^N225\n",
    "USA = pd.read_csv(\"./미국 섹터별 분류 데이터.csv\", encoding = 'utf-8') # alphabet ^DJI\n",
    "CHN = pd.read_csv(\"./중국 섹터별 분류 데이터.csv\", encoding = 'utf-8') # 6자리수, .SS .SZ ^SSEC\n",
    "KOR = pd.read_csv(\"./한국 섹터별 분류 데이터.csv\", encoding = 'utf-8') # 6자리수 .KS .KQ ^KS11\n",
    "\n",
    "JPN.Symbol = JPN.Symbol.astype('str')\n",
    "CHN.Symbol = CHN.Symbol.astype('str')\n",
    "KOR.Symbol = KOR.Symbol.astype('str')\n",
    "\n",
    "KOR.Symbol = KOR.Symbol.apply(lambda x: x.zfill(6))\n",
    "CHN.Symbol = CHN.Symbol.apply(lambda x: x.zfill(6))\n",
    "\n",
    "sectors = list(KOR.Sector.unique())"
   ]
  },
  {
   "cell_type": "code",
   "execution_count": 3,
   "metadata": {
    "id": "sSuVaFTKMMxT"
   },
   "outputs": [
    {
     "data": {
      "text/plain": [
       "['Basic Materials',\n",
       " 'Capital Goods',\n",
       " 'Conglomerates',\n",
       " 'Consumer Cyclical',\n",
       " 'Consumer Non-cyclical',\n",
       " 'Energy',\n",
       " 'Financial',\n",
       " 'Healthcare',\n",
       " 'Services',\n",
       " 'Technology',\n",
       " 'Transportation',\n",
       " 'Utilities']"
      ]
     },
     "execution_count": 3,
     "metadata": {},
     "output_type": "execute_result"
    }
   ],
   "source": [
    "sectors"
   ]
  },
  {
   "cell_type": "code",
   "execution_count": 4,
   "metadata": {
    "id": "YUfQmZRwMMxl"
   },
   "outputs": [],
   "source": [
    "jpn_top5 = pd.DataFrame()\n",
    "usa_top5 = pd.DataFrame()\n",
    "chn_top5 = pd.DataFrame()\n",
    "kor_top5 = pd.DataFrame()\n",
    "\n",
    "for i in range(len(sectors)):\n",
    "    if i == 0:\n",
    "        usa_top5 = USA.loc[USA.Sector == sectors[i]][:5]\n",
    "        jpn_top5 = JPN.loc[JPN.Sector == sectors[i]][:5]\n",
    "        chn_top5 = CHN.loc[CHN.Sector == sectors[i]][:5]\n",
    "        kor_top5 = KOR.loc[KOR.Sector == sectors[i]][:5]\n",
    "    else:\n",
    "        usa_top5 = usa_top5.append(USA.loc[USA.Sector == sectors[i]][:5], ignore_index = True) #BRK.B, BRK.A\n",
    "        jpn_top5 = jpn_top5.append(JPN.loc[JPN.Sector == sectors[i]][:5], ignore_index = True)\n",
    "        chn_top5 = chn_top5.append(CHN.loc[CHN.Sector == sectors[i]][:5], ignore_index = True)\n",
    "        kor_top5 = kor_top5.append(KOR.loc[KOR.Sector == sectors[i]][:5], ignore_index = True)"
   ]
  },
  {
   "cell_type": "markdown",
   "metadata": {
    "id": "v2dQxjvTMMwn"
   },
   "source": [
    "||tick|거래소|시장 지수|\n",
    "|--|---|----|-----|\n",
    "|일본|4자리수|.T|닛케이(^N225)|\n",
    "|미국|알파벳|(필요없음)|다우(^DJI)|\n",
    "|중국|6자리수|.SS/.SZ|상하이종합지수(^SSEC)|\n",
    "|한국|6자리수|.KS/.KQ|코스피(^KS11)|"
   ]
  },
  {
   "cell_type": "markdown",
   "metadata": {
    "id": "BnK0M4w9GGYb"
   },
   "source": [
    "#### PCA를 활용하여 글로벌 이벤트 발생 시기에 따른 국가별 주도 산업군을 알아봄"
   ]
  },
  {
   "cell_type": "code",
   "execution_count": 5,
   "metadata": {
    "id": "72Ps6S8fh3rl"
   },
   "outputs": [],
   "source": [
    "from sklearn.decomposition import PCA"
   ]
  },
  {
   "cell_type": "code",
   "execution_count": 6,
   "metadata": {
    "id": "nV8BI0iL2IOg"
   },
   "outputs": [],
   "source": [
    "def Data_processing(sdate, edate, country, df):\n",
    "    new = pd.DataFrame()\n",
    "    if country =='USA':\n",
    "    # new[\"^DJI\"] = yf.download(\"^DJI\", start = sdate, end = edate)).Close\n",
    "        for t in list(df.Symbol):\n",
    "            try:\n",
    "                price = yf.download(t, start = sdate, end = edate)\n",
    "                new[t] = price.Close\n",
    "            except:\n",
    "                continue\n",
    "\n",
    "    elif country == \"JPN\":\n",
    "        for t in list(df.Symbol):\n",
    "            try:\n",
    "                price = yf.download(t+\".T\", start = sdate, end = edate)\n",
    "                new[t] = price.Close\n",
    "            except:\n",
    "                continue\n",
    "\n",
    "    elif country == \"CHN\":\n",
    "        for t in list(df.Symbol):\n",
    "            try:\n",
    "                price = yf.download(t+\".SS\", start = sdate, end = edate)\n",
    "          \n",
    "                if len(price) == 0:\n",
    "                    price = yf.download(t+\".SZ\", start = sdate, end = edate)\n",
    "                new[t] = price.Close\n",
    "            except:\n",
    "                continue\n",
    "    else:\n",
    "        for t in list(df.Symbol):\n",
    "            try:\n",
    "                price = yf.download(t+\".KS\", start = sdate, end = edate)\n",
    "\n",
    "                if len(price) == 0:\n",
    "                    price = yf.download(t+\".KQ\", start = sdate, end = edate)\n",
    "                new[t] = price.Close\n",
    "            except:\n",
    "                continue\n",
    "    return new\n",
    "\n",
    "\n",
    "def PCA_withTerm(df, file):\n",
    "\n",
    "    # print(new.shape)\n",
    "    df = df.apply(lambda x: (x-x.mean()) / x.std()).dropna(axis = 1)\n",
    "    # print(new.shape)\n",
    "\n",
    "    new = df.copy(deep = True)\n",
    "    pca = PCA().fit(new)\n",
    "\n",
    "    # print(\"Cumsum ratio: \", np.cumsum(pca.explained_variance_ratio_))\n",
    "\n",
    "    pca_90, pca_95 = PCA(0.90).fit(new), PCA(0.95).fit(new)\n",
    "    print(\"PCA >= 90% components: \", pca_90.n_components_, \"\\nPCA >= 95% components: \", pca_95.n_components_)\n",
    "\n",
    "    pca = PCA().fit(new)\n",
    "    plt.plot(np.cumsum(pca.explained_variance_ratio_))\n",
    "    plt.xlabel('number of components')\n",
    "    plt.ylabel('cumulative explained variance')\n",
    "    plt.axhline(0.9, c='r', ls='--' )\n",
    "    plt.axhline(0.95, c='r', ls='--' )\n",
    "    plt.axvline(pca_90.n_components_, c='g', ls='--' )\n",
    "    plt.axvline(pca_95.n_components_, c='g', ls='--' )\n",
    "\n",
    "    n = (pca_90.n_components_ + pca_95.n_components_) // 2\n",
    "    pca = PCA(n_components = n)\n",
    "    pca.fit(new)\n",
    "    print(\"PCA explained variance: \\n\", pca.explained_variance_)\n",
    "    print(\"PCA explained variance ratio: \\n\", pca.explained_variance_ratio_)\n",
    "\n",
    "\n",
    "    projected = pca.fit_transform(new)\n",
    "    corr = [np.corrcoef(projected[:, 0], new[tick])[0, 1] for tick in new.columns]\n",
    "\n",
    "    data = pd.DataFrame({\"Symbol\": new.columns, \"Corr\": corr})\n",
    "    data = data.sort_values(by = 'Corr', ascending = False).reset_index(drop = True)\n",
    "    data = data.merge(file[['Symbol',\"Name\", 'Sector']], how = 'left', on = 'Symbol')\n",
    "    \n",
    "    return data"
   ]
  },
  {
   "cell_type": "markdown",
   "metadata": {
    "id": "JMnhem_XPKlI"
   },
   "source": [
    "-----\n",
    "## 2000-2001년\n",
    "### 한국 외환위기 이후, 미국 911 테러"
   ]
  },
  {
   "cell_type": "code",
   "execution_count": 7,
   "metadata": {
    "id": "rH44C-6gMMxr"
   },
   "outputs": [],
   "source": [
    "START_DATE = '2000-01-01'\n",
    "END_DATE = \"2001-12-31\""
   ]
  },
  {
   "cell_type": "markdown",
   "metadata": {
    "id": "f4tJmphPc5Lj"
   },
   "source": [
    "#### 2001년 미국\n",
    "- 20개 데이터의 START_DATE가 맞지 않음"
   ]
  },
  {
   "cell_type": "code",
   "execution_count": 8,
   "metadata": {
    "colab": {
     "base_uri": "https://localhost:8080/"
    },
    "id": "ips1kyTOaBO7",
    "outputId": "97dddda9-e6a6-4c10-9b60-8fd7797d277c"
   },
   "outputs": [
    {
     "name": "stdout",
     "output_type": "stream",
     "text": [
      "[*********************100%***********************]  1 of 1 completed\n"
     ]
    }
   ],
   "source": [
    "snp = yf.download(\"^GSPC\", START_DATE, END_DATE).Close"
   ]
  },
  {
   "cell_type": "code",
   "execution_count": 9,
   "metadata": {
    "colab": {
     "base_uri": "https://localhost:8080/"
    },
    "id": "uAguOlCatpqL",
    "outputId": "9433b85f-9b0b-4061-c363-5749a4ac8256",
    "scrolled": true
   },
   "outputs": [
    {
     "name": "stdout",
     "output_type": "stream",
     "text": [
      "[*********************100%***********************]  1 of 1 completed\n",
      "[*********************100%***********************]  1 of 1 completed\n",
      "\n",
      "1 Failed download:\n",
      "- BHPLF: Data doesn't exist for startDate = 946652400, endDate = 1009724400\n",
      "[*********************100%***********************]  1 of 1 completed\n",
      "[*********************100%***********************]  1 of 1 completed\n",
      "\n",
      "1 Failed download:\n",
      "- BBL: Data doesn't exist for startDate = 946652400, endDate = 1009724400\n",
      "[*********************100%***********************]  1 of 1 completed\n",
      "[*********************100%***********************]  1 of 1 completed\n",
      "[*********************100%***********************]  1 of 1 completed\n",
      "[*********************100%***********************]  1 of 1 completed\n",
      "[*********************100%***********************]  1 of 1 completed\n",
      "[*********************100%***********************]  1 of 1 completed\n",
      "[*********************100%***********************]  1 of 1 completed\n",
      "[*********************100%***********************]  1 of 1 completed\n",
      "\n",
      "1 Failed download:\n",
      "- SXC: Data doesn't exist for startDate = 946652400, endDate = 1009724400\n",
      "[*********************100%***********************]  1 of 1 completed\n",
      "[*********************100%***********************]  1 of 1 completed\n",
      "\n",
      "1 Failed download:\n",
      "- TSLA: Data doesn't exist for startDate = 946652400, endDate = 1009724400\n",
      "[*********************100%***********************]  1 of 1 completed\n",
      "\n",
      "1 Failed download:\n",
      "- LVMUY: Data doesn't exist for startDate = 946652400, endDate = 1009724400\n",
      "[*********************100%***********************]  1 of 1 completed\n",
      "[*********************100%***********************]  1 of 1 completed\n",
      "\n",
      "1 Failed download:\n",
      "- TOYOF: Data doesn't exist for startDate = 946652400, endDate = 1009724400\n",
      "[*********************100%***********************]  1 of 1 completed\n",
      "[*********************100%***********************]  1 of 1 completed\n",
      "[*********************100%***********************]  1 of 1 completed\n",
      "\n",
      "1 Failed download:\n",
      "- NSRGF: Data doesn't exist for startDate = 946652400, endDate = 1009724400\n",
      "[*********************100%***********************]  1 of 1 completed\n",
      "[*********************100%***********************]  1 of 1 completed\n",
      "[*********************100%***********************]  1 of 1 completed\n",
      "[*********************100%***********************]  1 of 1 completed\n",
      "[*********************100%***********************]  1 of 1 completed\n",
      "[*********************100%***********************]  1 of 1 completed\n",
      "[*********************100%***********************]  1 of 1 completed\n",
      "\n",
      "1 Failed download:\n",
      "- RYDAF: Data doesn't exist for startDate = 946652400, endDate = 1009724400\n",
      "[*********************100%***********************]  1 of 1 completed\n",
      "\n",
      "1 Failed download:\n",
      "- RDSA: No data found, symbol may be delisted\n",
      "[*********************100%***********************]  1 of 1 completed\n",
      "\n",
      "1 Failed download:\n",
      "- BRKB: No data found, symbol may be delisted\n",
      "[*********************100%***********************]  1 of 1 completed\n",
      "\n",
      "1 Failed download:\n",
      "- BRKA: No data found, symbol may be delisted\n",
      "[*********************100%***********************]  1 of 1 completed\n",
      "[*********************100%***********************]  1 of 1 completed\n",
      "[*********************100%***********************]  1 of 1 completed\n",
      "\n",
      "1 Failed download:\n",
      "- MA: Data doesn't exist for startDate = 946652400, endDate = 1009724400\n",
      "[*********************100%***********************]  1 of 1 completed\n",
      "[*********************100%***********************]  1 of 1 completed\n",
      "\n",
      "1 Failed download:\n",
      "- RHHBY: Data doesn't exist for startDate = 946652400, endDate = 1009724400\n",
      "[*********************100%***********************]  1 of 1 completed\n",
      "\n",
      "1 Failed download:\n",
      "- RHHVF: Data doesn't exist for startDate = 946652400, endDate = 1009724400\n",
      "[*********************100%***********************]  1 of 1 completed\n",
      "[*********************100%***********************]  1 of 1 completed\n",
      "[*********************100%***********************]  1 of 1 completed\n",
      "[*********************100%***********************]  1 of 1 completed\n",
      "\n",
      "1 Failed download:\n",
      "- BABA: Data doesn't exist for startDate = 946652400, endDate = 1009724400\n",
      "[*********************100%***********************]  1 of 1 completed\n",
      "\n",
      "1 Failed download:\n",
      "- V: Data doesn't exist for startDate = 946652400, endDate = 1009724400\n",
      "[*********************100%***********************]  1 of 1 completed\n",
      "[*********************100%***********************]  1 of 1 completed\n",
      "[*********************100%***********************]  1 of 1 completed\n",
      "[*********************100%***********************]  1 of 1 completed\n",
      "[*********************100%***********************]  1 of 1 completed\n",
      "\n",
      "1 Failed download:\n",
      "- GOOGL: Data doesn't exist for startDate = 946652400, endDate = 1009724400\n",
      "[*********************100%***********************]  1 of 1 completed\n",
      "\n",
      "1 Failed download:\n",
      "- GOOG: Data doesn't exist for startDate = 946652400, endDate = 1009724400\n",
      "[*********************100%***********************]  1 of 1 completed\n",
      "\n",
      "1 Failed download:\n",
      "- FB: Data doesn't exist for startDate = 946652400, endDate = 1009724400\n",
      "[*********************100%***********************]  1 of 1 completed\n",
      "[*********************100%***********************]  1 of 1 completed\n",
      "[*********************100%***********************]  1 of 1 completed\n",
      "[*********************100%***********************]  1 of 1 completed\n",
      "[*********************100%***********************]  1 of 1 completed\n",
      "[*********************100%***********************]  1 of 1 completed\n",
      "[*********************100%***********************]  1 of 1 completed\n",
      "[*********************100%***********************]  1 of 1 completed\n",
      "\n",
      "1 Failed download:\n",
      "- DOGEF: Data doesn't exist for startDate = 946652400, endDate = 1009724400\n",
      "[*********************100%***********************]  1 of 1 completed\n",
      "[*********************100%***********************]  1 of 1 completed\n"
     ]
    }
   ],
   "source": [
    "usa01 = Data_processing(START_DATE, END_DATE, \"USA\",usa_top5)"
   ]
  },
  {
   "cell_type": "code",
   "execution_count": 10,
   "metadata": {
    "colab": {
     "base_uri": "https://localhost:8080/",
     "height": 413
    },
    "id": "cocxEwMraFw4",
    "outputId": "47a47a8e-d4a3-4828-bd21-ffbc9608408d"
   },
   "outputs": [
    {
     "name": "stdout",
     "output_type": "stream",
     "text": [
      "PCA >= 90% components:  7 \n",
      "PCA >= 95% components:  12\n",
      "PCA explained variance: \n",
      " [17.59307596  4.35044719  4.05628171  2.55584486  1.96541078  1.15831284\n",
      "  0.8331871   0.57100931  0.43907718]\n",
      "PCA explained variance ratio: \n",
      " [0.48869655 0.12084576 0.11267449 0.07099569 0.05459474 0.03217536\n",
      " 0.02314409 0.01586137 0.01219659]\n"
     ]
    },
    {
     "data": {
      "image/png": "[encoded data removed]",
      "text/plain": [
       "<Figure size 432x288 with 1 Axes>"
      ]
     },
     "metadata": {
      "needs_background": "light"
     },
     "output_type": "display_data"
    }
   ],
   "source": [
    "USA2001 = PCA_withTerm(usa01, usa_top5)"
   ]
  },
  {
   "cell_type": "code",
   "execution_count": 11,
   "metadata": {
    "colab": {
     "base_uri": "https://localhost:8080/",
     "height": 196
    },
    "id": "aO4fpG89oeR3",
    "outputId": "67a1b220-e578-40ae-ac20-c757af9293cf"
   },
   "outputs": [
    {
     "data": {
      "text/html": [
       "<div>\n",
       "<style scoped>\n",
       "    .dataframe tbody tr th:only-of-type {\n",
       "        vertical-align: middle;\n",
       "    }\n",
       "\n",
       "    .dataframe tbody tr th {\n",
       "        vertical-align: top;\n",
       "    }\n",
       "\n",
       "    .dataframe thead th {\n",
       "        text-align: right;\n",
       "    }\n",
       "</style>\n",
       "<table border=\"1\" class=\"dataframe\">\n",
       "  <thead>\n",
       "    <tr style=\"text-align: right;\">\n",
       "      <th></th>\n",
       "      <th>Symbol</th>\n",
       "      <th>Corr</th>\n",
       "      <th>Name</th>\n",
       "      <th>Sector</th>\n",
       "    </tr>\n",
       "  </thead>\n",
       "  <tbody>\n",
       "    <tr>\n",
       "      <th>0</th>\n",
       "      <td>AMZN</td>\n",
       "      <td>0.962369</td>\n",
       "      <td>Amazon.com</td>\n",
       "      <td>Services</td>\n",
       "    </tr>\n",
       "    <tr>\n",
       "      <th>1</th>\n",
       "      <td>ASML</td>\n",
       "      <td>0.944911</td>\n",
       "      <td>ASML  ADR</td>\n",
       "      <td>Capital Goods</td>\n",
       "    </tr>\n",
       "    <tr>\n",
       "      <th>2</th>\n",
       "      <td>AAPL</td>\n",
       "      <td>0.914862</td>\n",
       "      <td>Apple</td>\n",
       "      <td>Technology</td>\n",
       "    </tr>\n",
       "    <tr>\n",
       "      <th>3</th>\n",
       "      <td>TM</td>\n",
       "      <td>0.891356</td>\n",
       "      <td>Toyota Motor ADR</td>\n",
       "      <td>Consumer Cyclical</td>\n",
       "    </tr>\n",
       "    <tr>\n",
       "      <th>4</th>\n",
       "      <td>MSFT</td>\n",
       "      <td>0.749528</td>\n",
       "      <td>Microsoft</td>\n",
       "      <td>Technology</td>\n",
       "    </tr>\n",
       "  </tbody>\n",
       "</table>\n",
       "</div>"
      ],
      "text/plain": [
       "  Symbol      Corr              Name             Sector\n",
       "0   AMZN  0.962369        Amazon.com           Services\n",
       "1   ASML  0.944911         ASML  ADR      Capital Goods\n",
       "2   AAPL  0.914862             Apple         Technology\n",
       "3     TM  0.891356  Toyota Motor ADR  Consumer Cyclical\n",
       "4   MSFT  0.749528         Microsoft         Technology"
      ]
     },
     "execution_count": 11,
     "metadata": {},
     "output_type": "execute_result"
    }
   ],
   "source": [
    "USA2001.head()"
   ]
  },
  {
   "cell_type": "code",
   "execution_count": 12,
   "metadata": {
    "colab": {
     "base_uri": "https://localhost:8080/"
    },
    "id": "vrSvsTGb1g6-",
    "outputId": "ea6aa45b-6f63-4dc0-9668-3674bacfd804"
   },
   "outputs": [
    {
     "data": {
      "text/plain": [
       "Capital Goods            5\n",
       "Transportation           5\n",
       "Consumer Non-cyclical    4\n",
       "Utilities                4\n",
       "Healthcare               3\n",
       "Services                 3\n",
       "Basic Materials          3\n",
       "Energy                   2\n",
       "Technology               2\n",
       "Consumer Cyclical        2\n",
       "Financial                2\n",
       "Conglomerates            1\n",
       "Name: Sector, dtype: int64"
      ]
     },
     "execution_count": 12,
     "metadata": {},
     "output_type": "execute_result"
    }
   ],
   "source": [
    "USA2001.Sector.value_counts()"
   ]
  },
  {
   "cell_type": "markdown",
   "metadata": {
    "id": "YGaWAAMNm5fD"
   },
   "source": [
    "#### 2001년 일본\n",
    "- 5개 데이터의 START_DATE가 맞지 않음"
   ]
  },
  {
   "cell_type": "code",
   "execution_count": 13,
   "metadata": {
    "colab": {
     "base_uri": "https://localhost:8080/"
    },
    "id": "NZaNMJKBaH5F",
    "outputId": "f3d1ac5c-f520-4ef2-f46d-4a3fc3ca146b"
   },
   "outputs": [
    {
     "name": "stdout",
     "output_type": "stream",
     "text": [
      "[*********************100%***********************]  1 of 1 completed\n"
     ]
    }
   ],
   "source": [
    "nik = yf.download(\"^N225\", START_DATE, END_DATE).Close"
   ]
  },
  {
   "cell_type": "code",
   "execution_count": 14,
   "metadata": {
    "colab": {
     "base_uri": "https://localhost:8080/"
    },
    "id": "sxTMijuNaNJJ",
    "outputId": "06fb51e9-f37b-48c2-db93-56cd5288f7b3",
    "scrolled": true
   },
   "outputs": [
    {
     "name": "stdout",
     "output_type": "stream",
     "text": [
      "[*********************100%***********************]  1 of 1 completed\n",
      "[*********************100%***********************]  1 of 1 completed\n",
      "[*********************100%***********************]  1 of 1 completed\n",
      "[*********************100%***********************]  1 of 1 completed\n",
      "[*********************100%***********************]  1 of 1 completed\n",
      "[*********************100%***********************]  1 of 1 completed\n",
      "[*********************100%***********************]  1 of 1 completed\n",
      "[*********************100%***********************]  1 of 1 completed\n",
      "[*********************100%***********************]  1 of 1 completed\n",
      "[*********************100%***********************]  1 of 1 completed\n",
      "[*********************100%***********************]  1 of 1 completed\n",
      "[*********************100%***********************]  1 of 1 completed\n",
      "[*********************100%***********************]  1 of 1 completed\n",
      "[*********************100%***********************]  1 of 1 completed\n",
      "[*********************100%***********************]  1 of 1 completed\n",
      "[*********************100%***********************]  1 of 1 completed\n",
      "[*********************100%***********************]  1 of 1 completed\n",
      "[*********************100%***********************]  1 of 1 completed\n",
      "[*********************100%***********************]  1 of 1 completed\n",
      "[*********************100%***********************]  1 of 1 completed\n",
      "[*********************100%***********************]  1 of 1 completed\n",
      "[*********************100%***********************]  1 of 1 completed\n",
      "[*********************100%***********************]  1 of 1 completed\n",
      "[*********************100%***********************]  1 of 1 completed\n",
      "[*********************100%***********************]  1 of 1 completed\n",
      "[*********************100%***********************]  1 of 1 completed\n",
      "\n",
      "1 Failed download:\n",
      "- 5019.T: Data doesn't exist for startDate = 946652400, endDate = 1009724400\n",
      "[*********************100%***********************]  1 of 1 completed\n",
      "[*********************100%***********************]  1 of 1 completed\n",
      "\n",
      "1 Failed download:\n",
      "- 8306.T: Data doesn't exist for startDate = 946652400, endDate = 1009724400\n",
      "[*********************100%***********************]  1 of 1 completed\n",
      "[*********************100%***********************]  1 of 1 completed\n",
      "\n",
      "1 Failed download:\n",
      "- 8766.T: Data doesn't exist for startDate = 946652400, endDate = 1009724400\n",
      "[*********************100%***********************]  1 of 1 completed\n",
      "\n",
      "1 Failed download:\n",
      "- 8411.T: Data doesn't exist for startDate = 946652400, endDate = 1009724400\n",
      "[*********************100%***********************]  1 of 1 completed\n",
      "\n",
      "1 Failed download:\n",
      "- 7182.T: Data doesn't exist for startDate = 946652400, endDate = 1009724400\n",
      "[*********************100%***********************]  1 of 1 completed\n",
      "[*********************100%***********************]  1 of 1 completed\n",
      "[*********************100%***********************]  1 of 1 completed\n",
      "[*********************100%***********************]  1 of 1 completed\n",
      "[*********************100%***********************]  1 of 1 completed\n",
      "[*********************100%***********************]  1 of 1 completed\n",
      "[*********************100%***********************]  1 of 1 completed\n",
      "[*********************100%***********************]  1 of 1 completed\n",
      "[*********************100%***********************]  1 of 1 completed\n",
      "[*********************100%***********************]  1 of 1 completed\n",
      "\n",
      "1 Failed download:\n",
      "- 6098.T: Data doesn't exist for startDate = 946652400, endDate = 1009724400\n",
      "[*********************100%***********************]  1 of 1 completed\n",
      "[*********************100%***********************]  1 of 1 completed\n",
      "[*********************100%***********************]  1 of 1 completed\n",
      "\n",
      "1 Failed download:\n",
      "- 2413.T: Data doesn't exist for startDate = 946652400, endDate = 1009724400\n",
      "[*********************100%***********************]  1 of 1 completed\n",
      "[*********************100%***********************]  1 of 1 completed\n",
      "[*********************100%***********************]  1 of 1 completed\n",
      "[*********************100%***********************]  1 of 1 completed\n",
      "[*********************100%***********************]  1 of 1 completed\n",
      "\n",
      "1 Failed download:\n",
      "- 9143.T: Data doesn't exist for startDate = 946652400, endDate = 1009724400\n",
      "[*********************100%***********************]  1 of 1 completed\n",
      "[*********************100%***********************]  1 of 1 completed\n",
      "[*********************100%***********************]  1 of 1 completed\n",
      "[*********************100%***********************]  1 of 1 completed\n",
      "[*********************100%***********************]  1 of 1 completed\n",
      "[*********************100%***********************]  1 of 1 completed\n",
      "[*********************100%***********************]  1 of 1 completed\n"
     ]
    }
   ],
   "source": [
    "jpn01 = Data_processing(START_DATE, END_DATE, \"JPN\", jpn_top5)"
   ]
  },
  {
   "cell_type": "code",
   "execution_count": 15,
   "metadata": {
    "colab": {
     "base_uri": "https://localhost:8080/",
     "height": 413
    },
    "id": "GPd-yK2Sr41p",
    "outputId": "58b67c64-28f1-4466-ade9-921197e84dea"
   },
   "outputs": [
    {
     "name": "stdout",
     "output_type": "stream",
     "text": [
      "PCA >= 90% components:  8 \n",
      "PCA >= 95% components:  11\n",
      "PCA explained variance: \n",
      " [14.23488107  4.84723952  3.21315116  1.25112956  1.16623162  0.72001774\n",
      "  0.62844308  0.54310044  0.46728299]\n",
      "PCA explained variance ratio: \n",
      " [0.49085797 0.16714619 0.11079832 0.0431424  0.04021488 0.0248282\n",
      " 0.02167045 0.0187276  0.01611321]\n"
     ]
    },
    {
     "data": {
      "image/png": "[encoded data removed]",
      "text/plain": [
       "<Figure size 432x288 with 1 Axes>"
      ]
     },
     "metadata": {
      "needs_background": "light"
     },
     "output_type": "display_data"
    }
   ],
   "source": [
    "JPN2001 = PCA_withTerm(jpn01, jpn_top5)"
   ]
  },
  {
   "cell_type": "code",
   "execution_count": 16,
   "metadata": {
    "colab": {
     "base_uri": "https://localhost:8080/",
     "height": 196
    },
    "id": "FPwj9ayEucVY",
    "outputId": "7af43fb2-435a-496e-c93c-66f2a2afab79"
   },
   "outputs": [
    {
     "data": {
      "text/html": [
       "<div>\n",
       "<style scoped>\n",
       "    .dataframe tbody tr th:only-of-type {\n",
       "        vertical-align: middle;\n",
       "    }\n",
       "\n",
       "    .dataframe tbody tr th {\n",
       "        vertical-align: top;\n",
       "    }\n",
       "\n",
       "    .dataframe thead th {\n",
       "        text-align: right;\n",
       "    }\n",
       "</style>\n",
       "<table border=\"1\" class=\"dataframe\">\n",
       "  <thead>\n",
       "    <tr style=\"text-align: right;\">\n",
       "      <th></th>\n",
       "      <th>Symbol</th>\n",
       "      <th>Corr</th>\n",
       "      <th>Name</th>\n",
       "      <th>Sector</th>\n",
       "    </tr>\n",
       "  </thead>\n",
       "  <tbody>\n",
       "    <tr>\n",
       "      <th>0</th>\n",
       "      <td>6954</td>\n",
       "      <td>0.927480</td>\n",
       "      <td>Fanuc Corp.</td>\n",
       "      <td>Capital Goods</td>\n",
       "    </tr>\n",
       "    <tr>\n",
       "      <th>1</th>\n",
       "      <td>4503</td>\n",
       "      <td>0.926776</td>\n",
       "      <td>Astellas Pharma Inc.</td>\n",
       "      <td>Healthcare</td>\n",
       "    </tr>\n",
       "    <tr>\n",
       "      <th>2</th>\n",
       "      <td>6758</td>\n",
       "      <td>0.902085</td>\n",
       "      <td>Sony</td>\n",
       "      <td>Consumer Cyclical</td>\n",
       "    </tr>\n",
       "    <tr>\n",
       "      <th>3</th>\n",
       "      <td>3407</td>\n",
       "      <td>0.852600</td>\n",
       "      <td>Asahi Kasei Corp.</td>\n",
       "      <td>Basic Materials</td>\n",
       "    </tr>\n",
       "    <tr>\n",
       "      <th>4</th>\n",
       "      <td>4543</td>\n",
       "      <td>0.844671</td>\n",
       "      <td>Terumo Corp.</td>\n",
       "      <td>Healthcare</td>\n",
       "    </tr>\n",
       "  </tbody>\n",
       "</table>\n",
       "</div>"
      ],
      "text/plain": [
       "  Symbol      Corr                  Name             Sector\n",
       "0   6954  0.927480           Fanuc Corp.      Capital Goods\n",
       "1   4503  0.926776  Astellas Pharma Inc.         Healthcare\n",
       "2   6758  0.902085                  Sony  Consumer Cyclical\n",
       "3   3407  0.852600     Asahi Kasei Corp.    Basic Materials\n",
       "4   4543  0.844671          Terumo Corp.         Healthcare"
      ]
     },
     "execution_count": 16,
     "metadata": {},
     "output_type": "execute_result"
    }
   ],
   "source": [
    "JPN2001.head()"
   ]
  },
  {
   "cell_type": "code",
   "execution_count": 17,
   "metadata": {
    "colab": {
     "base_uri": "https://localhost:8080/"
    },
    "id": "fyVuKcAT1d4b",
    "outputId": "2dc4a168-396a-4e98-d67a-e4cd3c50c3ce"
   },
   "outputs": [
    {
     "data": {
      "text/plain": [
       "Capital Goods            5\n",
       "Healthcare               5\n",
       "Consumer Non-cyclical    4\n",
       "Utilities                4\n",
       "Basic Materials          4\n",
       "Consumer Cyclical        3\n",
       "Services                 2\n",
       "Transportation           1\n",
       "Energy                   1\n",
       "Name: Sector, dtype: int64"
      ]
     },
     "execution_count": 17,
     "metadata": {},
     "output_type": "execute_result"
    }
   ],
   "source": [
    "JPN2001.Sector.value_counts()"
   ]
  },
  {
   "cell_type": "markdown",
   "metadata": {
    "id": "MfNnL82OuzFG"
   },
   "source": [
    "#### 2001년 중국\n",
    "- 46개 데이터의 START_DATE가 맞지 않음"
   ]
  },
  {
   "cell_type": "code",
   "execution_count": 18,
   "metadata": {
    "colab": {
     "base_uri": "https://localhost:8080/"
    },
    "id": "cadfo2ESud2v",
    "outputId": "dc0cbcae-9860-4e06-c7cd-7158d6a31669"
   },
   "outputs": [
    {
     "name": "stdout",
     "output_type": "stream",
     "text": [
      "[*********************100%***********************]  1 of 1 completed\n"
     ]
    }
   ],
   "source": [
    "ssec = yf.download(\"^SSEC\", START_DATE, END_DATE).Close"
   ]
  },
  {
   "cell_type": "code",
   "execution_count": 19,
   "metadata": {
    "colab": {
     "base_uri": "https://localhost:8080/"
    },
    "id": "9cJaEaPDvD2w",
    "outputId": "313b25e7-0e34-45bc-b281-52ba554cd025"
   },
   "outputs": [
    {
     "name": "stdout",
     "output_type": "stream",
     "text": [
      "[*********************100%***********************]  1 of 1 completed\n",
      "[*********************100%***********************]  1 of 1 completed\n",
      "\n",
      "1 Failed download:\n",
      "- 601899.SS: Data doesn't exist for startDate = 946652400, endDate = 1009724400\n",
      "[*********************100%***********************]  1 of 1 completed\n",
      "\n",
      "1 Failed download:\n",
      "- 601899.SZ: No data found, symbol may be delisted\n",
      "[*********************100%***********************]  1 of 1 completed\n",
      "[*********************100%***********************]  1 of 1 completed\n",
      "\n",
      "1 Failed download:\n",
      "- 002493.SS: No data found, symbol may be delisted\n",
      "[*********************100%***********************]  1 of 1 completed\n",
      "\n",
      "1 Failed download:\n",
      "- 002493.SZ: Data doesn't exist for startDate = 946652400, endDate = 1009724400\n",
      "[*********************100%***********************]  1 of 1 completed\n",
      "[*********************100%***********************]  1 of 1 completed\n",
      "\n",
      "1 Failed download:\n",
      "- 000651.SS: No data found, symbol may be delisted\n",
      "[*********************100%***********************]  1 of 1 completed\n",
      "[*********************100%***********************]  1 of 1 completed\n",
      "\n",
      "1 Failed download:\n",
      "- 000002.SS: Data doesn't exist for startDate = 946652400, endDate = 1009724400\n",
      "[*********************100%***********************]  1 of 1 completed\n",
      "[*********************100%***********************]  1 of 1 completed\n",
      "\n",
      "1 Failed download:\n",
      "- 600585.SS: Data doesn't exist for startDate = 946652400, endDate = 1009724400\n",
      "[*********************100%***********************]  1 of 1 completed\n",
      "\n",
      "1 Failed download:\n",
      "- 600585.SZ: No data found, symbol may be delisted\n",
      "[*********************100%***********************]  1 of 1 completed\n",
      "\n",
      "1 Failed download:\n",
      "- 601668.SS: Data doesn't exist for startDate = 946652400, endDate = 1009724400\n",
      "[*********************100%***********************]  1 of 1 completed\n",
      "\n",
      "1 Failed download:\n",
      "- 601668.SZ: No data found, symbol may be delisted\n",
      "[*********************100%***********************]  1 of 1 completed\n",
      "\n",
      "1 Failed download:\n",
      "- 600031.SS: Data doesn't exist for startDate = 946652400, endDate = 1009724400\n",
      "[*********************100%***********************]  1 of 1 completed\n",
      "\n",
      "1 Failed download:\n",
      "- 600031.SZ: No data found, symbol may be delisted\n",
      "[*********************100%***********************]  1 of 1 completed\n",
      "\n",
      "1 Failed download:\n",
      "- 300274.SS: No data found, symbol may be delisted\n",
      "[*********************100%***********************]  1 of 1 completed\n",
      "\n",
      "1 Failed download:\n",
      "- 300274.SZ: Data doesn't exist for startDate = 946652400, endDate = 1009724400\n",
      "[*********************100%***********************]  1 of 1 completed\n",
      "\n",
      "1 Failed download:\n",
      "- 002650.SS: No data found, symbol may be delisted\n",
      "[*********************100%***********************]  1 of 1 completed\n",
      "\n",
      "1 Failed download:\n",
      "- 002650.SZ: Data doesn't exist for startDate = 946652400, endDate = 1009724400\n",
      "[*********************100%***********************]  1 of 1 completed\n",
      "\n",
      "1 Failed download:\n",
      "- 002666.SS: No data found, symbol may be delisted\n",
      "[*********************100%***********************]  1 of 1 completed\n",
      "\n",
      "1 Failed download:\n",
      "- 002666.SZ: Data doesn't exist for startDate = 946652400, endDate = 1009724400\n",
      "[*********************100%***********************]  1 of 1 completed\n",
      "\n",
      "1 Failed download:\n",
      "- 000333.SS: No data found, symbol may be delisted\n",
      "[*********************100%***********************]  1 of 1 completed\n",
      "\n",
      "1 Failed download:\n",
      "- 000333.SZ: Data doesn't exist for startDate = 946652400, endDate = 1009724400\n",
      "[*********************100%***********************]  1 of 1 completed\n",
      "\n",
      "1 Failed download:\n",
      "- 002594.SS: No data found, symbol may be delisted\n",
      "[*********************100%***********************]  1 of 1 completed\n",
      "\n",
      "1 Failed download:\n",
      "- 002594.SZ: Data doesn't exist for startDate = 946652400, endDate = 1009724400\n",
      "[*********************100%***********************]  1 of 1 completed\n",
      "\n",
      "1 Failed download:\n",
      "- 002415.SS: No data found, symbol may be delisted\n",
      "[*********************100%***********************]  1 of 1 completed\n",
      "\n",
      "1 Failed download:\n",
      "- 002415.SZ: Data doesn't exist for startDate = 946652400, endDate = 1009724400\n",
      "[*********************100%***********************]  1 of 1 completed\n",
      "[*********************100%***********************]  1 of 1 completed\n",
      "\n",
      "1 Failed download:\n",
      "- 601633.SS: Data doesn't exist for startDate = 946652400, endDate = 1009724400\n",
      "[*********************100%***********************]  1 of 1 completed\n",
      "\n",
      "1 Failed download:\n",
      "- 601633.SZ: No data found, symbol may be delisted\n",
      "[*********************100%***********************]  1 of 1 completed\n",
      "[*********************100%***********************]  1 of 1 completed\n",
      "\n",
      "1 Failed download:\n",
      "- 000858.SS: No data found for this date range, symbol may be delisted\n",
      "[*********************100%***********************]  1 of 1 completed\n",
      "[*********************100%***********************]  1 of 1 completed\n",
      "\n",
      "1 Failed download:\n",
      "- 603288.SS: Data doesn't exist for startDate = 946652400, endDate = 1009724400\n",
      "[*********************100%***********************]  1 of 1 completed\n",
      "\n",
      "1 Failed download:\n",
      "- 603288.SZ: No data found, symbol may be delisted\n",
      "[*********************100%***********************]  1 of 1 completed\n",
      "[*********************100%***********************]  1 of 1 completed\n",
      "\n",
      "1 Failed download:\n",
      "- 002714.SS: No data found, symbol may be delisted\n",
      "[*********************100%***********************]  1 of 1 completed\n",
      "\n",
      "1 Failed download:\n",
      "- 002714.SZ: Data doesn't exist for startDate = 946652400, endDate = 1009724400\n",
      "[*********************100%***********************]  1 of 1 completed\n",
      "\n",
      "1 Failed download:\n",
      "- 601857.SS: Data doesn't exist for startDate = 946652400, endDate = 1009724400\n",
      "[*********************100%***********************]  1 of 1 completed\n",
      "\n",
      "1 Failed download:\n",
      "- 601857.SZ: No data found, symbol may be delisted\n",
      "[*********************100%***********************]  1 of 1 completed\n",
      "\n",
      "1 Failed download:\n",
      "- 601088.SS: Data doesn't exist for startDate = 946652400, endDate = 1009724400\n",
      "[*********************100%***********************]  1 of 1 completed\n",
      "\n",
      "1 Failed download:\n",
      "- 601088.SZ: No data found, symbol may be delisted\n",
      "[*********************100%***********************]  1 of 1 completed\n",
      "\n",
      "1 Failed download:\n",
      "- 601225.SS: Data doesn't exist for startDate = 946652400, endDate = 1009724400\n",
      "[*********************100%***********************]  1 of 1 completed\n",
      "\n",
      "1 Failed download:\n",
      "- 601225.SZ: No data found, symbol may be delisted\n",
      "[*********************100%***********************]  1 of 1 completed\n",
      "\n",
      "1 Failed download:\n",
      "- 600989.SS: Data doesn't exist for startDate = 946652400, endDate = 1009724400\n",
      "[*********************100%***********************]  1 of 1 completed\n",
      "\n",
      "1 Failed download:\n",
      "- 600989.SZ: No data found, symbol may be delisted\n",
      "[*********************100%***********************]  1 of 1 completed\n",
      "\n",
      "1 Failed download:\n",
      "- 601808.SS: Data doesn't exist for startDate = 946652400, endDate = 1009724400\n",
      "[*********************100%***********************]  1 of 1 completed\n",
      "\n",
      "1 Failed download:\n",
      "- 601808.SZ: No data found, symbol may be delisted\n",
      "[*********************100%***********************]  1 of 1 completed\n",
      "\n",
      "1 Failed download:\n",
      "- 601398.SS: Data doesn't exist for startDate = 946652400, endDate = 1009724400\n",
      "[*********************100%***********************]  1 of 1 completed\n",
      "\n",
      "1 Failed download:\n",
      "- 601398.SZ: No data found, symbol may be delisted\n",
      "[*********************100%***********************]  1 of 1 completed\n",
      "\n",
      "1 Failed download:\n",
      "- 601939.SS: Data doesn't exist for startDate = 946652400, endDate = 1009724400\n",
      "[*********************100%***********************]  1 of 1 completed\n",
      "\n",
      "1 Failed download:\n",
      "- 601939.SZ: No data found, symbol may be delisted\n",
      "[*********************100%***********************]  1 of 1 completed\n",
      "\n",
      "1 Failed download:\n",
      "- 601318.SS: Data doesn't exist for startDate = 946652400, endDate = 1009724400\n",
      "[*********************100%***********************]  1 of 1 completed\n",
      "\n",
      "1 Failed download:\n",
      "- 601318.SZ: No data found, symbol may be delisted\n",
      "[*********************100%***********************]  1 of 1 completed\n",
      "\n",
      "1 Failed download:\n",
      "- 601628.SS: Data doesn't exist for startDate = 946652400, endDate = 1009724400\n",
      "[*********************100%***********************]  1 of 1 completed\n",
      "\n",
      "1 Failed download:\n",
      "- 601628.SZ: No data found, symbol may be delisted\n"
     ]
    },
    {
     "name": "stdout",
     "output_type": "stream",
     "text": [
      "[*********************100%***********************]  1 of 1 completed\n",
      "\n",
      "1 Failed download:\n",
      "- 601288.SS: Data doesn't exist for startDate = 946652400, endDate = 1009724400\n",
      "[*********************100%***********************]  1 of 1 completed\n",
      "\n",
      "1 Failed download:\n",
      "- 601288.SZ: No data found, symbol may be delisted\n",
      "[*********************100%***********************]  1 of 1 completed\n",
      "[*********************100%***********************]  1 of 1 completed\n",
      "\n",
      "1 Failed download:\n",
      "- 300760.SS: No data found, symbol may be delisted\n",
      "[*********************100%***********************]  1 of 1 completed\n",
      "\n",
      "1 Failed download:\n",
      "- 300760.SZ: Data doesn't exist for startDate = 946652400, endDate = 1009724400\n",
      "[*********************100%***********************]  1 of 1 completed\n",
      "\n",
      "1 Failed download:\n",
      "- 603259.SS: Data doesn't exist for startDate = 946652400, endDate = 1009724400\n",
      "[*********************100%***********************]  1 of 1 completed\n",
      "\n",
      "1 Failed download:\n",
      "- 603259.SZ: No data found, symbol may be delisted\n",
      "[*********************100%***********************]  1 of 1 completed\n",
      "\n",
      "1 Failed download:\n",
      "- 300015.SS: No data found, symbol may be delisted\n",
      "[*********************100%***********************]  1 of 1 completed\n",
      "\n",
      "1 Failed download:\n",
      "- 300015.SZ: Data doesn't exist for startDate = 946652400, endDate = 1009724400\n",
      "[*********************100%***********************]  1 of 1 completed\n",
      "\n",
      "1 Failed download:\n",
      "- 300122.SS: No data found, symbol may be delisted\n",
      "[*********************100%***********************]  1 of 1 completed\n",
      "\n",
      "1 Failed download:\n",
      "- 300122.SZ: Data doesn't exist for startDate = 946652400, endDate = 1009724400\n",
      "[*********************100%***********************]  1 of 1 completed\n",
      "[*********************100%***********************]  1 of 1 completed\n",
      "\n",
      "1 Failed download:\n",
      "- 601888.SS: Data doesn't exist for startDate = 946652400, endDate = 1009724400\n",
      "[*********************100%***********************]  1 of 1 completed\n",
      "\n",
      "1 Failed download:\n",
      "- 601888.SZ: No data found, symbol may be delisted\n",
      "[*********************100%***********************]  1 of 1 completed\n",
      "\n",
      "1 Failed download:\n",
      "- 002607.SS: No data found, symbol may be delisted\n",
      "[*********************100%***********************]  1 of 1 completed\n",
      "\n",
      "1 Failed download:\n",
      "- 002607.SZ: Data doesn't exist for startDate = 946652400, endDate = 1009724400\n",
      "[*********************100%***********************]  1 of 1 completed\n",
      "\n",
      "1 Failed download:\n",
      "- 600050.SS: Data doesn't exist for startDate = 946652400, endDate = 1009724400\n",
      "[*********************100%***********************]  1 of 1 completed\n",
      "\n",
      "1 Failed download:\n",
      "- 600050.SZ: No data found, symbol may be delisted\n",
      "[*********************100%***********************]  1 of 1 completed\n",
      "\n",
      "1 Failed download:\n",
      "- 002027.SS: No data found, symbol may be delisted\n",
      "[*********************100%***********************]  1 of 1 completed\n",
      "\n",
      "1 Failed download:\n",
      "- 002027.SZ: Data doesn't exist for startDate = 946652400, endDate = 1009724400\n",
      "[*********************100%***********************]  1 of 1 completed\n",
      "\n",
      "1 Failed download:\n",
      "- 300750.SS: No data found, symbol may be delisted\n",
      "[*********************100%***********************]  1 of 1 completed\n",
      "\n",
      "1 Failed download:\n",
      "- 300750.SZ: Data doesn't exist for startDate = 946652400, endDate = 1009724400\n",
      "[*********************100%***********************]  1 of 1 completed\n",
      "\n",
      "1 Failed download:\n",
      "- 002475.SS: No data found, symbol may be delisted\n",
      "[*********************100%***********************]  1 of 1 completed\n",
      "\n",
      "1 Failed download:\n",
      "- 002475.SZ: Data doesn't exist for startDate = 946652400, endDate = 1009724400\n",
      "[*********************100%***********************]  1 of 1 completed\n",
      "\n",
      "1 Failed download:\n",
      "- 601138.SS: Data doesn't exist for startDate = 946652400, endDate = 1009724400\n",
      "[*********************100%***********************]  1 of 1 completed\n",
      "\n",
      "1 Failed download:\n",
      "- 601138.SZ: No data found, symbol may be delisted\n",
      "[*********************100%***********************]  1 of 1 completed\n",
      "\n",
      "1 Failed download:\n",
      "- 601012.SS: Data doesn't exist for startDate = 946652400, endDate = 1009724400\n",
      "[*********************100%***********************]  1 of 1 completed\n",
      "\n",
      "1 Failed download:\n",
      "- 601012.SZ: No data found, symbol may be delisted\n",
      "[*********************100%***********************]  1 of 1 completed\n",
      "\n",
      "1 Failed download:\n",
      "- 000725.SS: No data found, symbol may be delisted\n",
      "[*********************100%***********************]  1 of 1 completed\n",
      "[*********************100%***********************]  1 of 1 completed\n",
      "\n",
      "1 Failed download:\n",
      "- 002352.SS: No data found, symbol may be delisted\n",
      "[*********************100%***********************]  1 of 1 completed\n",
      "\n",
      "1 Failed download:\n",
      "- 002352.SZ: Data doesn't exist for startDate = 946652400, endDate = 1009724400\n",
      "[*********************100%***********************]  1 of 1 completed\n",
      "\n",
      "1 Failed download:\n",
      "- 601816.SS: Data doesn't exist for startDate = 946652400, endDate = 1009724400\n",
      "[*********************100%***********************]  1 of 1 completed\n",
      "\n",
      "1 Failed download:\n",
      "- 601816.SZ: No data found, symbol may be delisted\n",
      "[*********************100%***********************]  1 of 1 completed\n",
      "\n",
      "1 Failed download:\n",
      "- 601766.SS: Data doesn't exist for startDate = 946652400, endDate = 1009724400\n",
      "[*********************100%***********************]  1 of 1 completed\n",
      "\n",
      "1 Failed download:\n",
      "- 601766.SZ: No data found, symbol may be delisted\n",
      "[*********************100%***********************]  1 of 1 completed\n",
      "[*********************100%***********************]  1 of 1 completed\n",
      "\n",
      "1 Failed download:\n",
      "- 601111.SS: Data doesn't exist for startDate = 946652400, endDate = 1009724400\n",
      "[*********************100%***********************]  1 of 1 completed\n",
      "\n",
      "1 Failed download:\n",
      "- 601111.SZ: No data found, symbol may be delisted\n",
      "[*********************100%***********************]  1 of 1 completed\n",
      "\n",
      "1 Failed download:\n",
      "- 600900.SS: Data doesn't exist for startDate = 946652400, endDate = 1009724400\n",
      "[*********************100%***********************]  1 of 1 completed\n",
      "\n",
      "1 Failed download:\n",
      "- 600900.SZ: No data found, symbol may be delisted\n",
      "[*********************100%***********************]  1 of 1 completed\n",
      "\n",
      "1 Failed download:\n",
      "- 003816.SS: No data found, symbol may be delisted\n",
      "[*********************100%***********************]  1 of 1 completed\n",
      "\n",
      "1 Failed download:\n",
      "- 003816.SZ: Data doesn't exist for startDate = 946652400, endDate = 1009724400\n",
      "[*********************100%***********************]  1 of 1 completed\n",
      "[*********************100%***********************]  1 of 1 completed\n",
      "\n",
      "1 Failed download:\n",
      "- 600025.SS: Data doesn't exist for startDate = 946652400, endDate = 1009724400\n",
      "[*********************100%***********************]  1 of 1 completed\n",
      "\n",
      "1 Failed download:\n",
      "- 600025.SZ: No data found, symbol may be delisted\n",
      "[*********************100%***********************]  1 of 1 completed\n",
      "\n",
      "1 Failed download:\n",
      "- 601985.SS: Data doesn't exist for startDate = 946652400, endDate = 1009724400\n",
      "[*********************100%***********************]  1 of 1 completed\n",
      "\n",
      "1 Failed download:\n",
      "- 601985.SZ: No data found, symbol may be delisted\n"
     ]
    }
   ],
   "source": [
    "chn01 = Data_processing(START_DATE, END_DATE, 'CHN', chn_top5)"
   ]
  },
  {
   "cell_type": "code",
   "execution_count": 20,
   "metadata": {
    "colab": {
     "base_uri": "https://localhost:8080/",
     "height": 346
    },
    "id": "4oQuzo_XvLI6",
    "outputId": "4c696c22-f48f-4a41-87fb-d65ffa5e37fe"
   },
   "outputs": [
    {
     "name": "stdout",
     "output_type": "stream",
     "text": [
      "PCA >= 90% components:  3 \n",
      "PCA >= 95% components:  4\n",
      "PCA explained variance: \n",
      " [6.28093264 1.30103561 0.57279109]\n",
      "PCA explained variance ratio: \n",
      " [0.6978814  0.14455951 0.06364345]\n"
     ]
    },
    {
     "data": {
      "image/png": "[encoded data removed]",
      "text/plain": [
       "<Figure size 432x288 with 1 Axes>"
      ]
     },
     "metadata": {
      "needs_background": "light"
     },
     "output_type": "display_data"
    }
   ],
   "source": [
    "CHN2001 = PCA_withTerm(chn01, chn_top5)"
   ]
  },
  {
   "cell_type": "code",
   "execution_count": 21,
   "metadata": {
    "colab": {
     "base_uri": "https://localhost:8080/",
     "height": 195
    },
    "id": "uJkMNvIUwV8i",
    "outputId": "16c9df4d-e383-44ff-a791-7944820fb067"
   },
   "outputs": [
    {
     "data": {
      "text/html": [
       "<div>\n",
       "<style scoped>\n",
       "    .dataframe tbody tr th:only-of-type {\n",
       "        vertical-align: middle;\n",
       "    }\n",
       "\n",
       "    .dataframe tbody tr th {\n",
       "        vertical-align: top;\n",
       "    }\n",
       "\n",
       "    .dataframe thead th {\n",
       "        text-align: right;\n",
       "    }\n",
       "</style>\n",
       "<table border=\"1\" class=\"dataframe\">\n",
       "  <thead>\n",
       "    <tr style=\"text-align: right;\">\n",
       "      <th></th>\n",
       "      <th>Symbol</th>\n",
       "      <th>Corr</th>\n",
       "      <th>Name</th>\n",
       "      <th>Sector</th>\n",
       "    </tr>\n",
       "  </thead>\n",
       "  <tbody>\n",
       "    <tr>\n",
       "      <th>0</th>\n",
       "      <td>600309</td>\n",
       "      <td>-0.313219</td>\n",
       "      <td>Wanhua Chemical</td>\n",
       "      <td>Basic Materials</td>\n",
       "    </tr>\n",
       "    <tr>\n",
       "      <th>1</th>\n",
       "      <td>000002</td>\n",
       "      <td>-0.713062</td>\n",
       "      <td>China Vanke A</td>\n",
       "      <td>Capital Goods</td>\n",
       "    </tr>\n",
       "    <tr>\n",
       "      <th>2</th>\n",
       "      <td>000858</td>\n",
       "      <td>-0.781564</td>\n",
       "      <td>Wuliangye A</td>\n",
       "      <td>Consumer Non-cyclical</td>\n",
       "    </tr>\n",
       "    <tr>\n",
       "      <th>3</th>\n",
       "      <td>600019</td>\n",
       "      <td>-0.865699</td>\n",
       "      <td>Baoshan Iron &amp; Steel</td>\n",
       "      <td>Basic Materials</td>\n",
       "    </tr>\n",
       "    <tr>\n",
       "      <th>4</th>\n",
       "      <td>600276</td>\n",
       "      <td>-0.883579</td>\n",
       "      <td>Jiangsu Hengrui</td>\n",
       "      <td>Healthcare</td>\n",
       "    </tr>\n",
       "  </tbody>\n",
       "</table>\n",
       "</div>"
      ],
      "text/plain": [
       "   Symbol      Corr                  Name                 Sector\n",
       "0  600309 -0.313219       Wanhua Chemical        Basic Materials\n",
       "1  000002 -0.713062         China Vanke A          Capital Goods\n",
       "2  000858 -0.781564           Wuliangye A  Consumer Non-cyclical\n",
       "3  600019 -0.865699  Baoshan Iron & Steel        Basic Materials\n",
       "4  600276 -0.883579       Jiangsu Hengrui             Healthcare"
      ]
     },
     "execution_count": 21,
     "metadata": {},
     "output_type": "execute_result"
    }
   ],
   "source": [
    "CHN2001.head()"
   ]
  },
  {
   "cell_type": "code",
   "execution_count": 22,
   "metadata": {
    "colab": {
     "base_uri": "https://localhost:8080/"
    },
    "id": "vBcCfm781YeZ",
    "outputId": "ab1ee507-ccb8-4ff1-c8bd-dca293d36ad5"
   },
   "outputs": [
    {
     "data": {
      "text/plain": [
       "Consumer Non-cyclical    2\n",
       "Capital Goods            2\n",
       "Basic Materials          2\n",
       "Healthcare               1\n",
       "Consumer Cyclical        1\n",
       "Transportation           1\n",
       "Name: Sector, dtype: int64"
      ]
     },
     "execution_count": 22,
     "metadata": {},
     "output_type": "execute_result"
    }
   ],
   "source": [
    "CHN2001.Sector.value_counts()"
   ]
  },
  {
   "cell_type": "markdown",
   "metadata": {
    "id": "ZHFCaLet0hgq"
   },
   "source": [
    "#### 2001년 한국\n",
    "- 6개 데이터의 START_DATE가 맞지 않음"
   ]
  },
  {
   "cell_type": "code",
   "execution_count": 23,
   "metadata": {
    "colab": {
     "base_uri": "https://localhost:8080/"
    },
    "id": "lFG-f9QLyq1c",
    "outputId": "4b9f6b76-ff87-46a2-94b7-0d871e5ba21c"
   },
   "outputs": [
    {
     "name": "stdout",
     "output_type": "stream",
     "text": [
      "[*********************100%***********************]  1 of 1 completed\n"
     ]
    }
   ],
   "source": [
    "ks11 = yf.download(\"^KS11\", START_DATE, END_DATE).Close"
   ]
  },
  {
   "cell_type": "code",
   "execution_count": 24,
   "metadata": {
    "colab": {
     "base_uri": "https://localhost:8080/"
    },
    "id": "OmjmjOIf00ag",
    "outputId": "cd3485da-c27f-46a8-8dd5-28910b2c9911",
    "scrolled": true
   },
   "outputs": [
    {
     "name": "stdout",
     "output_type": "stream",
     "text": [
      "[*********************100%***********************]  1 of 1 completed\n",
      "[*********************100%***********************]  1 of 1 completed\n",
      "\n",
      "1 Failed download:\n",
      "- 051915.KS: Data doesn't exist for startDate = 946652400, endDate = 1009724400\n",
      "[*********************100%***********************]  1 of 1 completed\n",
      "\n",
      "1 Failed download:\n",
      "- 051915.KQ: No data found, symbol may be delisted\n",
      "[*********************100%***********************]  1 of 1 completed\n",
      "\n",
      "1 Failed download:\n",
      "- 028260.KS: Data doesn't exist for startDate = 946652400, endDate = 1009724400\n",
      "[*********************100%***********************]  1 of 1 completed\n",
      "\n",
      "1 Failed download:\n",
      "- 028260.KQ: No data found, symbol may be delisted\n",
      "[*********************100%***********************]  1 of 1 completed\n",
      "\n",
      "1 Failed download:\n",
      "- 02826K.KS: Data doesn't exist for startDate = 946652400, endDate = 1009724400\n",
      "[*********************100%***********************]  1 of 1 completed\n",
      "\n",
      "1 Failed download:\n",
      "- 02826K.KQ: No data found, symbol may be delisted\n",
      "[*********************100%***********************]  1 of 1 completed\n",
      "[*********************100%***********************]  1 of 1 completed\n",
      "[*********************100%***********************]  1 of 1 completed\n",
      "[*********************100%***********************]  1 of 1 completed\n",
      "[*********************100%***********************]  1 of 1 completed\n",
      "\n",
      "1 Failed download:\n",
      "- 000725.KS: Data doesn't exist for startDate = 946652400, endDate = 1009724400\n",
      "[*********************100%***********************]  1 of 1 completed\n",
      "\n",
      "1 Failed download:\n",
      "- 000725.KQ: No data found, symbol may be delisted\n",
      "[*********************100%***********************]  1 of 1 completed\n",
      "\n",
      "1 Failed download:\n",
      "- 000215.KS: Data doesn't exist for startDate = 946652400, endDate = 1009724400\n",
      "[*********************100%***********************]  1 of 1 completed\n",
      "\n",
      "1 Failed download:\n",
      "- 000215.KQ: No data found, symbol may be delisted\n",
      "[*********************100%***********************]  1 of 1 completed\n",
      "[*********************100%***********************]  1 of 1 completed\n",
      "[*********************100%***********************]  1 of 1 completed\n",
      "\n",
      "1 Failed download:\n",
      "- 005385.KS: Data doesn't exist for startDate = 946652400, endDate = 1009724400\n",
      "[*********************100%***********************]  1 of 1 completed\n",
      "\n",
      "1 Failed download:\n",
      "- 005385.KQ: No data found, symbol may be delisted\n",
      "[*********************100%***********************]  1 of 1 completed\n",
      "[*********************100%***********************]  1 of 1 completed\n",
      "\n",
      "1 Failed download:\n",
      "- 005387.KS: Data doesn't exist for startDate = 946652400, endDate = 1009724400\n",
      "[*********************100%***********************]  1 of 1 completed\n",
      "\n",
      "1 Failed download:\n",
      "- 005387.KQ: No data found, symbol may be delisted\n",
      "[*********************100%***********************]  1 of 1 completed\n",
      "[*********************100%***********************]  1 of 1 completed\n",
      "[*********************100%***********************]  1 of 1 completed\n",
      "\n",
      "1 Failed download:\n",
      "- 051905.KS: Data doesn't exist for startDate = 946652400, endDate = 1009724400\n",
      "[*********************100%***********************]  1 of 1 completed\n",
      "\n",
      "1 Failed download:\n",
      "- 051905.KQ: No data found, symbol may be delisted\n",
      "[*********************100%***********************]  1 of 1 completed\n",
      "[*********************100%***********************]  1 of 1 completed\n",
      "\n",
      "1 Failed download:\n",
      "- 090430.KS: Data doesn't exist for startDate = 946652400, endDate = 1009724400\n",
      "[*********************100%***********************]  1 of 1 completed\n",
      "\n",
      "1 Failed download:\n",
      "- 090430.KQ: No data found, symbol may be delisted\n",
      "[*********************100%***********************]  1 of 1 completed\n",
      "\n",
      "1 Failed download:\n",
      "- 090435.KS: Data doesn't exist for startDate = 946652400, endDate = 1009724400\n",
      "[*********************100%***********************]  1 of 1 completed\n",
      "\n",
      "1 Failed download:\n",
      "- 090435.KQ: No data found, symbol may be delisted\n",
      "[*********************100%***********************]  1 of 1 completed\n",
      "\n",
      "1 Failed download:\n",
      "- 03473K.KS: Data doesn't exist for startDate = 946652400, endDate = 1009724400\n",
      "[*********************100%***********************]  1 of 1 completed\n",
      "\n",
      "1 Failed download:\n",
      "- 03473K.KQ: No data found, symbol may be delisted\n",
      "[*********************100%***********************]  1 of 1 completed\n",
      "\n",
      "1 Failed download:\n",
      "- 034730.KS: Data doesn't exist for startDate = 946652400, endDate = 1009724400\n",
      "[*********************100%***********************]  1 of 1 completed\n",
      "\n",
      "1 Failed download:\n",
      "- 034730.KQ: No data found, symbol may be delisted\n",
      "[*********************100%***********************]  1 of 1 completed\n",
      "\n",
      "1 Failed download:\n",
      "- 096770.KS: Data doesn't exist for startDate = 946652400, endDate = 1009724400\n",
      "[*********************100%***********************]  1 of 1 completed\n",
      "\n",
      "1 Failed download:\n",
      "- 096770.KQ: No data found, symbol may be delisted\n",
      "[*********************100%***********************]  1 of 1 completed\n",
      "\n",
      "1 Failed download:\n",
      "- 096775.KS: Data doesn't exist for startDate = 946652400, endDate = 1009724400\n",
      "[*********************100%***********************]  1 of 1 completed\n",
      "\n",
      "1 Failed download:\n",
      "- 096775.KQ: No data found, symbol may be delisted\n",
      "[*********************100%***********************]  1 of 1 completed\n",
      "[*********************100%***********************]  1 of 1 completed\n",
      "[*********************100%***********************]  1 of 1 completed\n",
      "[*********************100%***********************]  1 of 1 completed\n",
      "\n",
      "1 Failed download:\n",
      "- 032830.KS: Data doesn't exist for startDate = 946652400, endDate = 1009724400\n",
      "[*********************100%***********************]  1 of 1 completed\n",
      "\n",
      "1 Failed download:\n",
      "- 032830.KQ: No data found, symbol may be delisted\n",
      "[*********************100%***********************]  1 of 1 completed\n",
      "[*********************100%***********************]  1 of 1 completed\n",
      "\n",
      "1 Failed download:\n",
      "- 000815.KS: Data doesn't exist for startDate = 946652400, endDate = 1009724400\n",
      "[*********************100%***********************]  1 of 1 completed\n",
      "\n",
      "1 Failed download:\n",
      "- 000815.KQ: No data found, symbol may be delisted\n",
      "[*********************100%***********************]  1 of 1 completed\n",
      "\n",
      "1 Failed download:\n",
      "- 207940.KS: Data doesn't exist for startDate = 946652400, endDate = 1009724400\n",
      "[*********************100%***********************]  1 of 1 completed\n",
      "\n",
      "1 Failed download:\n",
      "- 207940.KQ: No data found, symbol may be delisted\n",
      "[*********************100%***********************]  1 of 1 completed\n",
      "\n",
      "1 Failed download:\n",
      "- 068270.KS: Data doesn't exist for startDate = 946652400, endDate = 1009724400\n",
      "[*********************100%***********************]  1 of 1 completed\n",
      "\n",
      "1 Failed download:\n",
      "- 068270.KQ: No data found for this date range, symbol may be delisted\n",
      "[*********************100%***********************]  1 of 1 completed\n",
      "\n",
      "1 Failed download:\n",
      "- 091990.KS: No data found, symbol may be delisted\n",
      "[*********************100%***********************]  1 of 1 completed\n",
      "\n",
      "1 Failed download:\n",
      "- 091990.KQ: No data found for this date range, symbol may be delisted\n",
      "[*********************100%***********************]  1 of 1 completed\n",
      "\n",
      "1 Failed download:\n",
      "- 326030.KS: Data doesn't exist for startDate = 946652400, endDate = 1009724400\n",
      "[*********************100%***********************]  1 of 1 completed\n",
      "\n",
      "1 Failed download:\n",
      "- 326030.KQ: No data found, symbol may be delisted\n",
      "[*********************100%***********************]  1 of 1 completed\n",
      "[*********************100%***********************]  1 of 1 completed\n",
      "[*********************100%***********************]  1 of 1 completed\n",
      "[*********************100%***********************]  1 of 1 completed\n",
      "[*********************100%***********************]  1 of 1 completed\n",
      "[*********************100%***********************]  1 of 1 completed\n",
      "[*********************100%***********************]  1 of 1 completed\n",
      "[*********************100%***********************]  1 of 1 completed\n",
      "\n",
      "1 Failed download:\n",
      "- 005935.KS: Data doesn't exist for startDate = 946652400, endDate = 1009724400\n",
      "[*********************100%***********************]  1 of 1 completed\n",
      "\n",
      "1 Failed download:\n",
      "- 005935.KQ: No data found, symbol may be delisted\n",
      "[*********************100%***********************]  1 of 1 completed\n",
      "[*********************100%***********************]  1 of 1 completed\n",
      "\n",
      "1 Failed download:\n",
      "- 035420.KS: Data doesn't exist for startDate = 946652400, endDate = 1009724400\n"
     ]
    },
    {
     "name": "stdout",
     "output_type": "stream",
     "text": [
      "[*********************100%***********************]  1 of 1 completed\n",
      "\n",
      "1 Failed download:\n",
      "- 035420.KQ: No data found for this date range, symbol may be delisted\n",
      "[*********************100%***********************]  1 of 1 completed\n",
      "\n",
      "1 Failed download:\n",
      "- 006405.KS: Data doesn't exist for startDate = 946652400, endDate = 1009724400\n",
      "[*********************100%***********************]  1 of 1 completed\n",
      "\n",
      "1 Failed download:\n",
      "- 006405.KQ: No data found, symbol may be delisted\n",
      "[*********************100%***********************]  1 of 1 completed\n",
      "\n",
      "1 Failed download:\n",
      "- 086280.KS: Data doesn't exist for startDate = 946652400, endDate = 1009724400\n",
      "[*********************100%***********************]  1 of 1 completed\n",
      "\n",
      "1 Failed download:\n",
      "- 086280.KQ: No data found, symbol may be delisted\n",
      "[*********************100%***********************]  1 of 1 completed\n",
      "[*********************100%***********************]  1 of 1 completed\n",
      "\n",
      "1 Failed download:\n",
      "- 180640.KS: Data doesn't exist for startDate = 946652400, endDate = 1009724400\n",
      "[*********************100%***********************]  1 of 1 completed\n",
      "\n",
      "1 Failed download:\n",
      "- 180640.KQ: No data found, symbol may be delisted\n",
      "[*********************100%***********************]  1 of 1 completed\n",
      "[*********************100%***********************]  1 of 1 completed\n",
      "[*********************100%***********************]  1 of 1 completed\n",
      "[*********************100%***********************]  1 of 1 completed\n",
      "[*********************100%***********************]  1 of 1 completed\n",
      "[*********************100%***********************]  1 of 1 completed\n",
      "\n",
      "1 Failed download:\n",
      "- 006125.KS: Data doesn't exist for startDate = 946652400, endDate = 1009724400\n",
      "[*********************100%***********************]  1 of 1 completed\n",
      "\n",
      "1 Failed download:\n",
      "- 006125.KQ: No data found, symbol may be delisted\n",
      "[*********************100%***********************]  1 of 1 completed\n"
     ]
    }
   ],
   "source": [
    "kor01 = Data_processing(START_DATE, END_DATE, \"KOR\", kor_top5)"
   ]
  },
  {
   "cell_type": "code",
   "execution_count": 25,
   "metadata": {
    "colab": {
     "base_uri": "https://localhost:8080/",
     "height": 380
    },
    "id": "aD6bwbxs1APn",
    "outputId": "80f9b6ea-7b24-4718-c3c4-ee88f4f28ac9"
   },
   "outputs": [
    {
     "name": "stdout",
     "output_type": "stream",
     "text": [
      "PCA >= 90% components:  6 \n",
      "PCA >= 95% components:  8\n",
      "PCA explained variance: \n",
      " [11.10521831  6.38176858  3.23828282  0.98699472  0.74161839  0.71506204\n",
      "  0.40502558]\n",
      "PCA explained variance ratio: \n",
      " [0.44420873 0.25527074 0.12953131 0.03947979 0.02966474 0.02860248\n",
      " 0.01620102]\n"
     ]
    },
    {
     "data": {
      "image/png": "[encoded data removed]",
      "text/plain": [
       "<Figure size 432x288 with 1 Axes>"
      ]
     },
     "metadata": {
      "needs_background": "light"
     },
     "output_type": "display_data"
    }
   ],
   "source": [
    "KOR2001 = PCA_withTerm(kor01, kor_top5)"
   ]
  },
  {
   "cell_type": "code",
   "execution_count": 26,
   "metadata": {
    "colab": {
     "base_uri": "https://localhost:8080/",
     "height": 195
    },
    "id": "i9a1GCCq1GDE",
    "outputId": "84528e05-5d28-46ed-8013-9b32e22e5166"
   },
   "outputs": [
    {
     "data": {
      "text/html": [
       "<div>\n",
       "<style scoped>\n",
       "    .dataframe tbody tr th:only-of-type {\n",
       "        vertical-align: middle;\n",
       "    }\n",
       "\n",
       "    .dataframe tbody tr th {\n",
       "        vertical-align: top;\n",
       "    }\n",
       "\n",
       "    .dataframe thead th {\n",
       "        text-align: right;\n",
       "    }\n",
       "</style>\n",
       "<table border=\"1\" class=\"dataframe\">\n",
       "  <thead>\n",
       "    <tr style=\"text-align: right;\">\n",
       "      <th></th>\n",
       "      <th>Symbol</th>\n",
       "      <th>Corr</th>\n",
       "      <th>Name</th>\n",
       "      <th>Sector</th>\n",
       "    </tr>\n",
       "  </thead>\n",
       "  <tbody>\n",
       "    <tr>\n",
       "      <th>0</th>\n",
       "      <td>055550</td>\n",
       "      <td>0.933090</td>\n",
       "      <td>Shinhan Financial Group</td>\n",
       "      <td>Financial</td>\n",
       "    </tr>\n",
       "    <tr>\n",
       "      <th>1</th>\n",
       "      <td>051910</td>\n",
       "      <td>0.929901</td>\n",
       "      <td>LG Chemicals</td>\n",
       "      <td>Basic Materials</td>\n",
       "    </tr>\n",
       "    <tr>\n",
       "      <th>2</th>\n",
       "      <td>006120</td>\n",
       "      <td>0.911264</td>\n",
       "      <td>SK Discovery</td>\n",
       "      <td>Utilities</td>\n",
       "    </tr>\n",
       "    <tr>\n",
       "      <th>3</th>\n",
       "      <td>005389</td>\n",
       "      <td>0.892446</td>\n",
       "      <td>Hyundai</td>\n",
       "      <td>Consumer Cyclical</td>\n",
       "    </tr>\n",
       "    <tr>\n",
       "      <th>4</th>\n",
       "      <td>000810</td>\n",
       "      <td>0.855792</td>\n",
       "      <td>Samsung Fire Marine Insur</td>\n",
       "      <td>Financial</td>\n",
       "    </tr>\n",
       "  </tbody>\n",
       "</table>\n",
       "</div>"
      ],
      "text/plain": [
       "   Symbol      Corr                       Name             Sector\n",
       "0  055550  0.933090    Shinhan Financial Group          Financial\n",
       "1  051910  0.929901               LG Chemicals    Basic Materials\n",
       "2  006120  0.911264               SK Discovery          Utilities\n",
       "3  005389  0.892446                    Hyundai  Consumer Cyclical\n",
       "4  000810  0.855792  Samsung Fire Marine Insur          Financial"
      ]
     },
     "execution_count": 26,
     "metadata": {},
     "output_type": "execute_result"
    }
   ],
   "source": [
    "KOR2001.head()"
   ]
  },
  {
   "cell_type": "code",
   "execution_count": 27,
   "metadata": {
    "colab": {
     "base_uri": "https://localhost:8080/"
    },
    "id": "mJqhqhZE1OSI",
    "outputId": "c611008b-5246-4b29-be8c-e944a29cd02c"
   },
   "outputs": [
    {
     "data": {
      "text/plain": [
       "Utilities                4\n",
       "Capital Goods            3\n",
       "Transportation           3\n",
       "Consumer Cyclical        3\n",
       "Services                 3\n",
       "Consumer Non-cyclical    2\n",
       "Basic Materials          2\n",
       "Technology               2\n",
       "Financial                2\n",
       "Healthcare               1\n",
       "Name: Sector, dtype: int64"
      ]
     },
     "execution_count": 27,
     "metadata": {},
     "output_type": "execute_result"
    }
   ],
   "source": [
    "KOR2001.Sector.value_counts()"
   ]
  },
  {
   "cell_type": "markdown",
   "metadata": {
    "id": "ImoWeMRl12Yl"
   },
   "source": [
    "-----\n",
    "## 2007-2008년\n",
    "### 세계 금융위기"
   ]
  },
  {
   "cell_type": "code",
   "execution_count": 28,
   "metadata": {
    "id": "nVQYaIux1Txv"
   },
   "outputs": [],
   "source": [
    "START_DATE2 = '2007-01-01'\n",
    "END_DATE2 = '2008-12-31'"
   ]
  },
  {
   "cell_type": "markdown",
   "metadata": {
    "id": "ZKrh4e5q2WY5"
   },
   "source": [
    "#### 2007년 미국"
   ]
  },
  {
   "cell_type": "code",
   "execution_count": 29,
   "metadata": {
    "id": "KQL9etDS4oth",
    "scrolled": true
   },
   "outputs": [
    {
     "name": "stdout",
     "output_type": "stream",
     "text": [
      "[*********************100%***********************]  1 of 1 completed\n",
      "[*********************100%***********************]  1 of 1 completed\n",
      "[*********************100%***********************]  1 of 1 completed\n",
      "\n",
      "1 Failed download:\n",
      "- BHPLF: Data doesn't exist for startDate = 1167577200, endDate = 1230649200\n",
      "[*********************100%***********************]  1 of 1 completed\n",
      "[*********************100%***********************]  1 of 1 completed\n",
      "[*********************100%***********************]  1 of 1 completed\n",
      "[*********************100%***********************]  1 of 1 completed\n",
      "[*********************100%***********************]  1 of 1 completed\n",
      "[*********************100%***********************]  1 of 1 completed\n",
      "[*********************100%***********************]  1 of 1 completed\n",
      "[*********************100%***********************]  1 of 1 completed\n",
      "[*********************100%***********************]  1 of 1 completed\n",
      "[*********************100%***********************]  1 of 1 completed\n",
      "\n",
      "1 Failed download:\n",
      "- SXC: Data doesn't exist for startDate = 1167577200, endDate = 1230649200\n",
      "[*********************100%***********************]  1 of 1 completed\n",
      "[*********************100%***********************]  1 of 1 completed\n",
      "\n",
      "1 Failed download:\n",
      "- TSLA: Data doesn't exist for startDate = 1167577200, endDate = 1230649200\n",
      "[*********************100%***********************]  1 of 1 completed\n",
      "[*********************100%***********************]  1 of 1 completed\n",
      "[*********************100%***********************]  1 of 1 completed\n",
      "\n",
      "1 Failed download:\n",
      "- TOYOF: Data doesn't exist for startDate = 1167577200, endDate = 1230649200\n",
      "[*********************100%***********************]  1 of 1 completed\n",
      "[*********************100%***********************]  1 of 1 completed\n",
      "[*********************100%***********************]  1 of 1 completed\n",
      "\n",
      "1 Failed download:\n",
      "- NSRGF: Data doesn't exist for startDate = 1167577200, endDate = 1230649200\n",
      "[*********************100%***********************]  1 of 1 completed\n",
      "[*********************100%***********************]  1 of 1 completed\n",
      "[*********************100%***********************]  1 of 1 completed\n",
      "[*********************100%***********************]  1 of 1 completed\n",
      "[*********************100%***********************]  1 of 1 completed\n",
      "[*********************100%***********************]  1 of 1 completed\n",
      "[*********************100%***********************]  1 of 1 completed\n",
      "[*********************100%***********************]  1 of 1 completed\n",
      "\n",
      "1 Failed download:\n",
      "- RDSA: No data found, symbol may be delisted\n",
      "[*********************100%***********************]  1 of 1 completed\n",
      "\n",
      "1 Failed download:\n",
      "- BRKB: No data found, symbol may be delisted\n",
      "[*********************100%***********************]  1 of 1 completed\n",
      "\n",
      "1 Failed download:\n",
      "- BRKA: No data found, symbol may be delisted\n",
      "[*********************100%***********************]  1 of 1 completed\n",
      "[*********************100%***********************]  1 of 1 completed\n",
      "[*********************100%***********************]  1 of 1 completed\n",
      "[*********************100%***********************]  1 of 1 completed\n",
      "[*********************100%***********************]  1 of 1 completed\n",
      "[*********************100%***********************]  1 of 1 completed\n",
      "\n",
      "1 Failed download:\n",
      "- RHHVF: Data doesn't exist for startDate = 1167577200, endDate = 1230649200\n",
      "[*********************100%***********************]  1 of 1 completed\n",
      "[*********************100%***********************]  1 of 1 completed\n",
      "[*********************100%***********************]  1 of 1 completed\n",
      "[*********************100%***********************]  1 of 1 completed\n",
      "\n",
      "1 Failed download:\n",
      "- BABA: Data doesn't exist for startDate = 1167577200, endDate = 1230649200\n",
      "[*********************100%***********************]  1 of 1 completed\n",
      "[*********************100%***********************]  1 of 1 completed\n",
      "[*********************100%***********************]  1 of 1 completed\n",
      "[*********************100%***********************]  1 of 1 completed\n",
      "[*********************100%***********************]  1 of 1 completed\n",
      "[*********************100%***********************]  1 of 1 completed\n",
      "[*********************100%***********************]  1 of 1 completed\n",
      "[*********************100%***********************]  1 of 1 completed\n",
      "\n",
      "1 Failed download:\n",
      "- FB: Data doesn't exist for startDate = 1167577200, endDate = 1230649200\n",
      "[*********************100%***********************]  1 of 1 completed\n",
      "[*********************100%***********************]  1 of 1 completed\n",
      "[*********************100%***********************]  1 of 1 completed\n",
      "[*********************100%***********************]  1 of 1 completed\n",
      "[*********************100%***********************]  1 of 1 completed\n",
      "[*********************100%***********************]  1 of 1 completed\n",
      "[*********************100%***********************]  1 of 1 completed\n",
      "[*********************100%***********************]  1 of 1 completed\n",
      "\n",
      "1 Failed download:\n",
      "- DOGEF: Data doesn't exist for startDate = 1167577200, endDate = 1230649200\n",
      "[*********************100%***********************]  1 of 1 completed\n",
      "[*********************100%***********************]  1 of 1 completed\n"
     ]
    }
   ],
   "source": [
    "snp2 = yf.download(\"^GSPC\", START_DATE2, END_DATE2).Close\n",
    "usa07 = Data_processing(START_DATE2, END_DATE2, \"USA\",usa_top5)"
   ]
  },
  {
   "cell_type": "code",
   "execution_count": 30,
   "metadata": {
    "colab": {
     "base_uri": "https://localhost:8080/",
     "height": 380
    },
    "id": "8nkAVnaN_Fqg",
    "outputId": "6a1a8909-578d-41ea-8c15-7250f6a7b97b"
   },
   "outputs": [
    {
     "name": "stdout",
     "output_type": "stream",
     "text": [
      "PCA >= 90% components:  7 \n",
      "PCA >= 95% components:  12\n",
      "PCA explained variance: \n",
      " [17.59307596  4.35044719  4.05628171  2.55584486  1.96541078  1.15831284\n",
      "  0.8331871   0.57100931  0.43907718]\n",
      "PCA explained variance ratio: \n",
      " [0.48869655 0.12084576 0.11267449 0.07099569 0.05459474 0.03217536\n",
      " 0.02314409 0.01586137 0.01219659]\n"
     ]
    },
    {
     "data": {
      "image/png": "[encoded data removed]",
      "text/plain": [
       "<Figure size 432x288 with 1 Axes>"
      ]
     },
     "metadata": {
      "needs_background": "light"
     },
     "output_type": "display_data"
    }
   ],
   "source": [
    "USA2007 = PCA_withTerm(usa01, usa_top5)"
   ]
  },
  {
   "cell_type": "code",
   "execution_count": 31,
   "metadata": {
    "colab": {
     "base_uri": "https://localhost:8080/",
     "height": 195
    },
    "id": "WUFoRLRs_QC9",
    "outputId": "2f7df5dd-22c0-4fed-a2b9-80dfab359260"
   },
   "outputs": [
    {
     "data": {
      "text/html": [
       "<div>\n",
       "<style scoped>\n",
       "    .dataframe tbody tr th:only-of-type {\n",
       "        vertical-align: middle;\n",
       "    }\n",
       "\n",
       "    .dataframe tbody tr th {\n",
       "        vertical-align: top;\n",
       "    }\n",
       "\n",
       "    .dataframe thead th {\n",
       "        text-align: right;\n",
       "    }\n",
       "</style>\n",
       "<table border=\"1\" class=\"dataframe\">\n",
       "  <thead>\n",
       "    <tr style=\"text-align: right;\">\n",
       "      <th></th>\n",
       "      <th>Symbol</th>\n",
       "      <th>Corr</th>\n",
       "      <th>Name</th>\n",
       "      <th>Sector</th>\n",
       "    </tr>\n",
       "  </thead>\n",
       "  <tbody>\n",
       "    <tr>\n",
       "      <th>0</th>\n",
       "      <td>AMZN</td>\n",
       "      <td>0.962369</td>\n",
       "      <td>Amazon.com</td>\n",
       "      <td>Services</td>\n",
       "    </tr>\n",
       "    <tr>\n",
       "      <th>1</th>\n",
       "      <td>ASML</td>\n",
       "      <td>0.944911</td>\n",
       "      <td>ASML  ADR</td>\n",
       "      <td>Capital Goods</td>\n",
       "    </tr>\n",
       "    <tr>\n",
       "      <th>2</th>\n",
       "      <td>AAPL</td>\n",
       "      <td>0.914862</td>\n",
       "      <td>Apple</td>\n",
       "      <td>Technology</td>\n",
       "    </tr>\n",
       "    <tr>\n",
       "      <th>3</th>\n",
       "      <td>TM</td>\n",
       "      <td>0.891356</td>\n",
       "      <td>Toyota Motor ADR</td>\n",
       "      <td>Consumer Cyclical</td>\n",
       "    </tr>\n",
       "    <tr>\n",
       "      <th>4</th>\n",
       "      <td>MSFT</td>\n",
       "      <td>0.749528</td>\n",
       "      <td>Microsoft</td>\n",
       "      <td>Technology</td>\n",
       "    </tr>\n",
       "  </tbody>\n",
       "</table>\n",
       "</div>"
      ],
      "text/plain": [
       "  Symbol      Corr              Name             Sector\n",
       "0   AMZN  0.962369        Amazon.com           Services\n",
       "1   ASML  0.944911         ASML  ADR      Capital Goods\n",
       "2   AAPL  0.914862             Apple         Technology\n",
       "3     TM  0.891356  Toyota Motor ADR  Consumer Cyclical\n",
       "4   MSFT  0.749528         Microsoft         Technology"
      ]
     },
     "execution_count": 31,
     "metadata": {},
     "output_type": "execute_result"
    }
   ],
   "source": [
    "USA2007.head()"
   ]
  },
  {
   "cell_type": "code",
   "execution_count": 32,
   "metadata": {
    "colab": {
     "base_uri": "https://localhost:8080/"
    },
    "id": "J-tgd5y9_T4W",
    "outputId": "ebf586e1-6d5a-46fd-acfe-c126b9e8d1ab"
   },
   "outputs": [
    {
     "data": {
      "text/plain": [
       "Capital Goods            5\n",
       "Transportation           5\n",
       "Consumer Non-cyclical    4\n",
       "Utilities                4\n",
       "Healthcare               3\n",
       "Services                 3\n",
       "Basic Materials          3\n",
       "Energy                   2\n",
       "Technology               2\n",
       "Consumer Cyclical        2\n",
       "Financial                2\n",
       "Conglomerates            1\n",
       "Name: Sector, dtype: int64"
      ]
     },
     "execution_count": 32,
     "metadata": {},
     "output_type": "execute_result"
    }
   ],
   "source": [
    "USA2007.Sector.value_counts()"
   ]
  },
  {
   "cell_type": "markdown",
   "metadata": {
    "id": "EMa4qysb_yC1"
   },
   "source": [
    "#### 2007년 일본"
   ]
  },
  {
   "cell_type": "code",
   "execution_count": 33,
   "metadata": {
    "colab": {
     "base_uri": "https://localhost:8080/"
    },
    "id": "vnlVTB73_w4h",
    "outputId": "87ade583-2527-4151-e195-23e8138975c8"
   },
   "outputs": [
    {
     "name": "stdout",
     "output_type": "stream",
     "text": [
      "[*********************100%***********************]  1 of 1 completed\n"
     ]
    }
   ],
   "source": [
    "nik2 = yf.download(\"^N225\", START_DATE2, END_DATE2).Close"
   ]
  },
  {
   "cell_type": "code",
   "execution_count": 34,
   "metadata": {
    "id": "z_RnBMMxAAHh",
    "scrolled": true
   },
   "outputs": [
    {
     "name": "stdout",
     "output_type": "stream",
     "text": [
      "[*********************100%***********************]  1 of 1 completed\n",
      "[*********************100%***********************]  1 of 1 completed\n",
      "[*********************100%***********************]  1 of 1 completed\n",
      "[*********************100%***********************]  1 of 1 completed\n",
      "[*********************100%***********************]  1 of 1 completed\n",
      "[*********************100%***********************]  1 of 1 completed\n",
      "[*********************100%***********************]  1 of 1 completed\n",
      "[*********************100%***********************]  1 of 1 completed\n",
      "[*********************100%***********************]  1 of 1 completed\n",
      "[*********************100%***********************]  1 of 1 completed\n",
      "[*********************100%***********************]  1 of 1 completed\n",
      "[*********************100%***********************]  1 of 1 completed\n",
      "[*********************100%***********************]  1 of 1 completed\n",
      "[*********************100%***********************]  1 of 1 completed\n",
      "[*********************100%***********************]  1 of 1 completed\n",
      "[*********************100%***********************]  1 of 1 completed\n",
      "[*********************100%***********************]  1 of 1 completed\n",
      "[*********************100%***********************]  1 of 1 completed\n",
      "[*********************100%***********************]  1 of 1 completed\n",
      "[*********************100%***********************]  1 of 1 completed\n",
      "[*********************100%***********************]  1 of 1 completed\n",
      "[*********************100%***********************]  1 of 1 completed\n",
      "[*********************100%***********************]  1 of 1 completed\n",
      "[*********************100%***********************]  1 of 1 completed\n",
      "[*********************100%***********************]  1 of 1 completed\n",
      "[*********************100%***********************]  1 of 1 completed\n",
      "[*********************100%***********************]  1 of 1 completed\n",
      "[*********************100%***********************]  1 of 1 completed\n",
      "[*********************100%***********************]  1 of 1 completed\n",
      "[*********************100%***********************]  1 of 1 completed\n",
      "[*********************100%***********************]  1 of 1 completed\n",
      "[*********************100%***********************]  1 of 1 completed\n",
      "\n",
      "1 Failed download:\n",
      "- 7182.T: Data doesn't exist for startDate = 1167577200, endDate = 1230649200\n",
      "[*********************100%***********************]  1 of 1 completed\n",
      "[*********************100%***********************]  1 of 1 completed\n",
      "[*********************100%***********************]  1 of 1 completed\n",
      "[*********************100%***********************]  1 of 1 completed\n",
      "[*********************100%***********************]  1 of 1 completed\n",
      "[*********************100%***********************]  1 of 1 completed\n",
      "[*********************100%***********************]  1 of 1 completed\n",
      "[*********************100%***********************]  1 of 1 completed\n",
      "[*********************100%***********************]  1 of 1 completed\n",
      "[*********************100%***********************]  1 of 1 completed\n",
      "\n",
      "1 Failed download:\n",
      "- 6098.T: Data doesn't exist for startDate = 1167577200, endDate = 1230649200\n",
      "[*********************100%***********************]  1 of 1 completed\n",
      "[*********************100%***********************]  1 of 1 completed\n",
      "[*********************100%***********************]  1 of 1 completed\n",
      "[*********************100%***********************]  1 of 1 completed\n",
      "[*********************100%***********************]  1 of 1 completed\n",
      "[*********************100%***********************]  1 of 1 completed\n",
      "[*********************100%***********************]  1 of 1 completed\n",
      "[*********************100%***********************]  1 of 1 completed\n",
      "\n",
      "1 Failed download:\n",
      "- 9143.T: Data doesn't exist for startDate = 1167577200, endDate = 1230649200\n",
      "[*********************100%***********************]  1 of 1 completed\n",
      "[*********************100%***********************]  1 of 1 completed\n",
      "[*********************100%***********************]  1 of 1 completed\n",
      "[*********************100%***********************]  1 of 1 completed\n",
      "[*********************100%***********************]  1 of 1 completed\n",
      "[*********************100%***********************]  1 of 1 completed\n",
      "[*********************100%***********************]  1 of 1 completed\n"
     ]
    }
   ],
   "source": [
    "jpn07 = Data_processing(START_DATE2, END_DATE2, \"JPN\", jpn_top5)"
   ]
  },
  {
   "cell_type": "code",
   "execution_count": 35,
   "metadata": {
    "colab": {
     "base_uri": "https://localhost:8080/",
     "height": 346
    },
    "id": "3asOWom-AJK0",
    "outputId": "02ca06c6-ad1a-4b64-9938-bf508162fc6c"
   },
   "outputs": [
    {
     "name": "stdout",
     "output_type": "stream",
     "text": [
      "PCA >= 90% components:  5 \n",
      "PCA >= 95% components:  8\n",
      "PCA explained variance: \n",
      " [34.81039997  7.89310008  2.34642114  1.49275725  1.25728552  0.72168526]\n",
      "PCA explained variance ratio: \n",
      " [0.66943077 0.15179039 0.04512348 0.02870687 0.02417857 0.01387856]\n"
     ]
    },
    {
     "data": {
      "image/png": "[encoded data removed]",
      "text/plain": [
       "<Figure size 432x288 with 1 Axes>"
      ]
     },
     "metadata": {
      "needs_background": "light"
     },
     "output_type": "display_data"
    }
   ],
   "source": [
    "JPN2007 = PCA_withTerm(jpn07, jpn_top5)"
   ]
  },
  {
   "cell_type": "code",
   "execution_count": 36,
   "metadata": {
    "colab": {
     "base_uri": "https://localhost:8080/",
     "height": 195
    },
    "id": "zMM0vOAnAJ8Z",
    "outputId": "83aba268-87bf-451e-df2e-bdb8ab51124e"
   },
   "outputs": [
    {
     "data": {
      "text/html": [
       "<div>\n",
       "<style scoped>\n",
       "    .dataframe tbody tr th:only-of-type {\n",
       "        vertical-align: middle;\n",
       "    }\n",
       "\n",
       "    .dataframe tbody tr th {\n",
       "        vertical-align: top;\n",
       "    }\n",
       "\n",
       "    .dataframe thead th {\n",
       "        text-align: right;\n",
       "    }\n",
       "</style>\n",
       "<table border=\"1\" class=\"dataframe\">\n",
       "  <thead>\n",
       "    <tr style=\"text-align: right;\">\n",
       "      <th></th>\n",
       "      <th>Symbol</th>\n",
       "      <th>Corr</th>\n",
       "      <th>Name</th>\n",
       "      <th>Sector</th>\n",
       "    </tr>\n",
       "  </thead>\n",
       "  <tbody>\n",
       "    <tr>\n",
       "      <th>0</th>\n",
       "      <td>9983</td>\n",
       "      <td>0.511252</td>\n",
       "      <td>Fast Retailing</td>\n",
       "      <td>Services</td>\n",
       "    </tr>\n",
       "    <tr>\n",
       "      <th>1</th>\n",
       "      <td>8113</td>\n",
       "      <td>0.222226</td>\n",
       "      <td>Unicharm Co</td>\n",
       "      <td>Consumer Non-cyclical</td>\n",
       "    </tr>\n",
       "    <tr>\n",
       "      <th>2</th>\n",
       "      <td>4543</td>\n",
       "      <td>-0.114880</td>\n",
       "      <td>Terumo Corp.</td>\n",
       "      <td>Healthcare</td>\n",
       "    </tr>\n",
       "    <tr>\n",
       "      <th>3</th>\n",
       "      <td>7974</td>\n",
       "      <td>-0.141225</td>\n",
       "      <td>Nintendo</td>\n",
       "      <td>Consumer Cyclical</td>\n",
       "    </tr>\n",
       "    <tr>\n",
       "      <th>4</th>\n",
       "      <td>2413</td>\n",
       "      <td>-0.308003</td>\n",
       "      <td>M3 Inc</td>\n",
       "      <td>Technology</td>\n",
       "    </tr>\n",
       "  </tbody>\n",
       "</table>\n",
       "</div>"
      ],
      "text/plain": [
       "  Symbol      Corr            Name                 Sector\n",
       "0   9983  0.511252  Fast Retailing               Services\n",
       "1   8113  0.222226     Unicharm Co  Consumer Non-cyclical\n",
       "2   4543 -0.114880    Terumo Corp.             Healthcare\n",
       "3   7974 -0.141225        Nintendo      Consumer Cyclical\n",
       "4   2413 -0.308003          M3 Inc             Technology"
      ]
     },
     "execution_count": 36,
     "metadata": {},
     "output_type": "execute_result"
    }
   ],
   "source": [
    "JPN2007.head()"
   ]
  },
  {
   "cell_type": "code",
   "execution_count": 37,
   "metadata": {
    "colab": {
     "base_uri": "https://localhost:8080/"
    },
    "id": "C27PVEI-AQKY",
    "outputId": "a9716b77-6a63-49af-a8c5-c05bb0ee968b"
   },
   "outputs": [
    {
     "data": {
      "text/plain": [
       "Capital Goods            5\n",
       "Energy                   5\n",
       "Consumer Non-cyclical    5\n",
       "Basic Materials          5\n",
       "Technology               5\n",
       "Consumer Cyclical        5\n",
       "Utilities                5\n",
       "Healthcare               5\n",
       "Financial                4\n",
       "Transportation           4\n",
       "Services                 4\n",
       "Name: Sector, dtype: int64"
      ]
     },
     "execution_count": 37,
     "metadata": {},
     "output_type": "execute_result"
    }
   ],
   "source": [
    "JPN2007.Sector.value_counts()"
   ]
  },
  {
   "cell_type": "markdown",
   "metadata": {
    "id": "cwPZ_z_DAbPp"
   },
   "source": [
    "#### 2007년 중국"
   ]
  },
  {
   "cell_type": "code",
   "execution_count": 38,
   "metadata": {
    "colab": {
     "base_uri": "https://localhost:8080/"
    },
    "id": "IdQ7bH6wAeLj",
    "outputId": "e41b19fc-5b53-4673-9f8b-390d2e3688ea"
   },
   "outputs": [
    {
     "name": "stdout",
     "output_type": "stream",
     "text": [
      "[*********************100%***********************]  1 of 1 completed\n"
     ]
    }
   ],
   "source": [
    "ssec2 = yf.download(\"^SSEC\", START_DATE2, END_DATE2).Close"
   ]
  },
  {
   "cell_type": "code",
   "execution_count": 39,
   "metadata": {
    "id": "XXEMxnJVAhVu"
   },
   "outputs": [
    {
     "name": "stdout",
     "output_type": "stream",
     "text": [
      "[*********************100%***********************]  1 of 1 completed\n",
      "[*********************100%***********************]  1 of 1 completed\n",
      "[*********************100%***********************]  1 of 1 completed\n",
      "[*********************100%***********************]  1 of 1 completed\n",
      "\n",
      "1 Failed download:\n",
      "- 002493.SS: No data found, symbol may be delisted\n",
      "[*********************100%***********************]  1 of 1 completed\n",
      "\n",
      "1 Failed download:\n",
      "- 002493.SZ: Data doesn't exist for startDate = 1167577200, endDate = 1230649200\n",
      "[*********************100%***********************]  1 of 1 completed\n",
      "[*********************100%***********************]  1 of 1 completed\n",
      "\n",
      "1 Failed download:\n",
      "- 000651.SS: No data found, symbol may be delisted\n",
      "[*********************100%***********************]  1 of 1 completed\n",
      "[*********************100%***********************]  1 of 1 completed\n",
      "\n",
      "1 Failed download:\n",
      "- 000002.SS: Data doesn't exist for startDate = 1167577200, endDate = 1230649200\n",
      "[*********************100%***********************]  1 of 1 completed\n",
      "[*********************100%***********************]  1 of 1 completed\n",
      "[*********************100%***********************]  1 of 1 completed\n",
      "\n",
      "1 Failed download:\n",
      "- 601668.SS: Data doesn't exist for startDate = 1167577200, endDate = 1230649200\n",
      "[*********************100%***********************]  1 of 1 completed\n",
      "\n",
      "1 Failed download:\n",
      "- 601668.SZ: No data found, symbol may be delisted\n",
      "[*********************100%***********************]  1 of 1 completed\n",
      "[*********************100%***********************]  1 of 1 completed\n",
      "\n",
      "1 Failed download:\n",
      "- 300274.SS: No data found, symbol may be delisted\n",
      "[*********************100%***********************]  1 of 1 completed\n",
      "\n",
      "1 Failed download:\n",
      "- 300274.SZ: Data doesn't exist for startDate = 1167577200, endDate = 1230649200\n",
      "[*********************100%***********************]  1 of 1 completed\n",
      "\n",
      "1 Failed download:\n",
      "- 002650.SS: No data found, symbol may be delisted\n",
      "[*********************100%***********************]  1 of 1 completed\n",
      "\n",
      "1 Failed download:\n",
      "- 002650.SZ: Data doesn't exist for startDate = 1167577200, endDate = 1230649200\n",
      "[*********************100%***********************]  1 of 1 completed\n",
      "\n",
      "1 Failed download:\n",
      "- 002666.SS: No data found, symbol may be delisted\n",
      "[*********************100%***********************]  1 of 1 completed\n",
      "\n",
      "1 Failed download:\n",
      "- 002666.SZ: Data doesn't exist for startDate = 1167577200, endDate = 1230649200\n",
      "[*********************100%***********************]  1 of 1 completed\n",
      "\n",
      "1 Failed download:\n",
      "- 000333.SS: No data found, symbol may be delisted\n",
      "[*********************100%***********************]  1 of 1 completed\n",
      "\n",
      "1 Failed download:\n",
      "- 000333.SZ: Data doesn't exist for startDate = 1167577200, endDate = 1230649200\n",
      "[*********************100%***********************]  1 of 1 completed\n",
      "\n",
      "1 Failed download:\n",
      "- 002594.SS: No data found, symbol may be delisted\n",
      "[*********************100%***********************]  1 of 1 completed\n",
      "\n",
      "1 Failed download:\n",
      "- 002594.SZ: Data doesn't exist for startDate = 1167577200, endDate = 1230649200\n",
      "[*********************100%***********************]  1 of 1 completed\n",
      "\n",
      "1 Failed download:\n",
      "- 002415.SS: No data found, symbol may be delisted\n",
      "[*********************100%***********************]  1 of 1 completed\n",
      "\n",
      "1 Failed download:\n",
      "- 002415.SZ: Data doesn't exist for startDate = 1167577200, endDate = 1230649200\n",
      "[*********************100%***********************]  1 of 1 completed\n",
      "[*********************100%***********************]  1 of 1 completed\n",
      "\n",
      "1 Failed download:\n",
      "- 601633.SS: Data doesn't exist for startDate = 1167577200, endDate = 1230649200\n",
      "[*********************100%***********************]  1 of 1 completed\n",
      "\n",
      "1 Failed download:\n",
      "- 601633.SZ: No data found, symbol may be delisted\n",
      "[*********************100%***********************]  1 of 1 completed\n",
      "[*********************100%***********************]  1 of 1 completed\n",
      "\n",
      "1 Failed download:\n",
      "- 000858.SS: No data found for this date range, symbol may be delisted\n",
      "[*********************100%***********************]  1 of 1 completed\n",
      "[*********************100%***********************]  1 of 1 completed\n",
      "\n",
      "1 Failed download:\n",
      "- 603288.SS: Data doesn't exist for startDate = 1167577200, endDate = 1230649200\n",
      "[*********************100%***********************]  1 of 1 completed\n",
      "\n",
      "1 Failed download:\n",
      "- 603288.SZ: No data found, symbol may be delisted\n",
      "[*********************100%***********************]  1 of 1 completed\n",
      "[*********************100%***********************]  1 of 1 completed\n",
      "\n",
      "1 Failed download:\n",
      "- 002714.SS: No data found, symbol may be delisted\n",
      "[*********************100%***********************]  1 of 1 completed\n",
      "\n",
      "1 Failed download:\n",
      "- 002714.SZ: Data doesn't exist for startDate = 1167577200, endDate = 1230649200\n",
      "[*********************100%***********************]  1 of 1 completed\n",
      "[*********************100%***********************]  1 of 1 completed\n",
      "[*********************100%***********************]  1 of 1 completed\n",
      "\n",
      "1 Failed download:\n",
      "- 601225.SS: Data doesn't exist for startDate = 1167577200, endDate = 1230649200\n",
      "[*********************100%***********************]  1 of 1 completed\n",
      "\n",
      "1 Failed download:\n",
      "- 601225.SZ: No data found, symbol may be delisted\n",
      "[*********************100%***********************]  1 of 1 completed\n",
      "\n",
      "1 Failed download:\n",
      "- 600989.SS: Data doesn't exist for startDate = 1167577200, endDate = 1230649200\n",
      "[*********************100%***********************]  1 of 1 completed\n",
      "\n",
      "1 Failed download:\n",
      "- 600989.SZ: No data found, symbol may be delisted\n",
      "[*********************100%***********************]  1 of 1 completed\n",
      "[*********************100%***********************]  1 of 1 completed\n",
      "[*********************100%***********************]  1 of 1 completed\n",
      "[*********************100%***********************]  1 of 1 completed\n",
      "[*********************100%***********************]  1 of 1 completed\n",
      "[*********************100%***********************]  1 of 1 completed\n",
      "\n",
      "1 Failed download:\n",
      "- 601288.SS: Data doesn't exist for startDate = 1167577200, endDate = 1230649200\n",
      "[*********************100%***********************]  1 of 1 completed\n",
      "\n",
      "1 Failed download:\n",
      "- 601288.SZ: No data found, symbol may be delisted\n",
      "[*********************100%***********************]  1 of 1 completed\n",
      "[*********************100%***********************]  1 of 1 completed\n",
      "\n",
      "1 Failed download:\n",
      "- 300760.SS: No data found, symbol may be delisted\n",
      "[*********************100%***********************]  1 of 1 completed\n",
      "\n",
      "1 Failed download:\n",
      "- 300760.SZ: Data doesn't exist for startDate = 1167577200, endDate = 1230649200\n",
      "[*********************100%***********************]  1 of 1 completed\n",
      "\n",
      "1 Failed download:\n",
      "- 603259.SS: Data doesn't exist for startDate = 1167577200, endDate = 1230649200\n",
      "[*********************100%***********************]  1 of 1 completed\n",
      "\n",
      "1 Failed download:\n",
      "- 603259.SZ: No data found, symbol may be delisted\n",
      "[*********************100%***********************]  1 of 1 completed\n",
      "\n",
      "1 Failed download:\n",
      "- 300015.SS: No data found, symbol may be delisted\n",
      "[*********************100%***********************]  1 of 1 completed\n",
      "\n",
      "1 Failed download:\n",
      "- 300015.SZ: Data doesn't exist for startDate = 1167577200, endDate = 1230649200\n",
      "[*********************100%***********************]  1 of 1 completed\n",
      "\n",
      "1 Failed download:\n",
      "- 300122.SS: No data found, symbol may be delisted\n",
      "[*********************100%***********************]  1 of 1 completed\n",
      "\n",
      "1 Failed download:\n",
      "- 300122.SZ: Data doesn't exist for startDate = 1167577200, endDate = 1230649200\n",
      "[*********************100%***********************]  1 of 1 completed\n",
      "[*********************100%***********************]  1 of 1 completed\n",
      "\n",
      "1 Failed download:\n",
      "- 601888.SS: Data doesn't exist for startDate = 1167577200, endDate = 1230649200\n",
      "[*********************100%***********************]  1 of 1 completed\n",
      "\n",
      "1 Failed download:\n",
      "- 601888.SZ: No data found, symbol may be delisted\n",
      "[*********************100%***********************]  1 of 1 completed\n",
      "\n",
      "1 Failed download:\n",
      "- 002607.SS: No data found, symbol may be delisted\n",
      "[*********************100%***********************]  1 of 1 completed\n",
      "\n",
      "1 Failed download:\n",
      "- 002607.SZ: Data doesn't exist for startDate = 1167577200, endDate = 1230649200\n",
      "[*********************100%***********************]  1 of 1 completed\n"
     ]
    },
    {
     "name": "stdout",
     "output_type": "stream",
     "text": [
      "[*********************100%***********************]  1 of 1 completed\n",
      "\n",
      "1 Failed download:\n",
      "- 002027.SS: No data found, symbol may be delisted\n",
      "[*********************100%***********************]  1 of 1 completed\n",
      "[*********************100%***********************]  1 of 1 completed\n",
      "\n",
      "1 Failed download:\n",
      "- 300750.SS: No data found, symbol may be delisted\n",
      "[*********************100%***********************]  1 of 1 completed\n",
      "\n",
      "1 Failed download:\n",
      "- 300750.SZ: Data doesn't exist for startDate = 1167577200, endDate = 1230649200\n",
      "[*********************100%***********************]  1 of 1 completed\n",
      "\n",
      "1 Failed download:\n",
      "- 002475.SS: No data found, symbol may be delisted\n",
      "[*********************100%***********************]  1 of 1 completed\n",
      "\n",
      "1 Failed download:\n",
      "- 002475.SZ: Data doesn't exist for startDate = 1167577200, endDate = 1230649200\n",
      "[*********************100%***********************]  1 of 1 completed\n",
      "\n",
      "1 Failed download:\n",
      "- 601138.SS: Data doesn't exist for startDate = 1167577200, endDate = 1230649200\n",
      "[*********************100%***********************]  1 of 1 completed\n",
      "\n",
      "1 Failed download:\n",
      "- 601138.SZ: No data found, symbol may be delisted\n",
      "[*********************100%***********************]  1 of 1 completed\n",
      "\n",
      "1 Failed download:\n",
      "- 601012.SS: Data doesn't exist for startDate = 1167577200, endDate = 1230649200\n",
      "[*********************100%***********************]  1 of 1 completed\n",
      "\n",
      "1 Failed download:\n",
      "- 601012.SZ: No data found, symbol may be delisted\n",
      "[*********************100%***********************]  1 of 1 completed\n",
      "\n",
      "1 Failed download:\n",
      "- 000725.SS: No data found, symbol may be delisted\n",
      "[*********************100%***********************]  1 of 1 completed\n",
      "[*********************100%***********************]  1 of 1 completed\n",
      "\n",
      "1 Failed download:\n",
      "- 002352.SS: No data found, symbol may be delisted\n",
      "[*********************100%***********************]  1 of 1 completed\n",
      "\n",
      "1 Failed download:\n",
      "- 002352.SZ: Data doesn't exist for startDate = 1167577200, endDate = 1230649200\n",
      "[*********************100%***********************]  1 of 1 completed\n",
      "\n",
      "1 Failed download:\n",
      "- 601816.SS: Data doesn't exist for startDate = 1167577200, endDate = 1230649200\n",
      "[*********************100%***********************]  1 of 1 completed\n",
      "\n",
      "1 Failed download:\n",
      "- 601816.SZ: No data found, symbol may be delisted\n",
      "[*********************100%***********************]  1 of 1 completed\n",
      "[*********************100%***********************]  1 of 1 completed\n",
      "[*********************100%***********************]  1 of 1 completed\n",
      "[*********************100%***********************]  1 of 1 completed\n",
      "[*********************100%***********************]  1 of 1 completed\n",
      "\n",
      "1 Failed download:\n",
      "- 003816.SS: No data found, symbol may be delisted\n",
      "[*********************100%***********************]  1 of 1 completed\n",
      "\n",
      "1 Failed download:\n",
      "- 003816.SZ: Data doesn't exist for startDate = 1167577200, endDate = 1230649200\n",
      "[*********************100%***********************]  1 of 1 completed\n",
      "[*********************100%***********************]  1 of 1 completed\n",
      "\n",
      "1 Failed download:\n",
      "- 600025.SS: Data doesn't exist for startDate = 1167577200, endDate = 1230649200\n",
      "[*********************100%***********************]  1 of 1 completed\n",
      "\n",
      "1 Failed download:\n",
      "- 600025.SZ: No data found, symbol may be delisted\n",
      "[*********************100%***********************]  1 of 1 completed\n",
      "\n",
      "1 Failed download:\n",
      "- 601985.SS: Data doesn't exist for startDate = 1167577200, endDate = 1230649200\n",
      "[*********************100%***********************]  1 of 1 completed\n",
      "\n",
      "1 Failed download:\n",
      "- 601985.SZ: No data found, symbol may be delisted\n"
     ]
    }
   ],
   "source": [
    "chn07 = Data_processing(START_DATE2, END_DATE2, 'CHN', chn_top5)"
   ]
  },
  {
   "cell_type": "code",
   "execution_count": 40,
   "metadata": {
    "colab": {
     "base_uri": "https://localhost:8080/",
     "height": 346
    },
    "id": "LDUMgXwWAp7_",
    "outputId": "11ddd77d-a16e-4720-a016-2089e05645d5"
   },
   "outputs": [
    {
     "name": "stdout",
     "output_type": "stream",
     "text": [
      "PCA >= 90% components:  3 \n",
      "PCA >= 95% components:  5\n",
      "PCA explained variance: \n",
      " [15.95542479  2.60460163  0.69603442  0.54677579]\n",
      "PCA explained variance ratio: \n",
      " [0.75978213 0.12402865 0.0331445  0.02603694]\n"
     ]
    },
    {
     "data": {
      "image/png": "[encoded data removed]",
      "text/plain": [
       "<Figure size 432x288 with 1 Axes>"
      ]
     },
     "metadata": {
      "needs_background": "light"
     },
     "output_type": "display_data"
    }
   ],
   "source": [
    "CHN2007 = PCA_withTerm(chn07, chn_top5)"
   ]
  },
  {
   "cell_type": "code",
   "execution_count": 41,
   "metadata": {
    "colab": {
     "base_uri": "https://localhost:8080/",
     "height": 195
    },
    "id": "t8vF-977AxFe",
    "outputId": "be10f7c9-2f36-4a27-98f2-5a907d34bbcb"
   },
   "outputs": [
    {
     "data": {
      "text/html": [
       "<div>\n",
       "<style scoped>\n",
       "    .dataframe tbody tr th:only-of-type {\n",
       "        vertical-align: middle;\n",
       "    }\n",
       "\n",
       "    .dataframe tbody tr th {\n",
       "        vertical-align: top;\n",
       "    }\n",
       "\n",
       "    .dataframe thead th {\n",
       "        text-align: right;\n",
       "    }\n",
       "</style>\n",
       "<table border=\"1\" class=\"dataframe\">\n",
       "  <thead>\n",
       "    <tr style=\"text-align: right;\">\n",
       "      <th></th>\n",
       "      <th>Symbol</th>\n",
       "      <th>Corr</th>\n",
       "      <th>Name</th>\n",
       "      <th>Sector</th>\n",
       "    </tr>\n",
       "  </thead>\n",
       "  <tbody>\n",
       "    <tr>\n",
       "      <th>0</th>\n",
       "      <td>000858</td>\n",
       "      <td>0.975753</td>\n",
       "      <td>Wuliangye A</td>\n",
       "      <td>Consumer Non-cyclical</td>\n",
       "    </tr>\n",
       "    <tr>\n",
       "      <th>1</th>\n",
       "      <td>600019</td>\n",
       "      <td>0.971096</td>\n",
       "      <td>Baoshan Iron &amp; Steel</td>\n",
       "      <td>Basic Materials</td>\n",
       "    </tr>\n",
       "    <tr>\n",
       "      <th>2</th>\n",
       "      <td>600585</td>\n",
       "      <td>0.965745</td>\n",
       "      <td>Anhui Conch Cement</td>\n",
       "      <td>Capital Goods</td>\n",
       "    </tr>\n",
       "    <tr>\n",
       "      <th>3</th>\n",
       "      <td>601111</td>\n",
       "      <td>0.957289</td>\n",
       "      <td>Air China A</td>\n",
       "      <td>Transportation</td>\n",
       "    </tr>\n",
       "    <tr>\n",
       "      <th>4</th>\n",
       "      <td>600104</td>\n",
       "      <td>0.945417</td>\n",
       "      <td>SAIC Motor Corp</td>\n",
       "      <td>Consumer Cyclical</td>\n",
       "    </tr>\n",
       "  </tbody>\n",
       "</table>\n",
       "</div>"
      ],
      "text/plain": [
       "   Symbol      Corr                  Name                 Sector\n",
       "0  000858  0.975753           Wuliangye A  Consumer Non-cyclical\n",
       "1  600019  0.971096  Baoshan Iron & Steel        Basic Materials\n",
       "2  600585  0.965745    Anhui Conch Cement          Capital Goods\n",
       "3  601111  0.957289           Air China A         Transportation\n",
       "4  600104  0.945417       SAIC Motor Corp      Consumer Cyclical"
      ]
     },
     "execution_count": 41,
     "metadata": {},
     "output_type": "execute_result"
    }
   ],
   "source": [
    "CHN2007.head()"
   ]
  },
  {
   "cell_type": "code",
   "execution_count": 42,
   "metadata": {
    "colab": {
     "base_uri": "https://localhost:8080/"
    },
    "id": "8jY0OojhA3Pk",
    "outputId": "2f4b89d8-c963-4105-fc17-323cb8725568"
   },
   "outputs": [
    {
     "data": {
      "text/plain": [
       "Capital Goods            4\n",
       "Consumer Non-cyclical    3\n",
       "Basic Materials          3\n",
       "Services                 3\n",
       "Transportation           2\n",
       "Utilities                2\n",
       "Healthcare               1\n",
       "Technology               1\n",
       "Consumer Cyclical        1\n",
       "Financial                1\n",
       "Name: Sector, dtype: int64"
      ]
     },
     "execution_count": 42,
     "metadata": {},
     "output_type": "execute_result"
    }
   ],
   "source": [
    "CHN2007.Sector.value_counts()"
   ]
  },
  {
   "cell_type": "markdown",
   "metadata": {
    "id": "SWx6yocGA-Fx"
   },
   "source": [
    "#### 2007년 한국"
   ]
  },
  {
   "cell_type": "code",
   "execution_count": 43,
   "metadata": {
    "colab": {
     "base_uri": "https://localhost:8080/"
    },
    "id": "Mweo7hTIBBxM",
    "outputId": "a8b4a37a-e362-4aed-a986-af0faf198619"
   },
   "outputs": [
    {
     "name": "stdout",
     "output_type": "stream",
     "text": [
      "[*********************100%***********************]  1 of 1 completed\n"
     ]
    }
   ],
   "source": [
    "ks112 = yf.download(\"^KS11\", START_DATE2, END_DATE2).Close"
   ]
  },
  {
   "cell_type": "code",
   "execution_count": 44,
   "metadata": {
    "id": "xKNEdxhfBCnt"
   },
   "outputs": [
    {
     "name": "stdout",
     "output_type": "stream",
     "text": [
      "[*********************100%***********************]  1 of 1 completed\n",
      "[*********************100%***********************]  1 of 1 completed\n",
      "[*********************100%***********************]  1 of 1 completed\n",
      "\n",
      "1 Failed download:\n",
      "- 028260.KS: Data doesn't exist for startDate = 1167577200, endDate = 1230649200\n",
      "[*********************100%***********************]  1 of 1 completed\n",
      "\n",
      "1 Failed download:\n",
      "- 028260.KQ: No data found, symbol may be delisted\n",
      "[*********************100%***********************]  1 of 1 completed\n",
      "[*********************100%***********************]  1 of 1 completed\n",
      "[*********************100%***********************]  1 of 1 completed\n",
      "[*********************100%***********************]  1 of 1 completed\n",
      "[*********************100%***********************]  1 of 1 completed\n",
      "[*********************100%***********************]  1 of 1 completed\n",
      "[*********************100%***********************]  1 of 1 completed\n",
      "[*********************100%***********************]  1 of 1 completed\n",
      "[*********************100%***********************]  1 of 1 completed\n",
      "[*********************100%***********************]  1 of 1 completed\n",
      "[*********************100%***********************]  1 of 1 completed\n",
      "[*********************100%***********************]  1 of 1 completed\n",
      "[*********************100%***********************]  1 of 1 completed\n",
      "[*********************100%***********************]  1 of 1 completed\n",
      "[*********************100%***********************]  1 of 1 completed\n",
      "[*********************100%***********************]  1 of 1 completed\n",
      "[*********************100%***********************]  1 of 1 completed\n",
      "[*********************100%***********************]  1 of 1 completed\n",
      "[*********************100%***********************]  1 of 1 completed\n",
      "\n",
      "1 Failed download:\n",
      "- 03473K.KS: Data doesn't exist for startDate = 1167577200, endDate = 1230649200\n",
      "[*********************100%***********************]  1 of 1 completed\n",
      "\n",
      "1 Failed download:\n",
      "- 03473K.KQ: No data found, symbol may be delisted\n",
      "[*********************100%***********************]  1 of 1 completed\n",
      "\n",
      "1 Failed download:\n",
      "- 034730.KS: Data doesn't exist for startDate = 1167577200, endDate = 1230649200\n",
      "[*********************100%***********************]  1 of 1 completed\n",
      "\n",
      "1 Failed download:\n",
      "- 034730.KQ: No data found, symbol may be delisted\n",
      "[*********************100%***********************]  1 of 1 completed\n",
      "[*********************100%***********************]  1 of 1 completed\n",
      "[*********************100%***********************]  1 of 1 completed\n",
      "[*********************100%***********************]  1 of 1 completed\n",
      "[*********************100%***********************]  1 of 1 completed\n",
      "[*********************100%***********************]  1 of 1 completed\n",
      "\n",
      "1 Failed download:\n",
      "- 032830.KS: Data doesn't exist for startDate = 1167577200, endDate = 1230649200\n",
      "[*********************100%***********************]  1 of 1 completed\n",
      "\n",
      "1 Failed download:\n",
      "- 032830.KQ: No data found, symbol may be delisted\n",
      "[*********************100%***********************]  1 of 1 completed\n",
      "[*********************100%***********************]  1 of 1 completed\n",
      "[*********************100%***********************]  1 of 1 completed\n",
      "\n",
      "1 Failed download:\n",
      "- 207940.KS: Data doesn't exist for startDate = 1167577200, endDate = 1230649200\n",
      "[*********************100%***********************]  1 of 1 completed\n",
      "\n",
      "1 Failed download:\n",
      "- 207940.KQ: No data found, symbol may be delisted\n",
      "[*********************100%***********************]  1 of 1 completed\n",
      "[*********************100%***********************]  1 of 1 completed\n",
      "\n",
      "1 Failed download:\n",
      "- 091990.KS: No data found, symbol may be delisted\n",
      "[*********************100%***********************]  1 of 1 completed\n",
      "\n",
      "1 Failed download:\n",
      "- 091990.KQ: No data found for this date range, symbol may be delisted\n",
      "[*********************100%***********************]  1 of 1 completed\n",
      "\n",
      "1 Failed download:\n",
      "- 326030.KS: Data doesn't exist for startDate = 1167577200, endDate = 1230649200\n",
      "[*********************100%***********************]  1 of 1 completed\n",
      "\n",
      "1 Failed download:\n",
      "- 326030.KQ: No data found, symbol may be delisted\n",
      "[*********************100%***********************]  1 of 1 completed\n",
      "[*********************100%***********************]  1 of 1 completed\n",
      "[*********************100%***********************]  1 of 1 completed\n",
      "[*********************100%***********************]  1 of 1 completed\n",
      "[*********************100%***********************]  1 of 1 completed\n",
      "[*********************100%***********************]  1 of 1 completed\n",
      "[*********************100%***********************]  1 of 1 completed\n",
      "[*********************100%***********************]  1 of 1 completed\n",
      "[*********************100%***********************]  1 of 1 completed\n",
      "[*********************100%***********************]  1 of 1 completed\n",
      "[*********************100%***********************]  1 of 1 completed\n",
      "[*********************100%***********************]  1 of 1 completed\n",
      "[*********************100%***********************]  1 of 1 completed\n",
      "[*********************100%***********************]  1 of 1 completed\n",
      "\n",
      "1 Failed download:\n",
      "- 180640.KS: Data doesn't exist for startDate = 1167577200, endDate = 1230649200\n",
      "[*********************100%***********************]  1 of 1 completed\n",
      "\n",
      "1 Failed download:\n",
      "- 180640.KQ: No data found, symbol may be delisted\n",
      "[*********************100%***********************]  1 of 1 completed\n",
      "[*********************100%***********************]  1 of 1 completed\n",
      "[*********************100%***********************]  1 of 1 completed\n",
      "[*********************100%***********************]  1 of 1 completed\n",
      "[*********************100%***********************]  1 of 1 completed\n",
      "[*********************100%***********************]  1 of 1 completed\n",
      "[*********************100%***********************]  1 of 1 completed\n"
     ]
    }
   ],
   "source": [
    "kor07 = Data_processing(START_DATE2, END_DATE2, \"KOR\", kor_top5)"
   ]
  },
  {
   "cell_type": "code",
   "execution_count": 45,
   "metadata": {
    "colab": {
     "base_uri": "https://localhost:8080/",
     "height": 346
    },
    "id": "2qNFc-XfBGpo",
    "outputId": "23cb2cbb-d3d0-4b88-baf0-72ebc80760e1"
   },
   "outputs": [
    {
     "name": "stdout",
     "output_type": "stream",
     "text": [
      "PCA >= 90% components:  5 \n",
      "PCA >= 95% components:  7\n",
      "PCA explained variance: \n",
      " [9.22208279 4.76447544 2.45469431 1.32235534 0.75688819 0.2923142 ]\n",
      "PCA explained variance ratio: \n",
      " [0.46110414 0.23822377 0.12273472 0.06611777 0.03784441 0.01461571]\n"
     ]
    },
    {
     "data": {
      "image/png": "[encoded data removed]",
      "text/plain": [
       "<Figure size 432x288 with 1 Axes>"
      ]
     },
     "metadata": {
      "needs_background": "light"
     },
     "output_type": "display_data"
    }
   ],
   "source": [
    "KOR2007 = PCA_withTerm(kor07, kor_top5)"
   ]
  },
  {
   "cell_type": "code",
   "execution_count": 46,
   "metadata": {
    "colab": {
     "base_uri": "https://localhost:8080/",
     "height": 195
    },
    "id": "VmzbEvN2BMMg",
    "outputId": "8f951e5d-1682-4d16-c613-fecc98ad707e"
   },
   "outputs": [
    {
     "data": {
      "text/html": [
       "<div>\n",
       "<style scoped>\n",
       "    .dataframe tbody tr th:only-of-type {\n",
       "        vertical-align: middle;\n",
       "    }\n",
       "\n",
       "    .dataframe tbody tr th {\n",
       "        vertical-align: top;\n",
       "    }\n",
       "\n",
       "    .dataframe thead th {\n",
       "        text-align: right;\n",
       "    }\n",
       "</style>\n",
       "<table border=\"1\" class=\"dataframe\">\n",
       "  <thead>\n",
       "    <tr style=\"text-align: right;\">\n",
       "      <th></th>\n",
       "      <th>Symbol</th>\n",
       "      <th>Corr</th>\n",
       "      <th>Name</th>\n",
       "      <th>Sector</th>\n",
       "    </tr>\n",
       "  </thead>\n",
       "  <tbody>\n",
       "    <tr>\n",
       "      <th>0</th>\n",
       "      <td>018880</td>\n",
       "      <td>-0.090262</td>\n",
       "      <td>Hanon Systems</td>\n",
       "      <td>Capital Goods</td>\n",
       "    </tr>\n",
       "    <tr>\n",
       "      <th>1</th>\n",
       "      <td>033780</td>\n",
       "      <td>-0.176131</td>\n",
       "      <td>KT&amp;G Corp</td>\n",
       "      <td>Consumer Non-cyclical</td>\n",
       "    </tr>\n",
       "    <tr>\n",
       "      <th>2</th>\n",
       "      <td>017670</td>\n",
       "      <td>-0.287810</td>\n",
       "      <td>SK Telecom</td>\n",
       "      <td>Services</td>\n",
       "    </tr>\n",
       "    <tr>\n",
       "      <th>3</th>\n",
       "      <td>015760</td>\n",
       "      <td>-0.414594</td>\n",
       "      <td>Kepco</td>\n",
       "      <td>Utilities</td>\n",
       "    </tr>\n",
       "    <tr>\n",
       "      <th>4</th>\n",
       "      <td>000660</td>\n",
       "      <td>-0.446195</td>\n",
       "      <td>SK Hynix Inc</td>\n",
       "      <td>Technology</td>\n",
       "    </tr>\n",
       "  </tbody>\n",
       "</table>\n",
       "</div>"
      ],
      "text/plain": [
       "   Symbol      Corr           Name                 Sector\n",
       "0  018880 -0.090262  Hanon Systems          Capital Goods\n",
       "1  033780 -0.176131      KT&G Corp  Consumer Non-cyclical\n",
       "2  017670 -0.287810     SK Telecom               Services\n",
       "3  015760 -0.414594          Kepco              Utilities\n",
       "4  000660 -0.446195   SK Hynix Inc             Technology"
      ]
     },
     "execution_count": 46,
     "metadata": {},
     "output_type": "execute_result"
    }
   ],
   "source": [
    "KOR2007.head()"
   ]
  },
  {
   "cell_type": "code",
   "execution_count": 47,
   "metadata": {
    "colab": {
     "base_uri": "https://localhost:8080/"
    },
    "id": "9LHPmyJ_BS5s",
    "outputId": "600a999d-6d38-4f2c-b0b8-6ab703c177b3"
   },
   "outputs": [
    {
     "data": {
      "text/plain": [
       "Capital Goods            3\n",
       "Utilities                3\n",
       "Basic Materials          2\n",
       "Transportation           2\n",
       "Services                 2\n",
       "Technology               2\n",
       "Consumer Cyclical        2\n",
       "Financial                2\n",
       "Consumer Non-cyclical    1\n",
       "Energy                   1\n",
       "Name: Sector, dtype: int64"
      ]
     },
     "execution_count": 47,
     "metadata": {},
     "output_type": "execute_result"
    }
   ],
   "source": [
    "KOR2007.Sector.value_counts()"
   ]
  },
  {
   "cell_type": "markdown",
   "metadata": {
    "id": "H8PQ7a7eKAWA"
   },
   "source": [
    "-----\n",
    "## 2020년\n",
    "### 전 세계 코로나 바이러스 확산"
   ]
  },
  {
   "cell_type": "code",
   "execution_count": 48,
   "metadata": {
    "id": "tEghuZklDiMm"
   },
   "outputs": [],
   "source": [
    "START_DATE3 = '2020-01-01'\n",
    "END_DATE3 = '2020-10-29'"
   ]
  },
  {
   "cell_type": "markdown",
   "metadata": {
    "id": "VZ7HIrWhKkx2"
   },
   "source": [
    "#### 2020년 미국"
   ]
  },
  {
   "cell_type": "code",
   "execution_count": 49,
   "metadata": {
    "colab": {
     "base_uri": "https://localhost:8080/"
    },
    "id": "xz3chO8XKjo4",
    "outputId": "894a111d-4ff6-4a90-abb2-f2c0cee4987c"
   },
   "outputs": [
    {
     "name": "stdout",
     "output_type": "stream",
     "text": [
      "[*********************100%***********************]  1 of 1 completed\n"
     ]
    }
   ],
   "source": [
    "snp3 = yf.download(\"^GSPC\", START_DATE3, END_DATE3).Close"
   ]
  },
  {
   "cell_type": "code",
   "execution_count": 50,
   "metadata": {
    "id": "96ZEvfVkNhWT",
    "scrolled": true
   },
   "outputs": [
    {
     "name": "stdout",
     "output_type": "stream",
     "text": [
      "[*********************100%***********************]  1 of 1 completed\n",
      "[*********************100%***********************]  1 of 1 completed\n",
      "[*********************100%***********************]  1 of 1 completed\n",
      "[*********************100%***********************]  1 of 1 completed\n",
      "[*********************100%***********************]  1 of 1 completed\n",
      "[*********************100%***********************]  1 of 1 completed\n",
      "[*********************100%***********************]  1 of 1 completed\n",
      "[*********************100%***********************]  1 of 1 completed\n",
      "[*********************100%***********************]  1 of 1 completed\n",
      "[*********************100%***********************]  1 of 1 completed\n",
      "[*********************100%***********************]  1 of 1 completed\n",
      "[*********************100%***********************]  1 of 1 completed\n",
      "[*********************100%***********************]  1 of 1 completed\n",
      "[*********************100%***********************]  1 of 1 completed\n",
      "[*********************100%***********************]  1 of 1 completed\n",
      "[*********************100%***********************]  1 of 1 completed\n",
      "[*********************100%***********************]  1 of 1 completed\n",
      "[*********************100%***********************]  1 of 1 completed\n",
      "[*********************100%***********************]  1 of 1 completed\n",
      "[*********************100%***********************]  1 of 1 completed\n",
      "[*********************100%***********************]  1 of 1 completed\n",
      "[*********************100%***********************]  1 of 1 completed\n",
      "[*********************100%***********************]  1 of 1 completed\n",
      "[*********************100%***********************]  1 of 1 completed\n",
      "[*********************100%***********************]  1 of 1 completed\n",
      "[*********************100%***********************]  1 of 1 completed\n",
      "[*********************100%***********************]  1 of 1 completed\n",
      "[*********************100%***********************]  1 of 1 completed\n",
      "\n",
      "1 Failed download:\n",
      "- RDSA: No data found, symbol may be delisted\n",
      "[*********************100%***********************]  1 of 1 completed\n",
      "\n",
      "1 Failed download:\n",
      "- BRKB: No data found, symbol may be delisted\n",
      "[*********************100%***********************]  1 of 1 completed\n",
      "\n",
      "1 Failed download:\n",
      "- BRKA: No data found, symbol may be delisted\n",
      "[*********************100%***********************]  1 of 1 completed\n",
      "[*********************100%***********************]  1 of 1 completed\n",
      "[*********************100%***********************]  1 of 1 completed\n",
      "[*********************100%***********************]  1 of 1 completed\n",
      "[*********************100%***********************]  1 of 1 completed\n",
      "[*********************100%***********************]  1 of 1 completed\n",
      "[*********************100%***********************]  1 of 1 completed\n",
      "[*********************100%***********************]  1 of 1 completed\n",
      "[*********************100%***********************]  1 of 1 completed\n",
      "[*********************100%***********************]  1 of 1 completed\n",
      "[*********************100%***********************]  1 of 1 completed\n",
      "[*********************100%***********************]  1 of 1 completed\n",
      "[*********************100%***********************]  1 of 1 completed\n",
      "[*********************100%***********************]  1 of 1 completed\n",
      "[*********************100%***********************]  1 of 1 completed\n",
      "[*********************100%***********************]  1 of 1 completed\n",
      "[*********************100%***********************]  1 of 1 completed\n",
      "[*********************100%***********************]  1 of 1 completed\n",
      "[*********************100%***********************]  1 of 1 completed\n",
      "[*********************100%***********************]  1 of 1 completed\n",
      "[*********************100%***********************]  1 of 1 completed\n",
      "[*********************100%***********************]  1 of 1 completed\n",
      "[*********************100%***********************]  1 of 1 completed\n",
      "[*********************100%***********************]  1 of 1 completed\n",
      "[*********************100%***********************]  1 of 1 completed\n",
      "[*********************100%***********************]  1 of 1 completed\n",
      "[*********************100%***********************]  1 of 1 completed\n",
      "[*********************100%***********************]  1 of 1 completed\n"
     ]
    }
   ],
   "source": [
    "usa20 = Data_processing(START_DATE3, END_DATE3, 'USA', usa_top5)"
   ]
  },
  {
   "cell_type": "code",
   "execution_count": 51,
   "metadata": {
    "colab": {
     "base_uri": "https://localhost:8080/",
     "height": 346
    },
    "id": "i0fs4mFRNqeq",
    "outputId": "42714fcc-c6a5-4934-e984-09d0e54485de"
   },
   "outputs": [
    {
     "name": "stdout",
     "output_type": "stream",
     "text": [
      "PCA >= 90% components:  4 \n",
      "PCA >= 95% components:  7\n",
      "PCA explained variance: \n",
      " [29.65510913 15.36644747  2.92029397  1.70869945  1.29808441]\n",
      "PCA explained variance ratio: \n",
      " [0.5391838  0.27938995 0.05309625 0.03106726 0.02360153]\n"
     ]
    },
    {
     "data": {
      "image/png": "[encoded data removed]",
      "text/plain": [
       "<Figure size 432x288 with 1 Axes>"
      ]
     },
     "metadata": {
      "needs_background": "light"
     },
     "output_type": "display_data"
    }
   ],
   "source": [
    "USA2020 = PCA_withTerm(usa20, usa_top5)"
   ]
  },
  {
   "cell_type": "code",
   "execution_count": 52,
   "metadata": {
    "colab": {
     "base_uri": "https://localhost:8080/",
     "height": 1000
    },
    "id": "DKKOWX3BOBFN",
    "outputId": "26a9823c-7c09-4bd5-a083-2cea4adfd7e9",
    "scrolled": true
   },
   "outputs": [
    {
     "data": {
      "text/html": [
       "<div>\n",
       "<style scoped>\n",
       "    .dataframe tbody tr th:only-of-type {\n",
       "        vertical-align: middle;\n",
       "    }\n",
       "\n",
       "    .dataframe tbody tr th {\n",
       "        vertical-align: top;\n",
       "    }\n",
       "\n",
       "    .dataframe thead th {\n",
       "        text-align: right;\n",
       "    }\n",
       "</style>\n",
       "<table border=\"1\" class=\"dataframe\">\n",
       "  <thead>\n",
       "    <tr style=\"text-align: right;\">\n",
       "      <th></th>\n",
       "      <th>Symbol</th>\n",
       "      <th>Corr</th>\n",
       "      <th>Name</th>\n",
       "      <th>Sector</th>\n",
       "    </tr>\n",
       "  </thead>\n",
       "  <tbody>\n",
       "    <tr>\n",
       "      <th>0</th>\n",
       "      <td>RYDAF</td>\n",
       "      <td>-0.014009</td>\n",
       "      <td>Royal Dutch Shell A</td>\n",
       "      <td>Energy</td>\n",
       "    </tr>\n",
       "    <tr>\n",
       "      <th>1</th>\n",
       "      <td>PTR</td>\n",
       "      <td>-0.064301</td>\n",
       "      <td>PetroChina ADR</td>\n",
       "      <td>Energy</td>\n",
       "    </tr>\n",
       "    <tr>\n",
       "      <th>2</th>\n",
       "      <td>XOM</td>\n",
       "      <td>-0.115429</td>\n",
       "      <td>Exxon Mobil</td>\n",
       "      <td>Energy</td>\n",
       "    </tr>\n",
       "    <tr>\n",
       "      <th>3</th>\n",
       "      <td>CVX</td>\n",
       "      <td>-0.214216</td>\n",
       "      <td>Chevron</td>\n",
       "      <td>Energy</td>\n",
       "    </tr>\n",
       "    <tr>\n",
       "      <th>4</th>\n",
       "      <td>MRCR</td>\n",
       "      <td>-0.218484</td>\n",
       "      <td>Moro</td>\n",
       "      <td>Conglomerates</td>\n",
       "    </tr>\n",
       "    <tr>\n",
       "      <th>5</th>\n",
       "      <td>SO</td>\n",
       "      <td>-0.231788</td>\n",
       "      <td>Southern</td>\n",
       "      <td>Utilities</td>\n",
       "    </tr>\n",
       "    <tr>\n",
       "      <th>6</th>\n",
       "      <td>SXC</td>\n",
       "      <td>-0.248502</td>\n",
       "      <td>SunCoke Energy</td>\n",
       "      <td>Conglomerates</td>\n",
       "    </tr>\n",
       "    <tr>\n",
       "      <th>7</th>\n",
       "      <td>BA</td>\n",
       "      <td>-0.314516</td>\n",
       "      <td>Boeing</td>\n",
       "      <td>Capital Goods</td>\n",
       "    </tr>\n",
       "    <tr>\n",
       "      <th>8</th>\n",
       "      <td>ENB</td>\n",
       "      <td>-0.354735</td>\n",
       "      <td>Enbridge</td>\n",
       "      <td>Utilities</td>\n",
       "    </tr>\n",
       "    <tr>\n",
       "      <th>9</th>\n",
       "      <td>DUK</td>\n",
       "      <td>-0.360633</td>\n",
       "      <td>Duke Energy</td>\n",
       "      <td>Utilities</td>\n",
       "    </tr>\n",
       "    <tr>\n",
       "      <th>10</th>\n",
       "      <td>JPM</td>\n",
       "      <td>-0.378080</td>\n",
       "      <td>JPMorgan</td>\n",
       "      <td>Financial</td>\n",
       "    </tr>\n",
       "    <tr>\n",
       "      <th>11</th>\n",
       "      <td>KO</td>\n",
       "      <td>-0.474330</td>\n",
       "      <td>Coca-Cola</td>\n",
       "      <td>Consumer Non-cyclical</td>\n",
       "    </tr>\n",
       "    <tr>\n",
       "      <th>12</th>\n",
       "      <td>D</td>\n",
       "      <td>-0.478379</td>\n",
       "      <td>Dominion Energy</td>\n",
       "      <td>Utilities</td>\n",
       "    </tr>\n",
       "    <tr>\n",
       "      <th>13</th>\n",
       "      <td>RHHBY</td>\n",
       "      <td>-0.550733</td>\n",
       "      <td>Roche Holding ADR</td>\n",
       "      <td>Healthcare</td>\n",
       "    </tr>\n",
       "    <tr>\n",
       "      <th>14</th>\n",
       "      <td>RHHVF</td>\n",
       "      <td>-0.555785</td>\n",
       "      <td>Roche Holding Participation</td>\n",
       "      <td>Healthcare</td>\n",
       "    </tr>\n",
       "    <tr>\n",
       "      <th>15</th>\n",
       "      <td>WMT</td>\n",
       "      <td>-0.600655</td>\n",
       "      <td>Walmart</td>\n",
       "      <td>Services</td>\n",
       "    </tr>\n",
       "    <tr>\n",
       "      <th>16</th>\n",
       "      <td>MRK</td>\n",
       "      <td>-0.616394</td>\n",
       "      <td>Merck&amp;Co</td>\n",
       "      <td>Healthcare</td>\n",
       "    </tr>\n",
       "    <tr>\n",
       "      <th>17</th>\n",
       "      <td>PFE</td>\n",
       "      <td>-0.636994</td>\n",
       "      <td>Pfizer</td>\n",
       "      <td>Healthcare</td>\n",
       "    </tr>\n",
       "    <tr>\n",
       "      <th>18</th>\n",
       "      <td>LMT</td>\n",
       "      <td>-0.637366</td>\n",
       "      <td>Lockheed Martin</td>\n",
       "      <td>Capital Goods</td>\n",
       "    </tr>\n",
       "    <tr>\n",
       "      <th>19</th>\n",
       "      <td>AMZN</td>\n",
       "      <td>-0.656221</td>\n",
       "      <td>Amazon.com</td>\n",
       "      <td>Services</td>\n",
       "    </tr>\n",
       "    <tr>\n",
       "      <th>20</th>\n",
       "      <td>TXT</td>\n",
       "      <td>-0.679601</td>\n",
       "      <td>Textron</td>\n",
       "      <td>Conglomerates</td>\n",
       "    </tr>\n",
       "    <tr>\n",
       "      <th>21</th>\n",
       "      <td>JNJ</td>\n",
       "      <td>-0.696799</td>\n",
       "      <td>J&amp;J</td>\n",
       "      <td>Healthcare</td>\n",
       "    </tr>\n",
       "    <tr>\n",
       "      <th>22</th>\n",
       "      <td>TOYOF</td>\n",
       "      <td>-0.697613</td>\n",
       "      <td>Toyota Motor</td>\n",
       "      <td>Consumer Cyclical</td>\n",
       "    </tr>\n",
       "    <tr>\n",
       "      <th>23</th>\n",
       "      <td>TM</td>\n",
       "      <td>-0.725441</td>\n",
       "      <td>Toyota Motor ADR</td>\n",
       "      <td>Consumer Cyclical</td>\n",
       "    </tr>\n",
       "    <tr>\n",
       "      <th>24</th>\n",
       "      <td>TSLA</td>\n",
       "      <td>-0.729441</td>\n",
       "      <td>Tesla</td>\n",
       "      <td>Consumer Cyclical</td>\n",
       "    </tr>\n",
       "    <tr>\n",
       "      <th>25</th>\n",
       "      <td>MSFT</td>\n",
       "      <td>-0.773048</td>\n",
       "      <td>Microsoft</td>\n",
       "      <td>Technology</td>\n",
       "    </tr>\n",
       "    <tr>\n",
       "      <th>26</th>\n",
       "      <td>PEP</td>\n",
       "      <td>-0.779276</td>\n",
       "      <td>PepsiCo</td>\n",
       "      <td>Consumer Non-cyclical</td>\n",
       "    </tr>\n",
       "    <tr>\n",
       "      <th>27</th>\n",
       "      <td>UPS</td>\n",
       "      <td>-0.783129</td>\n",
       "      <td>United Parcel Service</td>\n",
       "      <td>Transportation</td>\n",
       "    </tr>\n",
       "    <tr>\n",
       "      <th>28</th>\n",
       "      <td>DOGEF</td>\n",
       "      <td>-0.791982</td>\n",
       "      <td>Oersted</td>\n",
       "      <td>Utilities</td>\n",
       "    </tr>\n",
       "    <tr>\n",
       "      <th>29</th>\n",
       "      <td>ASML</td>\n",
       "      <td>-0.793507</td>\n",
       "      <td>ASML  ADR</td>\n",
       "      <td>Capital Goods</td>\n",
       "    </tr>\n",
       "    <tr>\n",
       "      <th>30</th>\n",
       "      <td>HON</td>\n",
       "      <td>-0.795794</td>\n",
       "      <td>Honeywell</td>\n",
       "      <td>Capital Goods</td>\n",
       "    </tr>\n",
       "    <tr>\n",
       "      <th>31</th>\n",
       "      <td>FDX</td>\n",
       "      <td>-0.801116</td>\n",
       "      <td>FedEx</td>\n",
       "      <td>Transportation</td>\n",
       "    </tr>\n",
       "    <tr>\n",
       "      <th>32</th>\n",
       "      <td>BABA</td>\n",
       "      <td>-0.819063</td>\n",
       "      <td>Alibaba ADR</td>\n",
       "      <td>Services</td>\n",
       "    </tr>\n",
       "    <tr>\n",
       "      <th>33</th>\n",
       "      <td>MMM</td>\n",
       "      <td>-0.829912</td>\n",
       "      <td>3M</td>\n",
       "      <td>Capital Goods</td>\n",
       "    </tr>\n",
       "    <tr>\n",
       "      <th>34</th>\n",
       "      <td>AAPL</td>\n",
       "      <td>-0.830837</td>\n",
       "      <td>Apple</td>\n",
       "      <td>Technology</td>\n",
       "    </tr>\n",
       "    <tr>\n",
       "      <th>35</th>\n",
       "      <td>NSRGF</td>\n",
       "      <td>-0.880745</td>\n",
       "      <td>Nestle</td>\n",
       "      <td>Consumer Non-cyclical</td>\n",
       "    </tr>\n",
       "    <tr>\n",
       "      <th>36</th>\n",
       "      <td>UNH</td>\n",
       "      <td>-0.882393</td>\n",
       "      <td>UnitedHealth</td>\n",
       "      <td>Financial</td>\n",
       "    </tr>\n",
       "    <tr>\n",
       "      <th>37</th>\n",
       "      <td>FB</td>\n",
       "      <td>-0.882851</td>\n",
       "      <td>Facebook</td>\n",
       "      <td>Technology</td>\n",
       "    </tr>\n",
       "    <tr>\n",
       "      <th>38</th>\n",
       "      <td>PG</td>\n",
       "      <td>-0.884426</td>\n",
       "      <td>Procter&amp;Gamble</td>\n",
       "      <td>Consumer Non-cyclical</td>\n",
       "    </tr>\n",
       "    <tr>\n",
       "      <th>39</th>\n",
       "      <td>NKE</td>\n",
       "      <td>-0.890305</td>\n",
       "      <td>Nike</td>\n",
       "      <td>Consumer Cyclical</td>\n",
       "    </tr>\n",
       "    <tr>\n",
       "      <th>40</th>\n",
       "      <td>BBL</td>\n",
       "      <td>-0.905777</td>\n",
       "      <td>BHP Billiton ADR</td>\n",
       "      <td>Basic Materials</td>\n",
       "    </tr>\n",
       "    <tr>\n",
       "      <th>41</th>\n",
       "      <td>HD</td>\n",
       "      <td>-0.905805</td>\n",
       "      <td>Home Depot</td>\n",
       "      <td>Services</td>\n",
       "    </tr>\n",
       "    <tr>\n",
       "      <th>42</th>\n",
       "      <td>BHPLF</td>\n",
       "      <td>-0.922502</td>\n",
       "      <td>BHP Billiton Ltd</td>\n",
       "      <td>Basic Materials</td>\n",
       "    </tr>\n",
       "    <tr>\n",
       "      <th>43</th>\n",
       "      <td>BHP</td>\n",
       "      <td>-0.924360</td>\n",
       "      <td>BHP Billiton Ltd ADR</td>\n",
       "      <td>Basic Materials</td>\n",
       "    </tr>\n",
       "    <tr>\n",
       "      <th>44</th>\n",
       "      <td>LIN</td>\n",
       "      <td>-0.925317</td>\n",
       "      <td>Linde PLC</td>\n",
       "      <td>Basic Materials</td>\n",
       "    </tr>\n",
       "    <tr>\n",
       "      <th>45</th>\n",
       "      <td>V</td>\n",
       "      <td>-0.926419</td>\n",
       "      <td>Visa A</td>\n",
       "      <td>Services</td>\n",
       "    </tr>\n",
       "    <tr>\n",
       "      <th>46</th>\n",
       "      <td>UL</td>\n",
       "      <td>-0.928728</td>\n",
       "      <td>Unilever ADR</td>\n",
       "      <td>Consumer Non-cyclical</td>\n",
       "    </tr>\n",
       "    <tr>\n",
       "      <th>47</th>\n",
       "      <td>SHW</td>\n",
       "      <td>-0.929926</td>\n",
       "      <td>Sherwin-Williams</td>\n",
       "      <td>Basic Materials</td>\n",
       "    </tr>\n",
       "    <tr>\n",
       "      <th>48</th>\n",
       "      <td>GOOGL</td>\n",
       "      <td>-0.931351</td>\n",
       "      <td>Alphabet A</td>\n",
       "      <td>Technology</td>\n",
       "    </tr>\n",
       "    <tr>\n",
       "      <th>49</th>\n",
       "      <td>GOOG</td>\n",
       "      <td>-0.933402</td>\n",
       "      <td>Alphabet C</td>\n",
       "      <td>Technology</td>\n",
       "    </tr>\n",
       "    <tr>\n",
       "      <th>50</th>\n",
       "      <td>LVMUY</td>\n",
       "      <td>-0.934214</td>\n",
       "      <td>Louis Vuitton ADR</td>\n",
       "      <td>Consumer Cyclical</td>\n",
       "    </tr>\n",
       "    <tr>\n",
       "      <th>51</th>\n",
       "      <td>CSX</td>\n",
       "      <td>-0.947621</td>\n",
       "      <td>CSX</td>\n",
       "      <td>Transportation</td>\n",
       "    </tr>\n",
       "    <tr>\n",
       "      <th>52</th>\n",
       "      <td>CNI</td>\n",
       "      <td>-0.952406</td>\n",
       "      <td>Canadian National Railway</td>\n",
       "      <td>Transportation</td>\n",
       "    </tr>\n",
       "    <tr>\n",
       "      <th>53</th>\n",
       "      <td>MA</td>\n",
       "      <td>-0.965101</td>\n",
       "      <td>Mastercard</td>\n",
       "      <td>Financial</td>\n",
       "    </tr>\n",
       "    <tr>\n",
       "      <th>54</th>\n",
       "      <td>UNP</td>\n",
       "      <td>-0.971669</td>\n",
       "      <td>Union Pacific</td>\n",
       "      <td>Transportation</td>\n",
       "    </tr>\n",
       "  </tbody>\n",
       "</table>\n",
       "</div>"
      ],
      "text/plain": [
       "   Symbol      Corr                         Name                 Sector\n",
       "0   RYDAF -0.014009          Royal Dutch Shell A                 Energy\n",
       "1     PTR -0.064301               PetroChina ADR                 Energy\n",
       "2     XOM -0.115429                  Exxon Mobil                 Energy\n",
       "3     CVX -0.214216                      Chevron                 Energy\n",
       "4    MRCR -0.218484                         Moro          Conglomerates\n",
       "5      SO -0.231788                     Southern              Utilities\n",
       "6     SXC -0.248502               SunCoke Energy          Conglomerates\n",
       "7      BA -0.314516                       Boeing          Capital Goods\n",
       "8     ENB -0.354735                     Enbridge              Utilities\n",
       "9     DUK -0.360633                  Duke Energy              Utilities\n",
       "10    JPM -0.378080                     JPMorgan              Financial\n",
       "11     KO -0.474330                    Coca-Cola  Consumer Non-cyclical\n",
       "12      D -0.478379              Dominion Energy              Utilities\n",
       "13  RHHBY -0.550733            Roche Holding ADR             Healthcare\n",
       "14  RHHVF -0.555785  Roche Holding Participation             Healthcare\n",
       "15    WMT -0.600655                      Walmart               Services\n",
       "16    MRK -0.616394                     Merck&Co             Healthcare\n",
       "17    PFE -0.636994                       Pfizer             Healthcare\n",
       "18    LMT -0.637366              Lockheed Martin          Capital Goods\n",
       "19   AMZN -0.656221                   Amazon.com               Services\n",
       "20    TXT -0.679601                      Textron          Conglomerates\n",
       "21    JNJ -0.696799                          J&J             Healthcare\n",
       "22  TOYOF -0.697613                 Toyota Motor      Consumer Cyclical\n",
       "23     TM -0.725441             Toyota Motor ADR      Consumer Cyclical\n",
       "24   TSLA -0.729441                        Tesla      Consumer Cyclical\n",
       "25   MSFT -0.773048                    Microsoft             Technology\n",
       "26    PEP -0.779276                      PepsiCo  Consumer Non-cyclical\n",
       "27    UPS -0.783129        United Parcel Service         Transportation\n",
       "28  DOGEF -0.791982                      Oersted              Utilities\n",
       "29   ASML -0.793507                    ASML  ADR          Capital Goods\n",
       "30    HON -0.795794                    Honeywell          Capital Goods\n",
       "31    FDX -0.801116                        FedEx         Transportation\n",
       "32   BABA -0.819063                  Alibaba ADR               Services\n",
       "33    MMM -0.829912                           3M          Capital Goods\n",
       "34   AAPL -0.830837                        Apple             Technology\n",
       "35  NSRGF -0.880745                       Nestle  Consumer Non-cyclical\n",
       "36    UNH -0.882393                 UnitedHealth              Financial\n",
       "37     FB -0.882851                     Facebook             Technology\n",
       "38     PG -0.884426               Procter&Gamble  Consumer Non-cyclical\n",
       "39    NKE -0.890305                         Nike      Consumer Cyclical\n",
       "40    BBL -0.905777             BHP Billiton ADR        Basic Materials\n",
       "41     HD -0.905805                   Home Depot               Services\n",
       "42  BHPLF -0.922502             BHP Billiton Ltd        Basic Materials\n",
       "43    BHP -0.924360         BHP Billiton Ltd ADR        Basic Materials\n",
       "44    LIN -0.925317                    Linde PLC        Basic Materials\n",
       "45      V -0.926419                       Visa A               Services\n",
       "46     UL -0.928728                 Unilever ADR  Consumer Non-cyclical\n",
       "47    SHW -0.929926             Sherwin-Williams        Basic Materials\n",
       "48  GOOGL -0.931351                   Alphabet A             Technology\n",
       "49   GOOG -0.933402                   Alphabet C             Technology\n",
       "50  LVMUY -0.934214            Louis Vuitton ADR      Consumer Cyclical\n",
       "51    CSX -0.947621                          CSX         Transportation\n",
       "52    CNI -0.952406    Canadian National Railway         Transportation\n",
       "53     MA -0.965101                   Mastercard              Financial\n",
       "54    UNP -0.971669                Union Pacific         Transportation"
      ]
     },
     "execution_count": 52,
     "metadata": {},
     "output_type": "execute_result"
    }
   ],
   "source": [
    "USA2020"
   ]
  },
  {
   "cell_type": "code",
   "execution_count": 53,
   "metadata": {
    "colab": {
     "base_uri": "https://localhost:8080/",
     "height": 195
    },
    "id": "krDQIPEzNyQT",
    "outputId": "c506003c-97a3-491b-e760-92d0902b64fe"
   },
   "outputs": [
    {
     "data": {
      "text/html": [
       "<div>\n",
       "<style scoped>\n",
       "    .dataframe tbody tr th:only-of-type {\n",
       "        vertical-align: middle;\n",
       "    }\n",
       "\n",
       "    .dataframe tbody tr th {\n",
       "        vertical-align: top;\n",
       "    }\n",
       "\n",
       "    .dataframe thead th {\n",
       "        text-align: right;\n",
       "    }\n",
       "</style>\n",
       "<table border=\"1\" class=\"dataframe\">\n",
       "  <thead>\n",
       "    <tr style=\"text-align: right;\">\n",
       "      <th></th>\n",
       "      <th>Symbol</th>\n",
       "      <th>Corr</th>\n",
       "      <th>Name</th>\n",
       "      <th>Sector</th>\n",
       "    </tr>\n",
       "  </thead>\n",
       "  <tbody>\n",
       "    <tr>\n",
       "      <th>0</th>\n",
       "      <td>RYDAF</td>\n",
       "      <td>-0.014009</td>\n",
       "      <td>Royal Dutch Shell A</td>\n",
       "      <td>Energy</td>\n",
       "    </tr>\n",
       "    <tr>\n",
       "      <th>1</th>\n",
       "      <td>PTR</td>\n",
       "      <td>-0.064301</td>\n",
       "      <td>PetroChina ADR</td>\n",
       "      <td>Energy</td>\n",
       "    </tr>\n",
       "    <tr>\n",
       "      <th>2</th>\n",
       "      <td>XOM</td>\n",
       "      <td>-0.115429</td>\n",
       "      <td>Exxon Mobil</td>\n",
       "      <td>Energy</td>\n",
       "    </tr>\n",
       "    <tr>\n",
       "      <th>3</th>\n",
       "      <td>CVX</td>\n",
       "      <td>-0.214216</td>\n",
       "      <td>Chevron</td>\n",
       "      <td>Energy</td>\n",
       "    </tr>\n",
       "    <tr>\n",
       "      <th>4</th>\n",
       "      <td>MRCR</td>\n",
       "      <td>-0.218484</td>\n",
       "      <td>Moro</td>\n",
       "      <td>Conglomerates</td>\n",
       "    </tr>\n",
       "  </tbody>\n",
       "</table>\n",
       "</div>"
      ],
      "text/plain": [
       "  Symbol      Corr                 Name         Sector\n",
       "0  RYDAF -0.014009  Royal Dutch Shell A         Energy\n",
       "1    PTR -0.064301       PetroChina ADR         Energy\n",
       "2    XOM -0.115429          Exxon Mobil         Energy\n",
       "3    CVX -0.214216              Chevron         Energy\n",
       "4   MRCR -0.218484                 Moro  Conglomerates"
      ]
     },
     "execution_count": 53,
     "metadata": {},
     "output_type": "execute_result"
    }
   ],
   "source": [
    "USA2020.head()"
   ]
  },
  {
   "cell_type": "code",
   "execution_count": 54,
   "metadata": {
    "colab": {
     "base_uri": "https://localhost:8080/"
    },
    "id": "CcpIUyRuN3VI",
    "outputId": "c0ea1afc-1ec6-4ebe-f098-43424cf7d01b"
   },
   "outputs": [
    {
     "data": {
      "text/plain": [
       "Capital Goods            5\n",
       "Consumer Non-cyclical    5\n",
       "Basic Materials          5\n",
       "Healthcare               5\n",
       "Transportation           5\n",
       "Consumer Cyclical        5\n",
       "Technology               5\n",
       "Services                 5\n",
       "Utilities                5\n",
       "Energy                   4\n",
       "Conglomerates            3\n",
       "Financial                3\n",
       "Name: Sector, dtype: int64"
      ]
     },
     "execution_count": 54,
     "metadata": {},
     "output_type": "execute_result"
    }
   ],
   "source": [
    "USA2020.Sector.value_counts()"
   ]
  },
  {
   "cell_type": "markdown",
   "metadata": {
    "id": "tCVHab6VOT2U"
   },
   "source": [
    "#### 2020년 일본"
   ]
  },
  {
   "cell_type": "code",
   "execution_count": 55,
   "metadata": {
    "colab": {
     "base_uri": "https://localhost:8080/"
    },
    "id": "EbhJlpd9N617",
    "outputId": "71d96de2-aa60-4328-968c-b3dbb4b29beb"
   },
   "outputs": [
    {
     "name": "stdout",
     "output_type": "stream",
     "text": [
      "[*********************100%***********************]  1 of 1 completed\n"
     ]
    }
   ],
   "source": [
    "nik3 = yf.download(\"^N225\", START_DATE3, END_DATE3).Close"
   ]
  },
  {
   "cell_type": "code",
   "execution_count": 56,
   "metadata": {
    "colab": {
     "base_uri": "https://localhost:8080/"
    },
    "id": "V49wV3VsOwO9",
    "outputId": "7b1e83fb-1ead-4670-9e6a-74560ee864fa",
    "scrolled": true
   },
   "outputs": [
    {
     "name": "stdout",
     "output_type": "stream",
     "text": [
      "[*********************100%***********************]  1 of 1 completed\n",
      "[*********************100%***********************]  1 of 1 completed\n",
      "[*********************100%***********************]  1 of 1 completed\n",
      "[*********************100%***********************]  1 of 1 completed\n",
      "[*********************100%***********************]  1 of 1 completed\n",
      "[*********************100%***********************]  1 of 1 completed\n",
      "[*********************100%***********************]  1 of 1 completed\n",
      "[*********************100%***********************]  1 of 1 completed\n",
      "[*********************100%***********************]  1 of 1 completed\n",
      "[*********************100%***********************]  1 of 1 completed\n",
      "[*********************100%***********************]  1 of 1 completed\n",
      "[*********************100%***********************]  1 of 1 completed\n",
      "[*********************100%***********************]  1 of 1 completed\n",
      "[*********************100%***********************]  1 of 1 completed\n",
      "[*********************100%***********************]  1 of 1 completed\n",
      "[*********************100%***********************]  1 of 1 completed\n",
      "[*********************100%***********************]  1 of 1 completed\n",
      "[*********************100%***********************]  1 of 1 completed\n",
      "[*********************100%***********************]  1 of 1 completed\n",
      "[*********************100%***********************]  1 of 1 completed\n",
      "[*********************100%***********************]  1 of 1 completed\n",
      "[*********************100%***********************]  1 of 1 completed\n",
      "[*********************100%***********************]  1 of 1 completed\n",
      "[*********************100%***********************]  1 of 1 completed\n",
      "[*********************100%***********************]  1 of 1 completed\n",
      "[*********************100%***********************]  1 of 1 completed\n",
      "[*********************100%***********************]  1 of 1 completed\n",
      "[*********************100%***********************]  1 of 1 completed\n",
      "[*********************100%***********************]  1 of 1 completed\n",
      "[*********************100%***********************]  1 of 1 completed\n",
      "[*********************100%***********************]  1 of 1 completed\n",
      "[*********************100%***********************]  1 of 1 completed\n",
      "[*********************100%***********************]  1 of 1 completed\n",
      "[*********************100%***********************]  1 of 1 completed\n",
      "[*********************100%***********************]  1 of 1 completed\n",
      "[*********************100%***********************]  1 of 1 completed\n",
      "[*********************100%***********************]  1 of 1 completed\n",
      "[*********************100%***********************]  1 of 1 completed\n",
      "[*********************100%***********************]  1 of 1 completed\n",
      "[*********************100%***********************]  1 of 1 completed\n",
      "[*********************100%***********************]  1 of 1 completed\n",
      "[*********************100%***********************]  1 of 1 completed\n",
      "[*********************100%***********************]  1 of 1 completed\n",
      "[*********************100%***********************]  1 of 1 completed\n",
      "[*********************100%***********************]  1 of 1 completed\n",
      "[*********************100%***********************]  1 of 1 completed\n",
      "[*********************100%***********************]  1 of 1 completed\n",
      "[*********************100%***********************]  1 of 1 completed\n",
      "[*********************100%***********************]  1 of 1 completed\n",
      "[*********************100%***********************]  1 of 1 completed\n",
      "[*********************100%***********************]  1 of 1 completed\n",
      "[*********************100%***********************]  1 of 1 completed\n",
      "[*********************100%***********************]  1 of 1 completed\n",
      "[*********************100%***********************]  1 of 1 completed\n",
      "[*********************100%***********************]  1 of 1 completed\n",
      "[*********************100%***********************]  1 of 1 completed\n",
      "[*********************100%***********************]  1 of 1 completed\n"
     ]
    }
   ],
   "source": [
    "jpn20 = Data_processing(START_DATE3, END_DATE3, \"JPN\", jpn_top5)"
   ]
  },
  {
   "cell_type": "code",
   "execution_count": 57,
   "metadata": {
    "colab": {
     "base_uri": "https://localhost:8080/",
     "height": 346
    },
    "id": "Xhf7bg46O6U6",
    "outputId": "2eac4a0d-24df-46f3-b578-9cdb59f0754a"
   },
   "outputs": [
    {
     "name": "stdout",
     "output_type": "stream",
     "text": [
      "PCA >= 90% components:  4 \n",
      "PCA >= 95% components:  7\n",
      "PCA explained variance: \n",
      " [23.32206086 21.02053056  5.13277877  2.09546212  1.09919301]\n",
      "PCA explained variance ratio: \n",
      " [0.40915896 0.36878124 0.09004875 0.03676249 0.01928409]\n"
     ]
    },
    {
     "data": {
      "image/png": "[encoded data removed]",
      "text/plain": [
       "<Figure size 432x288 with 1 Axes>"
      ]
     },
     "metadata": {
      "needs_background": "light"
     },
     "output_type": "display_data"
    }
   ],
   "source": [
    "JPN2020 = PCA_withTerm(jpn20, jpn_top5)"
   ]
  },
  {
   "cell_type": "code",
   "execution_count": 58,
   "metadata": {
    "colab": {
     "base_uri": "https://localhost:8080/",
     "height": 195
    },
    "id": "w3fSpYQbO68J",
    "outputId": "3ce09daa-7e63-4610-da4b-284fdc38ae95"
   },
   "outputs": [
    {
     "data": {
      "text/html": [
       "<div>\n",
       "<style scoped>\n",
       "    .dataframe tbody tr th:only-of-type {\n",
       "        vertical-align: middle;\n",
       "    }\n",
       "\n",
       "    .dataframe tbody tr th {\n",
       "        vertical-align: top;\n",
       "    }\n",
       "\n",
       "    .dataframe thead th {\n",
       "        text-align: right;\n",
       "    }\n",
       "</style>\n",
       "<table border=\"1\" class=\"dataframe\">\n",
       "  <thead>\n",
       "    <tr style=\"text-align: right;\">\n",
       "      <th></th>\n",
       "      <th>Symbol</th>\n",
       "      <th>Corr</th>\n",
       "      <th>Name</th>\n",
       "      <th>Sector</th>\n",
       "    </tr>\n",
       "  </thead>\n",
       "  <tbody>\n",
       "    <tr>\n",
       "      <th>0</th>\n",
       "      <td>2768</td>\n",
       "      <td>0.958983</td>\n",
       "      <td>Sojitz Corp.</td>\n",
       "      <td>Energy</td>\n",
       "    </tr>\n",
       "    <tr>\n",
       "      <th>1</th>\n",
       "      <td>1605</td>\n",
       "      <td>0.958545</td>\n",
       "      <td>Inpex Corp.</td>\n",
       "      <td>Energy</td>\n",
       "    </tr>\n",
       "    <tr>\n",
       "      <th>2</th>\n",
       "      <td>5019</td>\n",
       "      <td>0.953491</td>\n",
       "      <td>Idemitsu Kosan Co Ltd</td>\n",
       "      <td>Energy</td>\n",
       "    </tr>\n",
       "    <tr>\n",
       "      <th>3</th>\n",
       "      <td>9022</td>\n",
       "      <td>0.942091</td>\n",
       "      <td>Central Japan Railway Co.</td>\n",
       "      <td>Transportation</td>\n",
       "    </tr>\n",
       "    <tr>\n",
       "      <th>4</th>\n",
       "      <td>9020</td>\n",
       "      <td>0.932584</td>\n",
       "      <td>East Japan Railway Co.</td>\n",
       "      <td>Transportation</td>\n",
       "    </tr>\n",
       "  </tbody>\n",
       "</table>\n",
       "</div>"
      ],
      "text/plain": [
       "  Symbol      Corr                       Name          Sector\n",
       "0   2768  0.958983               Sojitz Corp.          Energy\n",
       "1   1605  0.958545                Inpex Corp.          Energy\n",
       "2   5019  0.953491      Idemitsu Kosan Co Ltd          Energy\n",
       "3   9022  0.942091  Central Japan Railway Co.  Transportation\n",
       "4   9020  0.932584     East Japan Railway Co.  Transportation"
      ]
     },
     "execution_count": 58,
     "metadata": {},
     "output_type": "execute_result"
    }
   ],
   "source": [
    "JPN2020.head()"
   ]
  },
  {
   "cell_type": "code",
   "execution_count": 59,
   "metadata": {
    "colab": {
     "base_uri": "https://localhost:8080/"
    },
    "id": "pp-5EeMCO7Gq",
    "outputId": "0c5cfa0b-0811-4b79-ec66-c51a23076cf0"
   },
   "outputs": [
    {
     "data": {
      "text/plain": [
       "Capital Goods            5\n",
       "Energy                   5\n",
       "Consumer Non-cyclical    5\n",
       "Basic Materials          5\n",
       "Healthcare               5\n",
       "Transportation           5\n",
       "Consumer Cyclical        5\n",
       "Technology               5\n",
       "Services                 5\n",
       "Utilities                5\n",
       "Financial                5\n",
       "Conglomerates            2\n",
       "Name: Sector, dtype: int64"
      ]
     },
     "execution_count": 59,
     "metadata": {},
     "output_type": "execute_result"
    }
   ],
   "source": [
    "JPN2020.Sector.value_counts()"
   ]
  },
  {
   "cell_type": "markdown",
   "metadata": {
    "id": "U2Rp8wOePHGS"
   },
   "source": [
    "#### 2020년 중국"
   ]
  },
  {
   "cell_type": "code",
   "execution_count": 60,
   "metadata": {
    "colab": {
     "base_uri": "https://localhost:8080/"
    },
    "id": "pM9EDQlgO7Dp",
    "outputId": "48986c99-c947-435f-8e03-abe884cc68aa"
   },
   "outputs": [
    {
     "name": "stdout",
     "output_type": "stream",
     "text": [
      "[*********************100%***********************]  1 of 1 completed\n",
      "\n",
      "1 Failed download:\n",
      "- ^SSEC: No data found for this date range, symbol may be delisted\n"
     ]
    }
   ],
   "source": [
    "ssec3 = yf.download(\"^SSEC\", START_DATE3, END_DATE3).Close"
   ]
  },
  {
   "cell_type": "code",
   "execution_count": 61,
   "metadata": {
    "colab": {
     "base_uri": "https://localhost:8080/"
    },
    "id": "4OVeya7MO7A2",
    "outputId": "8b299279-b927-407e-e63e-33f2f6711246"
   },
   "outputs": [
    {
     "name": "stdout",
     "output_type": "stream",
     "text": [
      "[*********************100%***********************]  1 of 1 completed\n",
      "[*********************100%***********************]  1 of 1 completed\n",
      "[*********************100%***********************]  1 of 1 completed\n",
      "[*********************100%***********************]  1 of 1 completed\n",
      "\n",
      "1 Failed download:\n",
      "- 002493.SS: No data found, symbol may be delisted\n",
      "[*********************100%***********************]  1 of 1 completed\n",
      "[*********************100%***********************]  1 of 1 completed\n",
      "[*********************100%***********************]  1 of 1 completed\n",
      "\n",
      "1 Failed download:\n",
      "- 000651.SS: No data found, symbol may be delisted\n",
      "[*********************100%***********************]  1 of 1 completed\n",
      "[*********************100%***********************]  1 of 1 completed\n",
      "[*********************100%***********************]  1 of 1 completed\n",
      "[*********************100%***********************]  1 of 1 completed\n",
      "[*********************100%***********************]  1 of 1 completed\n",
      "[*********************100%***********************]  1 of 1 completed\n",
      "\n",
      "1 Failed download:\n",
      "- 300274.SS: No data found, symbol may be delisted\n",
      "[*********************100%***********************]  1 of 1 completed\n",
      "[*********************100%***********************]  1 of 1 completed\n",
      "\n",
      "1 Failed download:\n",
      "- 002650.SS: No data found, symbol may be delisted\n",
      "[*********************100%***********************]  1 of 1 completed\n",
      "[*********************100%***********************]  1 of 1 completed\n",
      "\n",
      "1 Failed download:\n",
      "- 002666.SS: No data found, symbol may be delisted\n",
      "[*********************100%***********************]  1 of 1 completed\n",
      "[*********************100%***********************]  1 of 1 completed\n",
      "\n",
      "1 Failed download:\n",
      "- 000333.SS: No data found, symbol may be delisted\n",
      "[*********************100%***********************]  1 of 1 completed\n",
      "[*********************100%***********************]  1 of 1 completed\n",
      "\n",
      "1 Failed download:\n",
      "- 002594.SS: No data found, symbol may be delisted\n",
      "[*********************100%***********************]  1 of 1 completed\n",
      "[*********************100%***********************]  1 of 1 completed\n",
      "\n",
      "1 Failed download:\n",
      "- 002415.SS: No data found, symbol may be delisted\n",
      "[*********************100%***********************]  1 of 1 completed\n",
      "[*********************100%***********************]  1 of 1 completed\n",
      "[*********************100%***********************]  1 of 1 completed\n",
      "[*********************100%***********************]  1 of 1 completed\n",
      "[*********************100%***********************]  1 of 1 completed\n",
      "\n",
      "1 Failed download:\n",
      "- 000858.SS: No data found for this date range, symbol may be delisted\n",
      "[*********************100%***********************]  1 of 1 completed\n",
      "[*********************100%***********************]  1 of 1 completed\n",
      "[*********************100%***********************]  1 of 1 completed\n",
      "[*********************100%***********************]  1 of 1 completed\n",
      "\n",
      "1 Failed download:\n",
      "- 002714.SS: No data found, symbol may be delisted\n",
      "[*********************100%***********************]  1 of 1 completed\n",
      "[*********************100%***********************]  1 of 1 completed\n",
      "[*********************100%***********************]  1 of 1 completed\n",
      "[*********************100%***********************]  1 of 1 completed\n",
      "[*********************100%***********************]  1 of 1 completed\n",
      "[*********************100%***********************]  1 of 1 completed\n",
      "[*********************100%***********************]  1 of 1 completed\n",
      "[*********************100%***********************]  1 of 1 completed\n",
      "[*********************100%***********************]  1 of 1 completed\n",
      "[*********************100%***********************]  1 of 1 completed\n",
      "[*********************100%***********************]  1 of 1 completed\n",
      "[*********************100%***********************]  1 of 1 completed\n",
      "[*********************100%***********************]  1 of 1 completed\n",
      "\n",
      "1 Failed download:\n",
      "- 300760.SS: No data found, symbol may be delisted\n",
      "[*********************100%***********************]  1 of 1 completed\n",
      "[*********************100%***********************]  1 of 1 completed\n",
      "[*********************100%***********************]  1 of 1 completed\n",
      "\n",
      "1 Failed download:\n",
      "- 300015.SS: No data found, symbol may be delisted\n",
      "[*********************100%***********************]  1 of 1 completed\n",
      "[*********************100%***********************]  1 of 1 completed\n",
      "\n",
      "1 Failed download:\n",
      "- 300122.SS: No data found, symbol may be delisted\n",
      "[*********************100%***********************]  1 of 1 completed\n",
      "[*********************100%***********************]  1 of 1 completed\n",
      "[*********************100%***********************]  1 of 1 completed\n",
      "[*********************100%***********************]  1 of 1 completed\n",
      "\n",
      "1 Failed download:\n",
      "- 002607.SS: No data found, symbol may be delisted\n",
      "[*********************100%***********************]  1 of 1 completed\n",
      "[*********************100%***********************]  1 of 1 completed\n",
      "[*********************100%***********************]  1 of 1 completed\n",
      "\n",
      "1 Failed download:\n",
      "- 002027.SS: No data found, symbol may be delisted\n",
      "[*********************100%***********************]  1 of 1 completed\n",
      "[*********************100%***********************]  1 of 1 completed\n",
      "\n",
      "1 Failed download:\n",
      "- 300750.SS: No data found, symbol may be delisted\n",
      "[*********************100%***********************]  1 of 1 completed\n",
      "[*********************100%***********************]  1 of 1 completed\n",
      "\n",
      "1 Failed download:\n",
      "- 002475.SS: No data found, symbol may be delisted\n",
      "[*********************100%***********************]  1 of 1 completed\n",
      "[*********************100%***********************]  1 of 1 completed\n",
      "[*********************100%***********************]  1 of 1 completed\n",
      "[*********************100%***********************]  1 of 1 completed\n",
      "\n",
      "1 Failed download:\n",
      "- 000725.SS: No data found, symbol may be delisted\n",
      "[*********************100%***********************]  1 of 1 completed\n",
      "[*********************100%***********************]  1 of 1 completed\n",
      "\n",
      "1 Failed download:\n",
      "- 002352.SS: No data found, symbol may be delisted\n",
      "[*********************100%***********************]  1 of 1 completed\n",
      "[*********************100%***********************]  1 of 1 completed\n",
      "[*********************100%***********************]  1 of 1 completed\n",
      "[*********************100%***********************]  1 of 1 completed\n",
      "[*********************100%***********************]  1 of 1 completed\n",
      "[*********************100%***********************]  1 of 1 completed\n",
      "[*********************100%***********************]  1 of 1 completed\n",
      "\n",
      "1 Failed download:\n",
      "- 003816.SS: No data found, symbol may be delisted\n",
      "[*********************100%***********************]  1 of 1 completed\n",
      "[*********************100%***********************]  1 of 1 completed\n",
      "[*********************100%***********************]  1 of 1 completed\n",
      "[*********************100%***********************]  1 of 1 completed\n"
     ]
    }
   ],
   "source": [
    "chn20 = Data_processing(START_DATE3, END_DATE3, \"CHN\", chn_top5)"
   ]
  },
  {
   "cell_type": "code",
   "execution_count": 62,
   "metadata": {
    "colab": {
     "base_uri": "https://localhost:8080/",
     "height": 346
    },
    "id": "gAJv1y_-O6D2",
    "outputId": "6295957f-9dbb-44c4-b23b-cdf537b43eaf"
   },
   "outputs": [
    {
     "name": "stdout",
     "output_type": "stream",
     "text": [
      "PCA >= 90% components:  5 \n",
      "PCA >= 95% components:  8\n",
      "PCA explained variance: \n",
      " [29.85155129 15.29742318  2.57778901  2.3916778   1.65655548  1.14108962]\n",
      "PCA explained variance ratio: \n",
      " [0.52371143 0.26837585 0.04522437 0.04195926 0.02906238 0.02001912]\n"
     ]
    },
    {
     "data": {
      "image/png": "[encoded data removed]",
      "text/plain": [
       "<Figure size 432x288 with 1 Axes>"
      ]
     },
     "metadata": {
      "needs_background": "light"
     },
     "output_type": "display_data"
    }
   ],
   "source": [
    "CHN2020 = PCA_withTerm(chn20, chn_top5)"
   ]
  },
  {
   "cell_type": "code",
   "execution_count": 63,
   "metadata": {
    "colab": {
     "base_uri": "https://localhost:8080/",
     "height": 195
    },
    "id": "hTojCyDwO6Az",
    "outputId": "e8f5c7de-5b26-4c66-8dc6-a3df008fd49f"
   },
   "outputs": [
    {
     "data": {
      "text/html": [
       "<div>\n",
       "<style scoped>\n",
       "    .dataframe tbody tr th:only-of-type {\n",
       "        vertical-align: middle;\n",
       "    }\n",
       "\n",
       "    .dataframe tbody tr th {\n",
       "        vertical-align: top;\n",
       "    }\n",
       "\n",
       "    .dataframe thead th {\n",
       "        text-align: right;\n",
       "    }\n",
       "</style>\n",
       "<table border=\"1\" class=\"dataframe\">\n",
       "  <thead>\n",
       "    <tr style=\"text-align: right;\">\n",
       "      <th></th>\n",
       "      <th>Symbol</th>\n",
       "      <th>Corr</th>\n",
       "      <th>Name</th>\n",
       "      <th>Sector</th>\n",
       "    </tr>\n",
       "  </thead>\n",
       "  <tbody>\n",
       "    <tr>\n",
       "      <th>0</th>\n",
       "      <td>002352</td>\n",
       "      <td>0.980593</td>\n",
       "      <td>S.F. Holding Co</td>\n",
       "      <td>Transportation</td>\n",
       "    </tr>\n",
       "    <tr>\n",
       "      <th>1</th>\n",
       "      <td>000858</td>\n",
       "      <td>0.978501</td>\n",
       "      <td>Wuliangye A</td>\n",
       "      <td>Consumer Non-cyclical</td>\n",
       "    </tr>\n",
       "    <tr>\n",
       "      <th>2</th>\n",
       "      <td>601012</td>\n",
       "      <td>0.974733</td>\n",
       "      <td>Xian LONGi Silicon Materials</td>\n",
       "      <td>Technology</td>\n",
       "    </tr>\n",
       "    <tr>\n",
       "      <th>3</th>\n",
       "      <td>002493</td>\n",
       "      <td>0.959219</td>\n",
       "      <td>Rongsheng A</td>\n",
       "      <td>Basic Materials</td>\n",
       "    </tr>\n",
       "    <tr>\n",
       "      <th>4</th>\n",
       "      <td>300274</td>\n",
       "      <td>0.951405</td>\n",
       "      <td>Sungrow Power Supply</td>\n",
       "      <td>Conglomerates</td>\n",
       "    </tr>\n",
       "  </tbody>\n",
       "</table>\n",
       "</div>"
      ],
      "text/plain": [
       "   Symbol      Corr                          Name                 Sector\n",
       "0  002352  0.980593               S.F. Holding Co         Transportation\n",
       "1  000858  0.978501                   Wuliangye A  Consumer Non-cyclical\n",
       "2  601012  0.974733  Xian LONGi Silicon Materials             Technology\n",
       "3  002493  0.959219                   Rongsheng A        Basic Materials\n",
       "4  300274  0.951405          Sungrow Power Supply          Conglomerates"
      ]
     },
     "execution_count": 63,
     "metadata": {},
     "output_type": "execute_result"
    }
   ],
   "source": [
    "CHN2020.head()"
   ]
  },
  {
   "cell_type": "code",
   "execution_count": 64,
   "metadata": {
    "colab": {
     "base_uri": "https://localhost:8080/"
    },
    "id": "zwiVd30_O5-n",
    "outputId": "8236cfb7-926d-4ad7-b06c-c650de1982de"
   },
   "outputs": [
    {
     "data": {
      "text/plain": [
       "Capital Goods            5\n",
       "Consumer Non-cyclical    5\n",
       "Basic Materials          5\n",
       "Financial                5\n",
       "Consumer Cyclical        5\n",
       "Energy                   5\n",
       "Technology               5\n",
       "Services                 5\n",
       "Utilities                5\n",
       "Healthcare               5\n",
       "Transportation           4\n",
       "Conglomerates            3\n",
       "Name: Sector, dtype: int64"
      ]
     },
     "execution_count": 64,
     "metadata": {},
     "output_type": "execute_result"
    }
   ],
   "source": [
    "CHN2020.Sector.value_counts()"
   ]
  },
  {
   "cell_type": "markdown",
   "metadata": {
    "id": "APHmi5uCPqP5"
   },
   "source": [
    "#### 2020년 한국"
   ]
  },
  {
   "cell_type": "code",
   "execution_count": 65,
   "metadata": {
    "colab": {
     "base_uri": "https://localhost:8080/"
    },
    "id": "gyLK_xKyPo_f",
    "outputId": "e9cfc258-7a2d-4d6c-8abb-d0e8eac4a97f"
   },
   "outputs": [
    {
     "name": "stdout",
     "output_type": "stream",
     "text": [
      "[*********************100%***********************]  1 of 1 completed\n"
     ]
    }
   ],
   "source": [
    "ks113 = yf.download(\"^KS11\", START_DATE3, END_DATE3).Close"
   ]
  },
  {
   "cell_type": "code",
   "execution_count": 66,
   "metadata": {
    "colab": {
     "base_uri": "https://localhost:8080/"
    },
    "id": "wCsJQ5FpPpem",
    "outputId": "662ef615-9094-475f-b28d-16d7b76bd287",
    "scrolled": true
   },
   "outputs": [
    {
     "name": "stdout",
     "output_type": "stream",
     "text": [
      "[*********************100%***********************]  1 of 1 completed\n",
      "[*********************100%***********************]  1 of 1 completed\n",
      "[*********************100%***********************]  1 of 1 completed\n",
      "[*********************100%***********************]  1 of 1 completed\n",
      "[*********************100%***********************]  1 of 1 completed\n",
      "[*********************100%***********************]  1 of 1 completed\n",
      "[*********************100%***********************]  1 of 1 completed\n",
      "[*********************100%***********************]  1 of 1 completed\n",
      "[*********************100%***********************]  1 of 1 completed\n",
      "[*********************100%***********************]  1 of 1 completed\n",
      "[*********************100%***********************]  1 of 1 completed\n",
      "[*********************100%***********************]  1 of 1 completed\n",
      "[*********************100%***********************]  1 of 1 completed\n",
      "[*********************100%***********************]  1 of 1 completed\n",
      "[*********************100%***********************]  1 of 1 completed\n",
      "[*********************100%***********************]  1 of 1 completed\n",
      "[*********************100%***********************]  1 of 1 completed\n",
      "[*********************100%***********************]  1 of 1 completed\n",
      "[*********************100%***********************]  1 of 1 completed\n",
      "[*********************100%***********************]  1 of 1 completed\n",
      "[*********************100%***********************]  1 of 1 completed\n",
      "[*********************100%***********************]  1 of 1 completed\n",
      "[*********************100%***********************]  1 of 1 completed\n",
      "[*********************100%***********************]  1 of 1 completed\n",
      "[*********************100%***********************]  1 of 1 completed\n",
      "[*********************100%***********************]  1 of 1 completed\n",
      "[*********************100%***********************]  1 of 1 completed\n",
      "[*********************100%***********************]  1 of 1 completed\n",
      "[*********************100%***********************]  1 of 1 completed\n",
      "[*********************100%***********************]  1 of 1 completed\n",
      "[*********************100%***********************]  1 of 1 completed\n",
      "[*********************100%***********************]  1 of 1 completed\n",
      "[*********************100%***********************]  1 of 1 completed\n",
      "[*********************100%***********************]  1 of 1 completed\n",
      "\n",
      "1 Failed download:\n",
      "- 091990.KS: No data found, symbol may be delisted\n",
      "[*********************100%***********************]  1 of 1 completed\n",
      "\n",
      "1 Failed download:\n",
      "- 091990.KQ: No data found for this date range, symbol may be delisted\n",
      "[*********************100%***********************]  1 of 1 completed\n",
      "[*********************100%***********************]  1 of 1 completed\n",
      "[*********************100%***********************]  1 of 1 completed\n",
      "[*********************100%***********************]  1 of 1 completed\n",
      "[*********************100%***********************]  1 of 1 completed\n",
      "[*********************100%***********************]  1 of 1 completed\n",
      "[*********************100%***********************]  1 of 1 completed\n",
      "[*********************100%***********************]  1 of 1 completed\n",
      "[*********************100%***********************]  1 of 1 completed\n",
      "[*********************100%***********************]  1 of 1 completed\n",
      "[*********************100%***********************]  1 of 1 completed\n",
      "[*********************100%***********************]  1 of 1 completed\n",
      "[*********************100%***********************]  1 of 1 completed\n",
      "[*********************100%***********************]  1 of 1 completed\n",
      "[*********************100%***********************]  1 of 1 completed\n",
      "[*********************100%***********************]  1 of 1 completed\n",
      "[*********************100%***********************]  1 of 1 completed\n",
      "[*********************100%***********************]  1 of 1 completed\n",
      "[*********************100%***********************]  1 of 1 completed\n",
      "[*********************100%***********************]  1 of 1 completed\n",
      "[*********************100%***********************]  1 of 1 completed\n",
      "[*********************100%***********************]  1 of 1 completed\n"
     ]
    }
   ],
   "source": [
    "kor20 = Data_processing(START_DATE3, END_DATE3, \"KOR\", kor_top5)"
   ]
  },
  {
   "cell_type": "code",
   "execution_count": 67,
   "metadata": {
    "colab": {
     "base_uri": "https://localhost:8080/",
     "height": 346
    },
    "id": "tMvvqrqhPpPl",
    "outputId": "7181babd-c33e-405c-b5be-bf595ec03ec0"
   },
   "outputs": [
    {
     "name": "stdout",
     "output_type": "stream",
     "text": [
      "PCA >= 90% components:  5 \n",
      "PCA >= 95% components:  8\n",
      "PCA explained variance: \n",
      " [23.8072971  18.57032636  4.63284237  1.58932234  1.00897178  0.87037623]\n",
      "PCA explained variance ratio: \n",
      " [0.44087587 0.34389493 0.08579338 0.0294319  0.01868466 0.01611808]\n"
     ]
    },
    {
     "data": {
      "image/png": "[encoded data removed]",
      "text/plain": [
       "<Figure size 432x288 with 1 Axes>"
      ]
     },
     "metadata": {
      "needs_background": "light"
     },
     "output_type": "display_data"
    }
   ],
   "source": [
    "KOR2020 = PCA_withTerm(kor20, kor_top5)"
   ]
  },
  {
   "cell_type": "code",
   "execution_count": 68,
   "metadata": {
    "colab": {
     "base_uri": "https://localhost:8080/",
     "height": 195
    },
    "id": "VVbnN3G4PotE",
    "outputId": "0fa8de89-70f0-497e-9276-d8787b70a72d"
   },
   "outputs": [
    {
     "data": {
      "text/html": [
       "<div>\n",
       "<style scoped>\n",
       "    .dataframe tbody tr th:only-of-type {\n",
       "        vertical-align: middle;\n",
       "    }\n",
       "\n",
       "    .dataframe tbody tr th {\n",
       "        vertical-align: top;\n",
       "    }\n",
       "\n",
       "    .dataframe thead th {\n",
       "        text-align: right;\n",
       "    }\n",
       "</style>\n",
       "<table border=\"1\" class=\"dataframe\">\n",
       "  <thead>\n",
       "    <tr style=\"text-align: right;\">\n",
       "      <th></th>\n",
       "      <th>Symbol</th>\n",
       "      <th>Corr</th>\n",
       "      <th>Name</th>\n",
       "      <th>Sector</th>\n",
       "    </tr>\n",
       "  </thead>\n",
       "  <tbody>\n",
       "    <tr>\n",
       "      <th>0</th>\n",
       "      <td>180640</td>\n",
       "      <td>0.182242</td>\n",
       "      <td>Hanjinkal</td>\n",
       "      <td>Transportation</td>\n",
       "    </tr>\n",
       "    <tr>\n",
       "      <th>1</th>\n",
       "      <td>010950</td>\n",
       "      <td>-0.173344</td>\n",
       "      <td>S-Oil Corp</td>\n",
       "      <td>Energy</td>\n",
       "    </tr>\n",
       "    <tr>\n",
       "      <th>2</th>\n",
       "      <td>03473K</td>\n",
       "      <td>-0.242885</td>\n",
       "      <td>SK Holdings</td>\n",
       "      <td>Energy</td>\n",
       "    </tr>\n",
       "    <tr>\n",
       "      <th>3</th>\n",
       "      <td>068270</td>\n",
       "      <td>-0.291834</td>\n",
       "      <td>Celltrion</td>\n",
       "      <td>Healthcare</td>\n",
       "    </tr>\n",
       "    <tr>\n",
       "      <th>4</th>\n",
       "      <td>032640</td>\n",
       "      <td>-0.299791</td>\n",
       "      <td>LG Uplus</td>\n",
       "      <td>Services</td>\n",
       "    </tr>\n",
       "  </tbody>\n",
       "</table>\n",
       "</div>"
      ],
      "text/plain": [
       "   Symbol      Corr         Name          Sector\n",
       "0  180640  0.182242    Hanjinkal  Transportation\n",
       "1  010950 -0.173344   S-Oil Corp          Energy\n",
       "2  03473K -0.242885  SK Holdings          Energy\n",
       "3  068270 -0.291834    Celltrion      Healthcare\n",
       "4  032640 -0.299791     LG Uplus        Services"
      ]
     },
     "execution_count": 68,
     "metadata": {},
     "output_type": "execute_result"
    }
   ],
   "source": [
    "KOR2020.head()"
   ]
  },
  {
   "cell_type": "code",
   "execution_count": 69,
   "metadata": {
    "colab": {
     "base_uri": "https://localhost:8080/"
    },
    "id": "a_l2tTrUQBbo",
    "outputId": "328820d8-5d68-49bc-ba40-6550ce90dc4e"
   },
   "outputs": [
    {
     "data": {
      "text/plain": [
       "Capital Goods            5\n",
       "Energy                   5\n",
       "Consumer Non-cyclical    5\n",
       "Basic Materials          5\n",
       "Financial                5\n",
       "Transportation           5\n",
       "Consumer Cyclical        5\n",
       "Technology               5\n",
       "Services                 5\n",
       "Utilities                5\n",
       "Healthcare               3\n",
       "Conglomerates            1\n",
       "Name: Sector, dtype: int64"
      ]
     },
     "execution_count": 69,
     "metadata": {},
     "output_type": "execute_result"
    }
   ],
   "source": [
    "KOR2020.Sector.value_counts()"
   ]
  }
 ],
 "metadata": {
  "colab": {
   "collapsed_sections": [],
   "name": "경특4_텀페이퍼.ipynb",
   "provenance": []
  },
  "kernelspec": {
   "display_name": "Python 3",
   "language": "python",
   "name": "python3"
  },
  "language_info": {
   "codemirror_mode": {
    "name": "ipython",
    "version": 3
   },
   "file_extension": ".py",
   "mimetype": "text/x-python",
   "name": "python",
   "nbconvert_exporter": "python",
   "pygments_lexer": "ipython3",
   "version": "3.7.3"
  }
 },
 "nbformat": 4,
 "nbformat_minor": 1
}
