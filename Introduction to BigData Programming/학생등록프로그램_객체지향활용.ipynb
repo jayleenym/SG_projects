{
 "cells": [
  {
   "cell_type": "markdown",
   "source": [
    "### 중간고사\n",
    "# 학생등록프로그램_객체지향"
   ],
   "metadata": {}
  },
  {
   "cell_type": "code",
   "execution_count": 1,
   "source": [
    "%%writefile student.py\n",
    "\n",
    "class Student(object):\n",
    "    def __init__(self, num, name, kor, eng, math):\n",
    "        self._num = num\n",
    "        self._name = name\n",
    "        self._kor = kor\n",
    "        self._eng = eng\n",
    "        self._math = math\n",
    "        \n",
    "        self._total = self._kor + self._eng + self._math\n",
    "        self._avg = self._total / 3\n",
    "        self._order = 0\n",
    "        \n",
    "    @property\n",
    "    def num(self): return self._num\n",
    "    \n",
    "    @property\n",
    "    def name(self): return self._name\n",
    "\n",
    "    @property\n",
    "    def kor(self): return self._kor\n",
    "    \n",
    "    @property\n",
    "    def eng(self): return self._eng\n",
    "\n",
    "    @property\n",
    "    def math(self): return self._math\n",
    "    \n",
    "    @property\n",
    "    def total(self): return self._total\n",
    "    \n",
    "    @property\n",
    "    def avg(self): return self._avg\n",
    "    \n",
    "    @property\n",
    "    def order(self): return self._order\n",
    "    \n",
    "    @order.setter\n",
    "    def order(self, value): self._order = value\n",
    "    "
   ],
   "outputs": [
    {
     "output_type": "stream",
     "name": "stdout",
     "text": [
      "Overwriting student_수정.py\n"
     ]
    }
   ],
   "metadata": {}
  },
  {
   "cell_type": "code",
   "execution_count": 2,
   "source": [
    "%%writefile studentgradingsystem.py\n",
    "\n",
    "from student import Student\n",
    "\n",
    "class StudentGradingSystem(object):\n",
    "    def __init__(self):\n",
    "        self._students = []\n",
    "        \n",
    "        self._class_avg = 0.0\n",
    "        self._kor_avg = 0.0\n",
    "        self._eng_avg = 0.0\n",
    "        self._math_avg = 0.0\n",
    "        \n",
    "    def register_student(self, student):\n",
    "        self._students.append(student)\n",
    "    \n",
    "    def process(self):\n",
    "        sort_stu = sorted(self._students, key = lambda x: x.total, reverse = True)\n",
    "        \n",
    "        for student in sort_stu:\n",
    "            student.order = sum(s.avg > student.avg for s in sort_stu) + 1\n",
    "        \n",
    "        self._students = sort_stu\n",
    "        \n",
    "        self._class_avg = sum([s.total for s in self._students]) / len(self._students)\n",
    "        self._kor_avg = sum([s.kor for s in self._students]) / len(self._students)\n",
    "        self._eng_avg = sum([s.eng for s in self._students]) / len(self._students)\n",
    "        self._math_avg = sum([s.math for s in self._students]) / len(self._students)\n",
    "\n",
    "        \n",
    "    def print_students(self):\n",
    "        for s in self._students:\n",
    "            print(f\"번호: {s.num}, 이름: {s.name}, 국어: {s.kor}, 영어: {s.eng}, 수학: {s.math}, 총점: {s.total}, \\\n",
    "평균: {s.avg:.2f}, 등수: {s.order}\")\n",
    "            \n",
    "    def print_class_information(self):\n",
    "        print(f\"총점 반평균: {self._class_avg:.2f}\\n국어 반평균: {self._kor_avg:.2f}\\n영어 반평균: {self._eng_avg:.2f}\\n\\\n",
    "수학 반평균: {self._math_avg:.2f}\")"
   ],
   "outputs": [
    {
     "output_type": "stream",
     "name": "stdout",
     "text": [
      "Overwriting studentgradingsystem_수정.py\n"
     ]
    }
   ],
   "metadata": {}
  },
  {
   "cell_type": "code",
   "execution_count": 3,
   "source": [
    "def checkTime(func):\n",
    "    import time\n",
    "    def new(*args, **kwargs):\n",
    "        s = time.time()\n",
    "        func(*args, **kwargs)\n",
    "        e = time.time()\n",
    "        print(\"\\n실행시간은:\", e - s)\n",
    "    \n",
    "    return new"
   ],
   "outputs": [],
   "metadata": {}
  },
  {
   "cell_type": "code",
   "execution_count": 4,
   "source": [
    "@checkTime\n",
    "def main():\n",
    "    from student import Student\n",
    "    from studentgradingsystem import StudentGradingSystem\n",
    "    \n",
    "    student_grade_system = StudentGradingSystem()\n",
    "    \n",
    "    student = Student(\"1\", '서강일', 90, 80, 85)\n",
    "    student_grade_system.register_student(student)\n",
    "    \n",
    "    student = Student(\"2\", '서강이', 90, 85, 95)\n",
    "    student_grade_system.register_student(student)\n",
    "    \n",
    "    student = Student(\"3\", '서강삼', 80, 80, 80)\n",
    "    student_grade_system.register_student(student)\n",
    "        \n",
    "    student = Student(\"4\", '서강사', 90, 92, 83)\n",
    "    student_grade_system.register_student(student)\n",
    "        \n",
    "    student = Student(\"5\", '서강오', 85, 90, 90)\n",
    "    student_grade_system.register_student(student)\n",
    "    \n",
    "    \n",
    "    student_grade_system.process()\n",
    "    student_grade_system.print_students()\n",
    "    print()\n",
    "    student_grade_system.print_class_information()"
   ],
   "outputs": [],
   "metadata": {}
  },
  {
   "cell_type": "code",
   "execution_count": 5,
   "source": [
    "main()"
   ],
   "outputs": [
    {
     "output_type": "stream",
     "name": "stdout",
     "text": [
      "번호: 2, 이름: 서강이, 국어: 90, 영어: 85, 수학: 95, 총점: 270, 평균: 90.00, 등수: 1\n",
      "번호: 4, 이름: 서강사, 국어: 90, 영어: 92, 수학: 83, 총점: 265, 평균: 88.33, 등수: 2\n",
      "번호: 5, 이름: 서강오, 국어: 85, 영어: 90, 수학: 90, 총점: 265, 평균: 88.33, 등수: 2\n",
      "번호: 1, 이름: 서강일, 국어: 90, 영어: 80, 수학: 85, 총점: 255, 평균: 85.00, 등수: 4\n",
      "번호: 3, 이름: 서강삼, 국어: 80, 영어: 80, 수학: 80, 총점: 240, 평균: 80.00, 등수: 5\n",
      "\n",
      "총점 반평균: 259.00\n",
      "국어 반평균: 87.00\n",
      "영어 반평균: 85.40\n",
      "수학 반평균: 86.60\n",
      "\n",
      "실행시간은: 0.002907991409301758\n"
     ]
    }
   ],
   "metadata": {}
  },
  {
   "cell_type": "code",
   "execution_count": null,
   "source": [],
   "outputs": [],
   "metadata": {}
  }
 ],
 "metadata": {
  "kernelspec": {
   "display_name": "Python 3.8.5 64-bit (conda)",
   "language": "python",
   "name": "python385jvsc74a57bd0dca0ade3e726a953b501b15e8e990130d2b7799f14cfd9f4271676035ebe5511"
  },
  "language_info": {
   "codemirror_mode": {
    "name": "ipython",
    "version": 3
   },
   "file_extension": ".py",
   "mimetype": "text/x-python",
   "name": "python",
   "nbconvert_exporter": "python",
   "pygments_lexer": "ipython3",
   "version": "3.8.5"
  }
 },
 "nbformat": 4,
 "nbformat_minor": 5
}